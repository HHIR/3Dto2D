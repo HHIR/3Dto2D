{
  "nbformat": 4,
  "nbformat_minor": 0,
  "metadata": {
    "colab": {
      "name": "Hello, Colaboratory",
      "version": "0.3.2",
      "provenance": [],
      "collapsed_sections": [],
      "toc_visible": true,
      "include_colab_link": true
    },
    "kernelspec": {
      "name": "python3",
      "display_name": "Python 3"
    }
  },
  "cells": [
    {
      "cell_type": "markdown",
      "metadata": {
        "id": "view-in-github",
        "colab_type": "text"
      },
      "source": [
        "<a href=\"https://colab.research.google.com/github/Hosseinhashemiir/3Dto2D/blob/master/Generation.ipynb\" target=\"_parent\"><img src=\"https://colab.research.google.com/assets/colab-badge.svg\" alt=\"Open In Colab\"/></a>"
      ]
    },
    {
      "metadata": {
        "colab_type": "text",
        "id": "9J7p406abzgl"
      },
      "cell_type": "markdown",
      "source": [
        "<img height=\"60px\" src=\"https://colab.research.google.com/img/colab_favicon.ico\" align=\"left\" hspace=\"20px\" vspace=\"5px\">\n",
        "\n",
        "<h1>Welcome to Code!</h1>\n",
        "Colaboratory is a free Jupyter notebook environment that requires no setup and runs entirely in the cloud. See our [FAQ](https://research.google.com/colaboratory/faq.html) for more info."
      ]
    },
    {
      "metadata": {
        "id": "Bkb3-PWaUmaw",
        "colab_type": "code",
        "outputId": "d8e86a1d-290c-4ea0-c197-42eee2bd193f",
        "colab": {
          "base_uri": "https://localhost:8080/",
          "height": 180
        }
      },
      "cell_type": "code",
      "source": [
        "!pip install fake_useragent"
      ],
      "execution_count": 0,
      "outputs": [
        {
          "output_type": "stream",
          "text": [
            "Collecting fake_useragent\n",
            "  Using cached https://files.pythonhosted.org/packages/d1/79/af647635d6968e2deb57a208d309f6069d31cb138066d7e821e575112a80/fake-useragent-0.1.11.tar.gz\n",
            "Building wheels for collected packages: fake-useragent\n",
            "  Running setup.py bdist_wheel for fake-useragent ... \u001b[?25l-\b \bdone\n",
            "\u001b[?25h  Stored in directory: /root/.cache/pip/wheels/5e/63/09/d1dc15179f175357d3f5c00cbffbac37f9e8690d80545143ff\n",
            "Successfully built fake-useragent\n",
            "Installing collected packages: fake-useragent\n",
            "Successfully installed fake-useragent-0.1.11\n"
          ],
          "name": "stdout"
        }
      ]
    },
    {
      "metadata": {
        "id": "bhIS-LoHUiJX",
        "colab_type": "code",
        "outputId": "3b63775b-9679-4224-f427-4bb0602d5fe5",
        "colab": {
          "base_uri": "https://localhost:8080/",
          "height": 339
        }
      },
      "cell_type": "code",
      "source": [
        "from urllib.request import Request, urlopen\n",
        "from bs4 import BeautifulSoup\n",
        "from fake_useragent import UserAgent\n",
        "import random\n",
        "\n",
        "ua = UserAgent() # From here we generate a random user agent\n",
        "proxies = [] # Will contain proxies [ip, port]\n",
        "\n",
        "# Main function\n",
        "def main():\n",
        "  # Retrieve latest proxies\n",
        "  proxies_req = Request('https://www.sslproxies.org/')\n",
        "  proxies_req.add_header('User-Agent', ua.random)\n",
        "  proxies_doc = urlopen(proxies_req).read().decode('utf8')\n",
        "\n",
        "  soup = BeautifulSoup(proxies_doc, 'html.parser')\n",
        "  proxies_table = soup.find(id='proxylisttable')\n",
        "\n",
        "  # Save proxies in the array\n",
        "  for row in proxies_table.tbody.find_all('tr'):\n",
        "    proxies.append({\n",
        "      'ip':   row.find_all('td')[0].string,\n",
        "      'port': row.find_all('td')[1].string\n",
        "    })\n",
        "\n",
        "  # Choose a random proxy\n",
        "  proxy_index = random_proxy()\n",
        "  proxy = proxies[proxy_index]\n",
        "\n",
        "  for n in range(1, 10):\n",
        "    req = Request('http://icanhazip.com')\n",
        "    #req1 = Request('https://ifconfig.co/ip')\n",
        "    req.set_proxy(proxy['ip'] + ':' + proxy['port'], 'http')\n",
        "    #req1.set_proxy(proxy['ip'] + ':' + proxy['port'], 'http')\n",
        "    #my_ip = urlopen(req).read().decode('utf8')\n",
        "    #print('#' + str(n) + ': ' + my_ip)\n",
        "    # Every 10 requests, generate a new proxy\n",
        "    if n % 2 == 0:\n",
        "      proxy_index = random_proxy()\n",
        "      proxy = proxies[proxy_index]\n",
        "    # Make the call\n",
        "    try:\n",
        "      #conn77 = urlopen('http://httpbin.org/ip').read().decode('utf8')\n",
        "      #print('hi')\n",
        "      #print(conn77.read())\n",
        "      my_ip = urlopen(req).read().decode('utf8')\n",
        "      print('#' + str(n) + ': ' + my_ip)\n",
        "      #my_ip1 = urlopen(req1).read().decode('utf8')\n",
        "      #print('#' + str(n) + ': ' + my_ip1)\n",
        "      #conn77 = urllib2.urlopen('http://httpbin.org/ip')\n",
        "      #print(\"hossein:\")\n",
        "      #print(conn77.read())\n",
        "    except: # If error, delete this proxy and find another one\n",
        "      del proxies[proxy_index]\n",
        "      #print('Proxy ' + proxy['ip'] + ':' + proxy['port'] + ' deleted.')\n",
        "      proxy_index = random_proxy()\n",
        "      proxy = proxies[proxy_index]\n",
        "   # !curl 'https://api.ipify.org?format=json'\n",
        "# Retrieve a random index proxy (we need the index to delete it if not working)\n",
        "def random_proxy():\n",
        "  return random.randint(0, len(proxies) - 1)\n",
        "\n",
        "if __name__ == '__main__':\n",
        "  main()\n",
        "  "
      ],
      "execution_count": 0,
      "outputs": [
        {
          "output_type": "stream",
          "text": [
            "#1: 85.223.185.230\n",
            "\n",
            "#2: 85.223.185.230\n",
            "\n",
            "#3: 79.120.246.52\n",
            "\n",
            "#4: 79.120.246.52\n",
            "\n",
            "#5: 178.128.54.106\n",
            "\n",
            "#6: 178.128.54.106\n",
            "\n",
            "#7: 80.55.136.218\n",
            "\n",
            "#8: 80.55.136.218\n",
            "\n",
            "#9: 117.242.147.85\n",
            "\n"
          ],
          "name": "stdout"
        }
      ]
    },
    {
      "metadata": {
        "id": "qLJct6IwlZ9w",
        "colab_type": "code",
        "outputId": "3a6a18bf-e587-4ccf-a172-038b63d86173",
        "colab": {
          "base_uri": "https://localhost:8080/",
          "height": 106
        }
      },
      "cell_type": "code",
      "source": [
        "!apt-get install python-urllib3 "
      ],
      "execution_count": 0,
      "outputs": [
        {
          "output_type": "stream",
          "text": [
            "Reading package lists... Done\n",
            "Building dependency tree       \n",
            "Reading state information... Done\n",
            "python-urllib3 is already the newest version (1.22-1).\n",
            "0 upgraded, 0 newly installed, 0 to remove and 5 not upgraded.\n"
          ],
          "name": "stdout"
        }
      ]
    },
    {
      "metadata": {
        "id": "9XggIw__VCTM",
        "colab_type": "code",
        "outputId": "79d7ea67-b903-4fb1-a311-4e01a9b92a14",
        "colab": {
          "base_uri": "https://localhost:8080/",
          "height": 35
        }
      },
      "cell_type": "code",
      "source": [
        "!curl 'https://api.ipify.org?format=json'"
      ],
      "execution_count": 0,
      "outputs": [
        {
          "output_type": "stream",
          "text": [
            "{\"ip\":\"35.227.121.216\"}"
          ],
          "name": "stdout"
        }
      ]
    },
    {
      "metadata": {
        "id": "QPITzyKVzXe7",
        "colab_type": "code",
        "outputId": "b0e08d8a-a898-4a74-b08b-c81c8b2d99c7",
        "colab": {
          "base_uri": "https://localhost:8080/",
          "height": 216
        }
      },
      "cell_type": "code",
      "source": [
        "!pip install requests\n",
        "!pip3 install requests"
      ],
      "execution_count": 0,
      "outputs": [
        {
          "output_type": "stream",
          "text": [
            "Requirement already satisfied: requests in /usr/local/lib/python2.7/dist-packages (2.18.4)\n",
            "Requirement already satisfied: idna<2.7,>=2.5 in /usr/local/lib/python2.7/dist-packages (from requests) (2.6)\n",
            "Requirement already satisfied: urllib3<1.23,>=1.21.1 in /usr/local/lib/python2.7/dist-packages (from requests) (1.22)\n",
            "Requirement already satisfied: certifi>=2017.4.17 in /usr/local/lib/python2.7/dist-packages (from requests) (2018.10.15)\n",
            "Requirement already satisfied: chardet<3.1.0,>=3.0.2 in /usr/local/lib/python2.7/dist-packages (from requests) (3.0.4)\n",
            "Requirement already satisfied: requests in /usr/local/lib/python3.6/dist-packages (2.18.4)\n",
            "Requirement already satisfied: urllib3<1.23,>=1.21.1 in /usr/local/lib/python3.6/dist-packages (from requests) (1.22)\n",
            "Requirement already satisfied: chardet<3.1.0,>=3.0.2 in /usr/local/lib/python3.6/dist-packages (from requests) (3.0.4)\n",
            "Requirement already satisfied: certifi>=2017.4.17 in /usr/local/lib/python3.6/dist-packages (from requests) (2018.10.15)\n",
            "Requirement already satisfied: idna<2.7,>=2.5 in /usr/local/lib/python3.6/dist-packages (from requests) (2.6)\n"
          ],
          "name": "stdout"
        }
      ]
    },
    {
      "metadata": {
        "id": "6KNhKuSJ1svW",
        "colab_type": "code",
        "outputId": "045ab954-7933-4f79-f0b1-7a918853715d",
        "colab": {
          "base_uri": "https://localhost:8080/",
          "height": 386
        }
      },
      "cell_type": "code",
      "source": [
        "import urllib2\n",
        "conn2 = urllib.urlopen(\"http://httpbin.org/ip\").read()\n",
        "print(conn2)\n",
        "\n",
        "\n",
        "proxy = urllib2.ProxyHandler({'http': 'http://185.198.184.14:48122',\n",
        "                              'https': 'https://110.36.181.37:80'}\n",
        "                             )\n",
        "auth = urllib2.HTTPBasicAuthHandler()\n",
        "opener = urllib2.build_opener(proxy, auth, urllib2.HTTPHandler)\n",
        "urllib2.install_opener(opener)\n",
        "conn = urllib2.urlopen('http://httpbin.org/ip')\n",
        "print(conn.read())\n",
        "return_str = conn.read()"
      ],
      "execution_count": 0,
      "outputs": [
        {
          "output_type": "error",
          "ename": "ModuleNotFoundError",
          "evalue": "ignored",
          "traceback": [
            "\u001b[0;31m---------------------------------------------------------------------------\u001b[0m",
            "\u001b[0;31mModuleNotFoundError\u001b[0m                       Traceback (most recent call last)",
            "\u001b[0;32m<ipython-input-1-852c57a4a5d5>\u001b[0m in \u001b[0;36m<module>\u001b[0;34m()\u001b[0m\n\u001b[0;32m----> 1\u001b[0;31m \u001b[0;32mimport\u001b[0m \u001b[0murllib2\u001b[0m\u001b[0;34m\u001b[0m\u001b[0m\n\u001b[0m\u001b[1;32m      2\u001b[0m \u001b[0mconn2\u001b[0m \u001b[0;34m=\u001b[0m \u001b[0murllib\u001b[0m\u001b[0;34m.\u001b[0m\u001b[0murlopen\u001b[0m\u001b[0;34m(\u001b[0m\u001b[0;34m\"http://httpbin.org/ip\"\u001b[0m\u001b[0;34m)\u001b[0m\u001b[0;34m.\u001b[0m\u001b[0mread\u001b[0m\u001b[0;34m(\u001b[0m\u001b[0;34m)\u001b[0m\u001b[0;34m\u001b[0m\u001b[0m\n\u001b[1;32m      3\u001b[0m \u001b[0mprint\u001b[0m\u001b[0;34m(\u001b[0m\u001b[0mconn2\u001b[0m\u001b[0;34m)\u001b[0m\u001b[0;34m\u001b[0m\u001b[0m\n\u001b[1;32m      4\u001b[0m \u001b[0;34m\u001b[0m\u001b[0m\n\u001b[1;32m      5\u001b[0m \u001b[0;34m\u001b[0m\u001b[0m\n",
            "\u001b[0;31mModuleNotFoundError\u001b[0m: No module named 'urllib2'",
            "",
            "\u001b[0;31m---------------------------------------------------------------------------\u001b[0;32m\nNOTE: If your import is failing due to a missing package, you can\nmanually install dependencies using either !pip or !apt.\n\nTo view examples of installing some common dependencies, click the\n\"Open Examples\" button below.\n\u001b[0;31m---------------------------------------------------------------------------\u001b[0m\n"
          ]
        }
      ]
    }
  ]
}