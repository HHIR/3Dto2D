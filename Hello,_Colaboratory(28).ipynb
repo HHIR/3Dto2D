{
  "nbformat": 4,
  "nbformat_minor": 0,
  "metadata": {
    "colab": {
      "name": "Hello, Colaboratory",
      "version": "0.3.2",
      "provenance": [],
      "collapsed_sections": [],
      "toc_visible": true
    },
    "kernelspec": {
      "name": "python2",
      "display_name": "Python 2"
    }
  },
  "cells": [
    {
      "metadata": {
        "colab_type": "text",
        "id": "9J7p406abzgl"
      },
      "cell_type": "markdown",
      "source": [
        "<img height=\"60px\" src=\"https://colab.research.google.com/img/colab_favicon.ico\" align=\"left\" hspace=\"20px\" vspace=\"5px\">\n",
        "\n",
        "<h1>Welcome to Colaboratory!</h1>\n",
        "Colaboratory is a free Jupyter notebook environment that requires no setup and runs entirely in the cloud. See our [FAQ](https://research.google.com/colaboratory/faq.html) for more info."
      ]
    },
    {
      "metadata": {
        "id": "IWy3MMPCKm9B",
        "colab_type": "code",
        "outputId": "fcc0dfa4-133c-45ae-f40a-6f9ebfe6642c",
        "colab": {
          "base_uri": "https://localhost:8080/",
          "height": 127
        }
      },
      "cell_type": "code",
      "source": [
        "!pip install requests"
      ],
      "execution_count": 1,
      "outputs": [
        {
          "output_type": "stream",
          "text": [
            "Requirement already satisfied: requests in /usr/local/lib/python2.7/dist-packages (2.18.4)\n",
            "Requirement already satisfied: idna<2.7,>=2.5 in /usr/local/lib/python2.7/dist-packages (from requests) (2.6)\n",
            "Requirement already satisfied: urllib3<1.23,>=1.21.1 in /usr/local/lib/python2.7/dist-packages (from requests) (1.22)\n",
            "Requirement already satisfied: certifi>=2017.4.17 in /usr/local/lib/python2.7/dist-packages (from requests) (2018.10.15)\n",
            "Requirement already satisfied: chardet<3.1.0,>=3.0.2 in /usr/local/lib/python2.7/dist-packages (from requests) (3.0.4)\n"
          ],
          "name": "stdout"
        }
      ]
    },
    {
      "metadata": {
        "id": "NR1QMbjtLPkY",
        "colab_type": "code",
        "outputId": "eb4524a0-355f-416e-f9d4-f4244923b36d",
        "colab": {
          "base_uri": "https://localhost:8080/",
          "height": 180
        }
      },
      "cell_type": "code",
      "source": [
        "!pip install torrequest"
      ],
      "execution_count": 2,
      "outputs": [
        {
          "output_type": "stream",
          "text": [
            "Requirement already satisfied: torrequest in /usr/local/lib/python2.7/dist-packages (0.1.0)\n",
            "Requirement already satisfied: stem>=1.4.0 in /usr/local/lib/python2.7/dist-packages (from torrequest) (1.7.0)\n",
            "Requirement already satisfied: requests>=2.11.0 in /usr/local/lib/python2.7/dist-packages (from torrequest) (2.18.4)\n",
            "Requirement already satisfied: PySocks>=1.5.7 in /usr/local/lib/python2.7/dist-packages (from torrequest) (1.6.8)\n",
            "Requirement already satisfied: idna<2.7,>=2.5 in /usr/local/lib/python2.7/dist-packages (from requests>=2.11.0->torrequest) (2.6)\n",
            "Requirement already satisfied: urllib3<1.23,>=1.21.1 in /usr/local/lib/python2.7/dist-packages (from requests>=2.11.0->torrequest) (1.22)\n",
            "Requirement already satisfied: certifi>=2017.4.17 in /usr/local/lib/python2.7/dist-packages (from requests>=2.11.0->torrequest) (2018.10.15)\n",
            "Requirement already satisfied: chardet<3.1.0,>=3.0.2 in /usr/local/lib/python2.7/dist-packages (from requests>=2.11.0->torrequest) (3.0.4)\n"
          ],
          "name": "stdout"
        }
      ]
    },
    {
      "metadata": {
        "id": "GWXdEPS3PGuc",
        "colab_type": "code",
        "outputId": "d08f335e-1edf-4b93-8ea0-f541c30f473c",
        "colab": {
          "base_uri": "https://localhost:8080/",
          "height": 135
        }
      },
      "cell_type": "code",
      "source": [
        "\n",
        "\n",
        "import requests\n",
        "import hmac\n",
        "import hashlib\n",
        "import random\n",
        "import string\n",
        "import json\n",
        "import argparse\n",
        "\n",
        "def HMAC(text):\n",
        "    key = '3f0a7d75e094c7385e3dbaa026877f2e067cbd1a4dbcf3867748f6b26f257117'\n",
        "    hash = hmac.new(key,msg=text,digestmod=hashlib.sha256)\n",
        "    return hash.hexdigest()\n",
        "\n",
        "def randomString(size):\n",
        "    chars = string.ascii_lowercase + string.digits\n",
        "    return ''.join(random.choice(chars) for _ in range(size))\n",
        "\n",
        "\n",
        "\n",
        "\n",
        "def main():\n",
        "    username='farnaz_fadai55s5'\n",
        "    name='farnaz fadaii'\n",
        "    password='farnazs55s5'\n",
        "    email= 'farnaz_fadaii@ymail.com'\n",
        "\n",
        "    getHeaders = {'User-Agent':'Instagram 7.1.1 Android (21/5.0.2; 480dpi; 1080x1776; LGE/Google; Nexus 5; hammerhead; hammerhead; en_US)',\n",
        "               'Accept':'text/html,application/xhtml+xml,application/xml;q=0.9,image/webp,*/*;q=0.8',\n",
        "               'Accept-Encoding':'gzip, deflate, sdch',\n",
        "               'Accept-Language':'en-US,en;q=0.8',\n",
        "               'upgrade-insecure-requests':'1'}\n",
        "\n",
        "    s = requests.Session()\n",
        "    s.get('https://instagram.com',headers=getHeaders)\n",
        "    guid = randomString(8) + '-' + randomString(4) + \"-\" + randomString(4) + '-' + randomString(4) + '-' +randomString(12)\n",
        "    device_id = 'android-' + str(HMAC(str(random.randint(1000,9999))))[0:min(64,16)]\n",
        "    information = {'username':username,'first_name':name,'password':password,'email':email,'device_id':device_id,'guid':guid}\n",
        "    js = json.dumps(information)\n",
        "    payload = {'signed_body': HMAC(js) + '.' + js,'ig_sig_key_version':'4'}\n",
        "    postHeaders = {'Host':'i.instagram.com',\n",
        "                  'User-Agent':'Instagram 7.1.1 Android (21/5.0.2; 480dpi; 1080x1776; LGE/Google; Nexus 5; hammerhead; hammerhead; en_US)',\n",
        "                  'Accept-Language':'en-US',\n",
        "                  'Accept-Encoding':'gzip',\n",
        "                  'Cookie2':'$Version=1',\n",
        "                  'X-IG-Connection-Type':'WIFI',\n",
        "                  'X-IG-Capabilities':'BQ=='\n",
        "                  }\n",
        "    x = s.post('https://i.instagram.com/api/v1/accounts/create/',headers=postHeaders,data=payload)\n",
        "    result = json.loads(x.content)\n",
        "    print (result)\n",
        "    if result['status'] != 'fail':\n",
        "        if result['account_created'] == True:\n",
        "            print 'Account has been created successfully'\n",
        "        else:\n",
        "            print 'Error:'\n",
        "            for i in result['errors']:\n",
        "                print str(result['errors'][i][0])\n",
        "    else:\n",
        "        if result['spam'] == True:\n",
        "            print ('Instagram blocks your IP due to spamming behaviour.')\n",
        "\n",
        "\n",
        "if __name__ == '__main__':\n",
        "    main()"
      ],
      "execution_count": 3,
      "outputs": [
        {
          "output_type": "error",
          "ename": "SyntaxError",
          "evalue": "ignored",
          "traceback": [
            "\u001b[0;36m  File \u001b[0;32m\"<ipython-input-3-9ac896e37a1d>\"\u001b[0;36m, line \u001b[0;32m55\u001b[0m\n\u001b[0;31m    print 'Account has been created successfully'\u001b[0m\n\u001b[0m                                                ^\u001b[0m\n\u001b[0;31mSyntaxError\u001b[0m\u001b[0;31m:\u001b[0m Missing parentheses in call to 'print'. Did you mean print('Account has been created successfully')?\n"
          ]
        }
      ]
    },
    {
      "metadata": {
        "id": "i9iVVf9nKkl5",
        "colab_type": "code",
        "outputId": "4c4195c6-2b82-4036-e61d-6bb51fe1dc9e",
        "colab": {
          "base_uri": "https://localhost:8080/",
          "height": 145
        }
      },
      "cell_type": "code",
      "source": [
        "\n",
        "import requests\n",
        "import hmac\n",
        "import hashlib\n",
        "import random\n",
        "import string\n",
        "import json\n",
        "import argparse\n",
        "from torrequest import TorRequest\n",
        "import cookielib\n",
        "\n",
        "def HMAC(text):\n",
        "    key = '3f0a7d75e094c7385e3dbaa026877f2e067cbd1a4dbcf3867748f6b26f257117'\n",
        "    hash = hmac.new(key,msg=text,digestmod=hashlib.sha256)\n",
        "    return hash.hexdigest()\n",
        "\n",
        "def randomString(size):\n",
        "    chars = string.ascii_lowercase + string.digits\n",
        "    return ''.join(random.choice(chars) for _ in range(size))\n",
        "\n",
        "\n",
        "\n",
        "def main():\n",
        "  with TorRequest(proxy_port=9150, ctrl_port=9151, password=None) as tr:\n",
        "    print(type(tr.ctrl))            # a stem.control.Controller object\n",
        "    tr.ctrl.signal('CLEARDNSCACHE') # see Stem docs for the full API\n",
        "\n",
        "    print(type(tr.session))         # a requests.Session object\n",
        "    c = cookielib.CookieJar()\n",
        "    tr.session.cookies.update(c)    # see Requests docs for the full API\n",
        "  \n",
        "    username='jagsuger_drsuger'\n",
        "    name='qoum golami1'\n",
        "    password='gholai9'\n",
        "    email= 'jlor_qulami@yahoo.com'\n",
        "\n",
        "    getHeaders = {'User-Agent':'Instagram 7.1.1 Android (21/5.0.2; 480dpi; 1080x1776; LGE/Google; Nexus 5; hammerhead; hammerhead; en_US)',\n",
        "               'Accept':'text/html,application/xhtml+xml,application/xml;q=0.9,image/webp,*/*;q=0.8',\n",
        "               'Accept-Encoding':'gzip, deflate, sdch',\n",
        "               'Accept-Language':'en-US,en;q=0.8',\n",
        "               'upgrade-insecure-requests':'1'}\n",
        "\n",
        "    #s = requests.Session()\n",
        "    tr.get('https://instagram.com',headers=getHeaders)\n",
        "    guid = randomString(8) + '-' + randomString(4) + \"-\" + randomString(4) + '-' + randomString(4) + '-' +randomString(12)\n",
        "    device_id = 'android-' + str(HMAC(str(random.randint(1000,9999))))[0:min(64,16)]\n",
        "    print (\"device :    \" + device_id )\n",
        "    information = {'username':username,'first_name':name,'password':password,'email':email,'device_id':device_id,'guid':guid}\n",
        "    js = json.dumps(information)\n",
        "    payload = {'signed_body': HMAC(js) + '.' + js,'ig_sig_key_version':'4'}\n",
        "    postHeaders = {'Host':'i.instagram.com',\n",
        "                  'User-Agent':'Instagram 7.1.1 Android (21/5.0.2; 480dpi; 1080x1776; LGE/Google; Nexus 5; hammerhead; hammerhead; en_US)',\n",
        "                  'Accept-Language':'en-US',\n",
        "                  'Accept-Encoding':'gzip',\n",
        "                  'Cookie2':'$Version=1',\n",
        "                  'X-IG-Connection-Type':'WIFI',\n",
        "                  'X-IG-Capabilities':'BQ=='\n",
        "                  }\n",
        "    response = tr.get('http://ipecho.net/plain')\n",
        "    \n",
        "    print(\"the current ip is : \" + response.text)  # not your IP address\n",
        "    x = tr.post('https://i.instagram.com/api/v1/accounts/create/',headers=postHeaders,data=payload)\n",
        "    result = json.loads(x.content)\n",
        "    print (result)\n",
        "    if result['status'] != 'fail':\n",
        "        if result['account_created'] == True:\n",
        "            print ('Account has been created successfully')\n",
        "        else:\n",
        "            print ('Error:')\n",
        "            for i in result['errors']:\n",
        "                print (str(result['errors'][i][0]))\n",
        "    else:\n",
        "        if result['spam'] == True:\n",
        "            print ('Instagram blocks your IP due to spamming behaviour.')\n",
        "\n",
        "\n",
        "if __name__ == '__main__':\n",
        "  main()"
      ],
      "execution_count": 47,
      "outputs": [
        {
          "output_type": "stream",
          "text": [
            "<class 'stem.control.Controller'>\n",
            "<class 'requests.sessions.Session'>\n",
            "device :    android-161395f2cd452f94\n",
            "the current ip is : 199.249.230.65\n",
            "{u'status': u'fail', u'feedback_title': u'Signup Error', u'feedback_message': u'Sorry! There\\u2019s a problem signing you up right now. Please try again later. We restrict certain content and actions to protect our community. Tell us if you think we made a mistake.', u'spam': True, u'feedback_action': u'open_request_form', u'error_type': u'signup_block', u'feedback_appeal_label': u'Tell us', u'feedback_ignore_label': u'OK', u'message': u'feedback_required', u'feedback_url': u'http://help.instagram.com/contact/540011792739811?additional_content=AeiCd5KcY4c_uE49JP_WmzV7XRsW1MEo1IecZq525R5PSrawziyu-OjDKgpGK_ydvDOfGLJQX9YZ-iNaISsZrukFfckAQWYE2Vx5rmNx6oN9J5pfN3YpK5ljUCWC8xR76hERfs8UxmX2gTMc0yFzryKk7bUQxxjGCSfufRJWTkUjVNn5CKy_PnUTX5tOS2ci7cJwgPHNOWoYtAnECS7GfrTbzbHPjSkxsnbOTWmo62TrsGop1s9xymCuPupu8ELuCJ8vali0LHKI5FE7_d-Arrb3KRdIQ9lNZFqpA6b3vmwglDc_tZy3wu-p_DhLy1jVhMKOqfWfejB1-zBKyo3U3i-Glil3lj9JJJoWhJ3DImc5wBV3F2qh8ilSDho9xceyaSaMRqqLXcBurfKy4rBFFu2spW3-N1AMGEikYjwaNHj3BH6kPngPS2ncqKV6u5_Gq9DNG81A9XdGmCYM9hv2ZO_dI8fszigiq1C_l4bqfVTfqXPsaKQYncpLW_NIFlJptaJl6TTZ7Su9gWi119BckH8hwEBXQaj8DVBbvCoCc_WiT9hYC9533R-ZGnvx9iwWg0_u4Shh1NRjs_tZt50IH_gix6QH6bWQXik3rA8F4nbC1s4FKSh5zVVjdvNdfLy5xEZKckEDdV6LS5FA1ZsgsZKzCkHIFnUcJuWnynDhgB23Kw&locale=en_US'}\n",
            "Instagram blocks your IP due to spamming behaviour.\n"
          ],
          "name": "stdout"
        }
      ]
    },
    {
      "metadata": {
        "id": "S6g4c5ZOPAeO",
        "colab_type": "code",
        "outputId": "128175ed-3b95-4783-ad37-ab571ddc1ac7",
        "colab": {
          "base_uri": "https://localhost:8080/",
          "height": 35
        }
      },
      "cell_type": "code",
      "source": [
        "!curl 'https://api.ipify.org?format=json'"
      ],
      "execution_count": 39,
      "outputs": [
        {
          "output_type": "stream",
          "text": [
            "{\"ip\":\"35.233.178.54\"}"
          ],
          "name": "stdout"
        }
      ]
    },
    {
      "metadata": {
        "id": "W_31HC3_MRwq",
        "colab_type": "text"
      },
      "cell_type": "markdown",
      "source": [
        "# **TEST AGAIN** :)"
      ]
    },
    {
      "metadata": {
        "id": "p5vnshcssoRz",
        "colab_type": "code",
        "colab": {
          "base_uri": "https://localhost:8080/",
          "height": 396
        },
        "outputId": "7f86e40d-f681-4938-aade-21a3a45f3930"
      },
      "cell_type": "code",
      "source": [
        "!pip install fake_useragent\n",
        "!pip install faker"
      ],
      "execution_count": 17,
      "outputs": [
        {
          "output_type": "stream",
          "text": [
            "Collecting fake_useragent\n",
            "  Downloading https://files.pythonhosted.org/packages/d1/79/af647635d6968e2deb57a208d309f6069d31cb138066d7e821e575112a80/fake-useragent-0.1.11.tar.gz\n",
            "Building wheels for collected packages: fake-useragent\n",
            "  Running setup.py bdist_wheel for fake-useragent ... \u001b[?25l-\b \bdone\n",
            "\u001b[?25h  Stored in directory: /root/.cache/pip/wheels/5e/63/09/d1dc15179f175357d3f5c00cbffbac37f9e8690d80545143ff\n",
            "Successfully built fake-useragent\n",
            "Installing collected packages: fake-useragent\n",
            "Successfully installed fake-useragent-0.1.11\n",
            "Collecting faker\n",
            "\u001b[?25l  Downloading https://files.pythonhosted.org/packages/8e/fb/29b3dd4b0332db634ed38ceefdb4f93797837cbe67f57c2c04cc1e3d9b55/Faker-1.0.0-py2.py3-none-any.whl (845kB)\n",
            "\u001b[K    100% |████████████████████████████████| 849kB 7.9MB/s \n",
            "\u001b[?25hRequirement already satisfied: python-dateutil>=2.4 in /usr/local/lib/python2.7/dist-packages (from faker) (2.5.3)\n",
            "Requirement already satisfied: six>=1.10 in /usr/local/lib/python2.7/dist-packages (from faker) (1.11.0)\n",
            "Collecting ipaddress; python_version == \"2.7\" (from faker)\n",
            "  Downloading https://files.pythonhosted.org/packages/fc/d0/7fc3a811e011d4b388be48a0e381db8d990042df54aa4ef4599a31d39853/ipaddress-1.0.22-py2.py3-none-any.whl\n",
            "Collecting text-unidecode==1.2 (from faker)\n",
            "\u001b[?25l  Downloading https://files.pythonhosted.org/packages/79/42/d717cc2b4520fb09e45b344b1b0b4e81aa672001dd128c180fabc655c341/text_unidecode-1.2-py2.py3-none-any.whl (77kB)\n",
            "\u001b[K    100% |████████████████████████████████| 81kB 16.5MB/s \n",
            "\u001b[?25hInstalling collected packages: ipaddress, text-unidecode, faker\n",
            "Successfully installed faker-1.0.0 ipaddress-1.0.22 text-unidecode-1.2\n"
          ],
          "name": "stdout"
        }
      ]
    },
    {
      "metadata": {
        "id": "vJFUdGZlL28Z",
        "colab_type": "code",
        "outputId": "b101d77f-a904-47ff-967f-f8c44eb4e5d5",
        "colab": {
          "base_uri": "https://localhost:8080/",
          "height": 908
        }
      },
      "cell_type": "code",
      "source": [
        "!curl 'https://api.ipify.org?format=json'\n",
        "#import requests\n",
        "import hmac\n",
        "import hashlib\n",
        "import random\n",
        "import string\n",
        "import json\n",
        "import argparse\n",
        "\n",
        "\n",
        "#from urllib.request import Request, urlopen\n",
        "from bs4 import BeautifulSoup\n",
        "from fake_useragent import UserAgent\n",
        "#import factory\n",
        "from faker import Faker\n",
        "#import faker\n",
        "\n",
        "from time import sleep\n",
        "\n",
        "from torrequest import TorRequest\n",
        "\n",
        "#import random\n",
        "#import requests\n",
        "f = Faker('fa_IR')\n",
        "proxies = []\n",
        "\n",
        "def random_proxy():\n",
        "  return random.randint(0, len(proxies) - 1)\n",
        "\n",
        "def HMAC(text):\n",
        "    key = '3f0a7d75e094c7385e3dbaa026877f2e067cbd1a4dbcf3867748f6b26f257117'\n",
        "    hash = hmac.new(key,msg=text,digestmod=hashlib.sha256)\n",
        "    return hash.hexdigest()\n",
        "\n",
        "def randomString(size):\n",
        "    chars = string.ascii_lowercase + string.digits\n",
        "    return ''.join(random.choice(chars) for _ in range(size))\n",
        "\n",
        "\n",
        "\n",
        "def main():  \n",
        "  with TorRequest() as tr:\n",
        "    \n",
        "    print(type(tr.ctrl))            # a stem.control.Controller object\n",
        "    tr.ctrl.signal('CLEARDNSCACHE') # see Stem docs for the full API\n",
        "\n",
        "    print(type(tr.session))         # a requests.Session object\n",
        "    c = cookielib.CookieJar()\n",
        "    tr.session.cookies.update(c)    # see Requests docs for the full API\n",
        "    \n",
        "    q_name= f.name()+ '1'\n",
        "    q_username= f.user_name()+'_drsuger'\n",
        "    q_email= 'drsuger_' + f.email()\n",
        "    q_password= 'drsuger123'\n",
        "    \n",
        "    print(q_name)\n",
        "    print(q_username)\n",
        "    print (q_email)\n",
        "    print (q_password)\n",
        "\n",
        "    username=q_username\n",
        "    name=q_name\n",
        "    password=q_password\n",
        "    email= q_email\n",
        "    getHeaders = {'User-Agent':'Instagram 7.1.1 Android (21/5.0.2; 480dpi; 1080x1776; LGE/Google; Nexus 5; hammerhead; hammerhead; en_US)',\n",
        "               'Accept':'text/html,application/xhtml+xml,application/xml;q=0.9,image/webp,*/*;q=0.8',\n",
        "               'Accept-Encoding':'gzip, deflate, sdch',\n",
        "               'Accept-Language':'en-US,en;q=0.8',\n",
        "               'upgrade-insecure-requests':'1'}\n",
        "\n",
        "#    s = requests.Session()\n",
        "    tr.get('https://instagram.com',headers=getHeaders)\n",
        "    #prit(s.text)\n",
        "    guid = randomString(8) + '-' + randomString(4) + \"-\" + randomString(4) + '-' + randomString(4) + '-' +randomString(12)\n",
        "    device_id = 'android-' + str(HMAC(str(random.randint(1000,9999))))[0:min(64,16)]\n",
        "\n",
        "    information = {'username':username,'first_name':name,'password':password,'email':email,'device_id':device_id,'guid':guid}\n",
        "    js = json.dumps(information)\n",
        "    payload = {'signed_body': HMAC(js) + '.' + js,'ig_sig_key_version':'4'}\n",
        "    postHeaders = {'Host':'i.instagram.com',\n",
        "                  'User-Agent':'Instagram 8.1.1 Android (21/5.0.2; 480dpi; 1080x1776; LGE/Google; Nexus 5; hammerhead; hammerhead; en_US)',\n",
        "                  'Accept-Language':'en-US',\n",
        "                  'Accept-Encoding':'gzip',\n",
        "                  'Cookie2':'$Version=1',\n",
        "                  'X-IG-Connection-Type':'mobile(UMTS)',\n",
        "                  'X-IG-Capabilities':'BQ=='\n",
        "                  }\n",
        "    #tr.headers = {'User-Agent': 'Instagram 8.1.1 Android (21/5.0.2; 480dpi; 1080x1776; LGE/Google; Nexus 5; hammerhead; hammerhead; en_US)'}\n",
        "    ##Hossein###################################################################\n",
        "    ua = UserAgent() # From here we generate a random user agent\n",
        "    #proxies = [] # Will contain proxies [ip, port]\n",
        "\n",
        "#    proxies_req = Request('https://www.sslproxies.org/')\n",
        "#    proxies_req.add_header('User-Agent', ua.random)\n",
        "#    proxies_doc = urlopen(proxies_req).read().decode('utf8')\n",
        "\n",
        "#    soup = BeautifulSoup(proxies_doc, 'html.parser')\n",
        "#   proxies_table = soup.find(id='proxylisttable')\n",
        "\n",
        "    # Save proxies in the array\n",
        " #   for row in proxies_table.tbody.find_all('tr'):\n",
        " #     proxies.append({\n",
        " #       'ip':   row.find_all('td')[0].string,\n",
        " #       'port': row.find_all('td')[1].string\n",
        " #     })\n",
        "\n",
        "    # Choose a random proxy\n",
        "#    proxy_index = random_proxy()\n",
        "#    proxy = proxies[proxy_index]\n",
        "\n",
        " #   q_http= 'http://' + proxy['ip'] + ':' + proxy['port'] \n",
        " #   q_https= 'https://' + proxy['ip'] + ':' + proxy['port'] \n",
        " #   print ('proxy generate: ' + q_http)\n",
        "    ############################################################################\n",
        "    \n",
        " #   proxies1 = {\"http\": q_http , \"https\": q_https}\n",
        "\n",
        "    #url = 'https://i.instagram.com/api/v1/accounts/create/'\n",
        "    #cookies = dict(cookies_are='working')\n",
        "\n",
        "    #qqqqq = s.get(url, cookies=cookies)\n",
        "    #print(qqqqq.text)\n",
        "    x = tr.post('https://i.instagram.com/api/v2/accounts/create/',headers=postHeaders,data=payload)\n",
        "    q= tr.get(\"http://httpbin.org/ip\")\n",
        "    print ('Proxy set on: ' + q.text)\n",
        "    result = json.loads(x.content)\n",
        "    print (result)\n",
        "    sleep(10)\n",
        "    x = tr.post('https://i.instagram.com/api/v1/accounts/create/',headers=postHeaders,data=payload)\n",
        "    result = json.loads(x.content)\n",
        "    print (result)\n",
        "    if result['status'] != 'fail':\n",
        "        if result['account_created'] == True:\n",
        "            print ('Account has been created successfully')\n",
        "        else:\n",
        "            #HADS MIZANAM - bayad inja  begim age nashod yek ip dige ro test kon\n",
        "            print ('Error:')\n",
        "   \n",
        "\n",
        "\n",
        "if __name__ == '__main__':\n",
        "  #for x in range(6):\n",
        "    main()\n",
        "   # print('#' + str(x) + '________________________________________________________') "
      ],
      "execution_count": 33,
      "outputs": [
        {
          "output_type": "stream",
          "text": [
            "{\"ip\":\"35.233.178.54\"}<class 'stem.control.Controller'>\n",
            "<class 'requests.sessions.Session'>\n",
            "جناب آقای سبحان رستمی1\n",
            "ard05_drsuger\n",
            "drsuger_mhmd62@tyn.ir\n",
            "drsuger123\n",
            "Proxy set on: {\n",
            "  \"origin\": \"62.102.148.67\"\n",
            "}\n",
            "\n"
          ],
          "name": "stdout"
        },
        {
          "output_type": "error",
          "ename": "ValueError",
          "evalue": "ignored",
          "traceback": [
            "\u001b[0;31m\u001b[0m",
            "\u001b[0;31mValueError\u001b[0mTraceback (most recent call last)",
            "\u001b[0;32m<ipython-input-33-b2cfad8b35c6>\u001b[0m in \u001b[0;36m<module>\u001b[0;34m()\u001b[0m\n\u001b[1;32m    141\u001b[0m \u001b[0;32mif\u001b[0m \u001b[0m__name__\u001b[0m \u001b[0;34m==\u001b[0m \u001b[0;34m'__main__'\u001b[0m\u001b[0;34m:\u001b[0m\u001b[0;34m\u001b[0m\u001b[0m\n\u001b[1;32m    142\u001b[0m   \u001b[0;31m#for x in range(6):\u001b[0m\u001b[0;34m\u001b[0m\u001b[0;34m\u001b[0m\u001b[0m\n\u001b[0;32m--> 143\u001b[0;31m     \u001b[0mmain\u001b[0m\u001b[0;34m(\u001b[0m\u001b[0;34m)\u001b[0m\u001b[0;34m\u001b[0m\u001b[0m\n\u001b[0m\u001b[1;32m    144\u001b[0m    \u001b[0;31m# print('#' + str(x) + '________________________________________________________')\u001b[0m\u001b[0;34m\u001b[0m\u001b[0;34m\u001b[0m\u001b[0m\n",
            "\u001b[0;32m<ipython-input-33-b2cfad8b35c6>\u001b[0m in \u001b[0;36mmain\u001b[0;34m()\u001b[0m\n\u001b[1;32m    124\u001b[0m     \u001b[0mq\u001b[0m\u001b[0;34m=\u001b[0m \u001b[0mtr\u001b[0m\u001b[0;34m.\u001b[0m\u001b[0mget\u001b[0m\u001b[0;34m(\u001b[0m\u001b[0;34m\"http://httpbin.org/ip\"\u001b[0m\u001b[0;34m)\u001b[0m\u001b[0;34m\u001b[0m\u001b[0m\n\u001b[1;32m    125\u001b[0m     \u001b[0;32mprint\u001b[0m \u001b[0;34m(\u001b[0m\u001b[0;34m'Proxy set on: '\u001b[0m \u001b[0;34m+\u001b[0m \u001b[0mq\u001b[0m\u001b[0;34m.\u001b[0m\u001b[0mtext\u001b[0m\u001b[0;34m)\u001b[0m\u001b[0;34m\u001b[0m\u001b[0m\n\u001b[0;32m--> 126\u001b[0;31m     \u001b[0mresult\u001b[0m \u001b[0;34m=\u001b[0m \u001b[0mjson\u001b[0m\u001b[0;34m.\u001b[0m\u001b[0mloads\u001b[0m\u001b[0;34m(\u001b[0m\u001b[0mx\u001b[0m\u001b[0;34m.\u001b[0m\u001b[0mcontent\u001b[0m\u001b[0;34m)\u001b[0m\u001b[0;34m\u001b[0m\u001b[0m\n\u001b[0m\u001b[1;32m    127\u001b[0m     \u001b[0;32mprint\u001b[0m \u001b[0;34m(\u001b[0m\u001b[0mresult\u001b[0m\u001b[0;34m)\u001b[0m\u001b[0;34m\u001b[0m\u001b[0m\n\u001b[1;32m    128\u001b[0m     \u001b[0msleep\u001b[0m\u001b[0;34m(\u001b[0m\u001b[0;36m10\u001b[0m\u001b[0;34m)\u001b[0m\u001b[0;34m\u001b[0m\u001b[0m\n",
            "\u001b[0;32m/usr/lib/python2.7/json/__init__.pyc\u001b[0m in \u001b[0;36mloads\u001b[0;34m(s, encoding, cls, object_hook, parse_float, parse_int, parse_constant, object_pairs_hook, **kw)\u001b[0m\n\u001b[1;32m    337\u001b[0m             \u001b[0mparse_int\u001b[0m \u001b[0;32mis\u001b[0m \u001b[0mNone\u001b[0m \u001b[0;32mand\u001b[0m \u001b[0mparse_float\u001b[0m \u001b[0;32mis\u001b[0m \u001b[0mNone\u001b[0m \u001b[0;32mand\u001b[0m\u001b[0;34m\u001b[0m\u001b[0m\n\u001b[1;32m    338\u001b[0m             parse_constant is None and object_pairs_hook is None and not kw):\n\u001b[0;32m--> 339\u001b[0;31m         \u001b[0;32mreturn\u001b[0m \u001b[0m_default_decoder\u001b[0m\u001b[0;34m.\u001b[0m\u001b[0mdecode\u001b[0m\u001b[0;34m(\u001b[0m\u001b[0ms\u001b[0m\u001b[0;34m)\u001b[0m\u001b[0;34m\u001b[0m\u001b[0m\n\u001b[0m\u001b[1;32m    340\u001b[0m     \u001b[0;32mif\u001b[0m \u001b[0mcls\u001b[0m \u001b[0;32mis\u001b[0m \u001b[0mNone\u001b[0m\u001b[0;34m:\u001b[0m\u001b[0;34m\u001b[0m\u001b[0m\n\u001b[1;32m    341\u001b[0m         \u001b[0mcls\u001b[0m \u001b[0;34m=\u001b[0m \u001b[0mJSONDecoder\u001b[0m\u001b[0;34m\u001b[0m\u001b[0m\n",
            "\u001b[0;32m/usr/lib/python2.7/json/decoder.pyc\u001b[0m in \u001b[0;36mdecode\u001b[0;34m(self, s, _w)\u001b[0m\n\u001b[1;32m    362\u001b[0m \u001b[0;34m\u001b[0m\u001b[0m\n\u001b[1;32m    363\u001b[0m         \"\"\"\n\u001b[0;32m--> 364\u001b[0;31m         \u001b[0mobj\u001b[0m\u001b[0;34m,\u001b[0m \u001b[0mend\u001b[0m \u001b[0;34m=\u001b[0m \u001b[0mself\u001b[0m\u001b[0;34m.\u001b[0m\u001b[0mraw_decode\u001b[0m\u001b[0;34m(\u001b[0m\u001b[0ms\u001b[0m\u001b[0;34m,\u001b[0m \u001b[0midx\u001b[0m\u001b[0;34m=\u001b[0m\u001b[0m_w\u001b[0m\u001b[0;34m(\u001b[0m\u001b[0ms\u001b[0m\u001b[0;34m,\u001b[0m \u001b[0;36m0\u001b[0m\u001b[0;34m)\u001b[0m\u001b[0;34m.\u001b[0m\u001b[0mend\u001b[0m\u001b[0;34m(\u001b[0m\u001b[0;34m)\u001b[0m\u001b[0;34m)\u001b[0m\u001b[0;34m\u001b[0m\u001b[0m\n\u001b[0m\u001b[1;32m    365\u001b[0m         \u001b[0mend\u001b[0m \u001b[0;34m=\u001b[0m \u001b[0m_w\u001b[0m\u001b[0;34m(\u001b[0m\u001b[0ms\u001b[0m\u001b[0;34m,\u001b[0m \u001b[0mend\u001b[0m\u001b[0;34m)\u001b[0m\u001b[0;34m.\u001b[0m\u001b[0mend\u001b[0m\u001b[0;34m(\u001b[0m\u001b[0;34m)\u001b[0m\u001b[0;34m\u001b[0m\u001b[0m\n\u001b[1;32m    366\u001b[0m         \u001b[0;32mif\u001b[0m \u001b[0mend\u001b[0m \u001b[0;34m!=\u001b[0m \u001b[0mlen\u001b[0m\u001b[0;34m(\u001b[0m\u001b[0ms\u001b[0m\u001b[0;34m)\u001b[0m\u001b[0;34m:\u001b[0m\u001b[0;34m\u001b[0m\u001b[0m\n",
            "\u001b[0;32m/usr/lib/python2.7/json/decoder.pyc\u001b[0m in \u001b[0;36mraw_decode\u001b[0;34m(self, s, idx)\u001b[0m\n\u001b[1;32m    380\u001b[0m             \u001b[0mobj\u001b[0m\u001b[0;34m,\u001b[0m \u001b[0mend\u001b[0m \u001b[0;34m=\u001b[0m \u001b[0mself\u001b[0m\u001b[0;34m.\u001b[0m\u001b[0mscan_once\u001b[0m\u001b[0;34m(\u001b[0m\u001b[0ms\u001b[0m\u001b[0;34m,\u001b[0m \u001b[0midx\u001b[0m\u001b[0;34m)\u001b[0m\u001b[0;34m\u001b[0m\u001b[0m\n\u001b[1;32m    381\u001b[0m         \u001b[0;32mexcept\u001b[0m \u001b[0mStopIteration\u001b[0m\u001b[0;34m:\u001b[0m\u001b[0;34m\u001b[0m\u001b[0m\n\u001b[0;32m--> 382\u001b[0;31m             \u001b[0;32mraise\u001b[0m \u001b[0mValueError\u001b[0m\u001b[0;34m(\u001b[0m\u001b[0;34m\"No JSON object could be decoded\"\u001b[0m\u001b[0;34m)\u001b[0m\u001b[0;34m\u001b[0m\u001b[0m\n\u001b[0m\u001b[1;32m    383\u001b[0m         \u001b[0;32mreturn\u001b[0m \u001b[0mobj\u001b[0m\u001b[0;34m,\u001b[0m \u001b[0mend\u001b[0m\u001b[0;34m\u001b[0m\u001b[0m\n",
            "\u001b[0;31mValueError\u001b[0m: No JSON object could be decoded"
          ]
        }
      ]
    },
    {
      "metadata": {
        "colab_type": "text",
        "id": "-Rh3-Vt9Nev9"
      },
      "cell_type": "markdown",
      "source": [
        "## Getting Started\n",
        "- [Overview of Colaboratory](/notebooks/basic_features_overview.ipynb)\n",
        "- [Loading and saving data: Local files, Drive, Sheets, Google Cloud Storage](/notebooks/io.ipynb)\n",
        "- [Importing libraries and installing dependencies](/notebooks/snippets/importing_libraries.ipynb)\n",
        "- [Using Google Cloud BigQuery](/notebooks/bigquery.ipynb)\n",
        "- [Forms](/notebooks/forms.ipynb), [Charts](/notebooks/charts.ipynb), [Markdown](/notebooks/markdown_guide.ipynb), & [Widgets](/notebooks/widgets.ipynb)\n",
        "- [TensorFlow with GPU](/notebooks/gpu.ipynb)\n",
        "- [TensorFlow with TPU](/notebooks/tpu.ipynb)\n",
        "- [Machine Learning Crash Course](https://developers.google.com/machine-learning/crash-course/): [Intro to Pandas](/notebooks/mlcc/intro_to_pandas.ipynb) & [First Steps with TensorFlow](/notebooks/mlcc/first_steps_with_tensor_flow.ipynb)\n",
        "- [Using Colab with GitHub](https://colab.research.google.com/github/googlecolab/colabtools/blob/master/notebooks/colab-github-demo.ipynb)\n"
      ]
    },
    {
      "metadata": {
        "colab_type": "text",
        "id": "1fr51oVCHRZU"
      },
      "cell_type": "markdown",
      "source": [
        "## Highlighted Features\n",
        "### Seedbank\n",
        "\n",
        "Looking for Colab notebooks to learn from? Check out [Seedbank](https://tools.google.com/seedbank/), a place to discover interactive machine learning examples."
      ]
    },
    {
      "metadata": {
        "colab_type": "text",
        "id": "9wi5kfGdhK0R"
      },
      "cell_type": "markdown",
      "source": [
        "### TensorFlow execution"
      ]
    },
    {
      "metadata": {
        "colab_type": "text",
        "id": "S9GW-n-oYWIj"
      },
      "cell_type": "markdown",
      "source": [
        "Colaboratory allows you to execute TensorFlow code in your browser with a single click. The example below adds two matrices.\n",
        "\n",
        "$\\begin{bmatrix}\n",
        "  1. & 1. & 1. \\\\\n",
        "  1. & 1. & 1. \\\\\n",
        "\\end{bmatrix} +\n",
        "\\begin{bmatrix}\n",
        "  1. & 2. & 3. \\\\\n",
        "  4. & 5. & 6. \\\\\n",
        "\\end{bmatrix} =\n",
        "\\begin{bmatrix}\n",
        "  2. & 3. & 4. \\\\\n",
        "  5. & 6. & 7. \\\\\n",
        "\\end{bmatrix}$"
      ]
    },
    {
      "metadata": {
        "colab_type": "code",
        "id": "oYZkU7ZN3CL0",
        "outputId": "9589151d-5ff4-4bca-f05e-8bcba8ffcba1",
        "colab": {
          "base_uri": "https://localhost:8080/",
          "height": 53
        }
      },
      "cell_type": "code",
      "source": [
        "import tensorflow as tf\n",
        "\n",
        "input1 = tf.ones((2, 3))\n",
        "input2 = tf.reshape(tf.range(1, 7, dtype=tf.float32), (2, 3))\n",
        "output = input1 + input2\n",
        "\n",
        "with tf.Session():\n",
        "  result = output.eval()\n",
        "result  "
      ],
      "execution_count": 0,
      "outputs": [
        {
          "output_type": "execute_result",
          "data": {
            "text/plain": [
              "array([[2., 3., 4.],\n",
              "       [5., 6., 7.]], dtype=float32)"
            ]
          },
          "metadata": {
            "tags": []
          },
          "execution_count": 0
        }
      ]
    },
    {
      "metadata": {
        "colab_type": "text",
        "id": "nwYF0E3Sjiy4"
      },
      "cell_type": "markdown",
      "source": [
        "### GitHub\n",
        "\n",
        "For a full discussion of interactions between Colab and GitHub, see [Using Colab with GitHub](https://colab.research.google.com/github/googlecolab/colabtools/blob/master/notebooks/colab-github-demo.ipynb). As a brief summary:\n",
        "\n",
        "To save a copy of your Colab notebook to Github, select *File → Save a copy to GitHub…*\n",
        "\n",
        "To load a specific notebook from github, append the github path to http://colab.research.google.com/github/.\n",
        "For example to load this notebook in Colab: [https://github.com/tensorflow/docs/blob/master/site/en/tutorials/_index.ipynb](https://github.com/tensorflow/docs/blob/master/site/en/tutorials/_index.ipynb) use the following Colab URL: [https://colab.research.google.com/github/tensorflow/docs/blob/master/site/en/tutorials/_index.ipynb](https://colab.research.google.com/github/tensorflow/docs/blob/master/site/en/tutorials/_index.ipynb)\n",
        "\n",
        "To open a github notebook in one click, we recommend installing the [Open in Colab Chrome Extension](https://chrome.google.com/webstore/detail/open-in-colab/iogfkhleblhcpcekbiedikdehleodpjo).\n",
        "\n"
      ]
    },
    {
      "metadata": {
        "colab_type": "text",
        "id": "yv2XIwi5hQ_g"
      },
      "cell_type": "markdown",
      "source": [
        "### Visualization"
      ]
    },
    {
      "metadata": {
        "colab_type": "text",
        "id": "rYs5mx2JZkmy"
      },
      "cell_type": "markdown",
      "source": [
        "Colaboratory includes widely used libraries like [matplotlib](https://matplotlib.org/), simplifying visualization."
      ]
    },
    {
      "metadata": {
        "colab_type": "code",
        "id": "xqrc5C-IaA5J",
        "outputId": "3460cc84-faf8-4d8c-a4e6-96a6809c389a",
        "colab": {
          "height": 360
        }
      },
      "cell_type": "code",
      "source": [
        "import matplotlib.pyplot as plt\n",
        "import numpy as np\n",
        "\n",
        "x = np.arange(20)\n",
        "y = [x_i + np.random.randn(1) for x_i in x]\n",
        "a, b = np.polyfit(x, y, 1)\n",
        "_ = plt.plot(x, y, 'o', np.arange(20), a*np.arange(20)+b, '-')"
      ],
      "execution_count": 0,
      "outputs": [
        {
          "output_type": "display_data",
          "data": {
            "image/png": "[encoded data removed]",
            "text/plain": [
              "<matplotlib.figure.Figure at 0x562d64cf1b10>"
            ]
          },
          "metadata": {
            "tags": []
          }
        }
      ]
    },
    {
      "metadata": {
        "colab_type": "text",
        "id": "AN_LRQ9NkOjs"
      },
      "cell_type": "markdown",
      "source": [
        "Want to use a new library?  `pip install` it at the top of the notebook. Then that library can be used anywhere else in the notebook. For recipes to import commonly used libraries, refer to the [importing libraries example notebook](/notebooks/snippets/importing_libraries.ipynb)."
      ]
    },
    {
      "metadata": {
        "colab_type": "code",
        "id": "FlQq0SUepQbd",
        "outputId": "6e404831-3336-4633-b76f-c6313ecdd356",
        "colab": {
          "base_uri": "https://localhost:8080/",
          "height": 349
        }
      },
      "cell_type": "code",
      "source": [
        "!pip install -q matplotlib-venn\n",
        "\n",
        "from matplotlib_venn import venn2\n",
        "_ = venn2(subsets = (3, 2, 1))"
      ],
      "execution_count": 0,
      "outputs": [
        {
          "output_type": "display_data",
          "data": {
            "image/png": "[encoded data removed]",
            "text/plain": [
              "<matplotlib.figure.Figure at 0x7f48ff99ff10>"
            ]
          },
          "metadata": {
            "tags": []
          }
        }
      ]
    },
    {
      "metadata": {
        "colab_type": "text",
        "id": "LxZ3dPzYnyNF"
      },
      "cell_type": "markdown",
      "source": [
        "### Forms\n",
        "\n",
        "Forms can be used to parameterize code. See the [forms example notebook](/notebooks/forms.ipynb) for more details."
      ]
    },
    {
      "metadata": {
        "colab_type": "code",
        "id": "FQ_Hx_9tn7uF",
        "colab": {}
      },
      "cell_type": "code",
      "source": [
        "#@title Examples\n",
        "\n",
        "text = 'value' #@param \n",
        "date_input = '2018-03-22' #@param {type:\"date\"}\n",
        "number_slider = 0 #@param {type:\"slider\", min:-1, max:1, step:0.1}\n",
        "dropdown = '1st option' #@param [\"1st option\", \"2nd option\", \"3rd option\"]\n"
      ],
      "execution_count": 0,
      "outputs": []
    },
    {
      "metadata": {
        "colab_type": "text",
        "id": "rTX3heEtu0b2"
      },
      "cell_type": "markdown",
      "source": [
        "### Local runtime support\n",
        "\n",
        "Colab  supports connecting to a Jupyter runtime on your local machine. For more information, see our [documentation](https://research.google.com/colaboratory/local-runtimes.html)."
      ]
    },
    {
      "metadata": {
        "id": "3sE_8PYLq0B8",
        "colab_type": "code",
        "colab": {
          "base_uri": "https://localhost:8080/",
          "height": 180
        },
        "outputId": "96eabf0d-5911-4dfc-e43e-c68e66111782"
      },
      "cell_type": "code",
      "source": [
        "!pip install ocookie"
      ],
      "execution_count": 6,
      "outputs": [
        {
          "output_type": "stream",
          "text": [
            "Collecting ocookie\n",
            "  Downloading https://files.pythonhosted.org/packages/1f/28/425d8b129cc5446c69a2801a26f4c745e12bd0156b4e8ae87b3699cd8493/ocookie-0.1.1.tar.gz\n",
            "Building wheels for collected packages: ocookie\n",
            "  Running setup.py bdist_wheel for ocookie ... \u001b[?25l-\b \bdone\n",
            "\u001b[?25h  Stored in directory: /root/.cache/pip/wheels/ab/e9/7f/79b94a3a845d81da158d7f7720a40a1e794d5357029d027f6b\n",
            "Successfully built ocookie\n",
            "Installing collected packages: ocookie\n",
            "Successfully installed ocookie-0.1.1\n"
          ],
          "name": "stdout"
        }
      ]
    },
    {
      "metadata": {
        "id": "_W76Fl9vq4ie",
        "colab_type": "code",
        "colab": {
          "base_uri": "https://localhost:8080/",
          "height": 71
        },
        "outputId": "c16ada26-498a-4319-e50a-67cc0b3061ff"
      },
      "cell_type": "code",
      "source": [
        "!pip install cookielib"
      ],
      "execution_count": 8,
      "outputs": [
        {
          "output_type": "stream",
          "text": [
            "Collecting cookielib\n",
            "\u001b[31m  Could not find a version that satisfies the requirement cookielib (from versions: )\u001b[0m\n",
            "\u001b[31mNo matching distribution found for cookielib\u001b[0m\n"
          ],
          "name": "stdout"
        }
      ]
    },
    {
      "metadata": {
        "id": "ZK-XO3q1qVec",
        "colab_type": "code",
        "colab": {
          "base_uri": "https://localhost:8080/",
          "height": 180
        },
        "outputId": "d926cd77-0aa0-42fa-c001-d4fdec2a2924"
      },
      "cell_type": "code",
      "source": [
        "from torrequest import TorRequest\n",
        "\n",
        "import cookielib\n",
        "# Choose a proxy port, a control port, and a password. \n",
        "# Defaults are 9050, 9051, and None respectively. \n",
        "# If there is already a Tor process listening the specified \n",
        "# ports, TorRequest will use that one. \n",
        "# Otherwise, it will create a new Tor process, \n",
        "# and terminate it at the end.\n",
        "with TorRequest(proxy_port=9050, ctrl_port=9051, password=None) as tr:\n",
        "\n",
        "  # Specify HTTP verb and url.\n",
        "  resp = tr.get('http://google.com')\n",
        "  print(resp.text)\n",
        "\n",
        "  # Send data. Use basic authentication.\n",
        "  \n",
        "\n",
        "  # Change your Tor circuit,\n",
        "  # and likely your observed IP address.\n",
        "  tr.reset_identity()\n",
        "\n",
        "  # TorRequest object also exposes the underlying Stem controller \n",
        "  # and Requests session objects for more flexibility.\n",
        "\n",
        "  print(type(tr.ctrl))            # a stem.control.Controller object\n",
        "  tr.ctrl.signal('CLEARDNSCACHE') # see Stem docs for the full API\n",
        "\n",
        "  print(type(tr.session))         # a requests.Session object\n",
        "  c = cookielib.CookieJar()\n",
        "  tr.session.cookies.update(c)    # see Requests docs for the full API"
      ],
      "execution_count": 41,
      "outputs": [
        {
          "output_type": "stream",
          "text": [
            "<!doctype html><html itemscope=\"\" itemtype=\"http://schema.org/WebPage\" lang=\"de\"><head><meta content=\"text/html; charset=UTF-8\" http-equiv=\"Content-Type\"><meta content=\"/images/branding/googleg/1x/googleg_standard_color_128dp.png\" itemprop=\"image\"><title>Google</title><script nonce=\"5J4+B9vAXthSKMKM0CXnmw==\">(function(){window.google={kEI:'ynTrW5GeKOGS0gK2s7XQAQ',kEXPI:'0,1353747,57,1958,583,433,281,1125,698,527,731,142,183,293,132,747,301,30,524,27,181,94,402,103,244,389,2,2336366,189,32,68,329226,1294,12383,4855,32692,15247,867,6692,4666,805,16521,369,1212,3364,4243,1111,130,1201,260,3663,1444,575,835,284,2,578,728,610,1821,254,1108,1712,2158,453,2096,662,640,298,1237,34,222,70,482,2115,139,4740,525,22,604,2,1396,569,528,3,1587,477,182,283,2839,897,69,1050,334,130,1344,386,8,584,419,81,7,28,463,620,29,993,386,16,458,62,1785,92,1265,978,2217,412,1083,243,10,304,878,410,2,556,1527,726,60,319,273,1342,1220,38,363,279,277,439,135,145,155,498,176,543,838,526,484,47,588,492,545,356,387,420,661,366,58,34,76,3,337,295,9,2,195,2,492,72,88,783,309,42,16,175,74,2,183,183,122,143,203,15,30,6,662,1346,141,124,35,2,484,96,553,147,2,454,18,7,59,679,39,104,329,128,6,55,96,249,163,84,166,5981378,13,2541,177,5997317,107,90,2800095,4,1572,549,332,445,1,2,80,1,900,583,9,304,1,8,1,2,2132,1,1,1,1,1,414,1,445,303,141,179,316,117,17,6,8,4,21,2,33',authuser:0,kscs:'c9c918f0_ynTrW5GeKOGS0gK2s7XQAQ',kGL:'DE'};google.kHL='de';})();google.time=function(){return(new Date).getTime()};(function(){google.lc=[];google.li=0;google.getEI=function(a){for(var b;a&&(!a.getAttribute||!(b=a.getAttribute(\"eid\")));)a=a.parentNode;return b||google.kEI};google.getLEI=function(a){for(var b=null;a&&(!a.getAttribute||!(b=a.getAttribute(\"leid\")));)a=a.parentNode;return b};google.https=function(){return\"https:\"==window.location.protocol};google.ml=function(){return null};google.log=function(a,b,e,c,g){if(a=google.logUrl(a,b,e,c,g)){b=new Image;var d=google.lc,f=google.li;d[f]=b;b.onerror=b.onload=b.onabort=function(){delete d[f]};google.vel&&google.vel.lu&&google.vel.lu(a);b.src=a;google.li=f+1}};google.logUrl=function(a,b,e,c,g){var d=\"\",f=google.ls||\"\";e||-1!=b.search(\"&ei=\")||(d=\"&ei=\"+google.getEI(c),-1==b.search(\"&lei=\")&&(c=google.getLEI(c))&&(d+=\"&lei=\"+c));c=\"\";!e&&google.cshid&&-1==b.search(\"&cshid=\")&&\"slh\"!=a&&(c=\"&cshid=\"+google.cshid);a=e||\"/\"+(g||\"gen_204\")+\"?atyp=i&ct=\"+a+\"&cad=\"+b+d+f+\"&zx=\"+google.time()+c;/^http:/i.test(a)&&google.https()&&(google.ml(Error(\"a\"),!1,{src:a,glmm:1}),a=\"\");return a};}).call(this);(function(){google.y={};google.x=function(a,b){if(a)var c=a.id;else{do c=Math.random();while(google.y[c])}google.y[c]=[a,b];return!1};google.lm=[];google.plm=function(a){google.lm.push.apply(google.lm,a)};google.lq=[];google.load=function(a,b,c){google.lq.push([[a],b,c])};google.loadAll=function(a,b){google.lq.push([a,b])};}).call(this);google.f={};</script><script nonce=\"5J4+B9vAXthSKMKM0CXnmw==\">var a=window.location,b=a.href.indexOf(\"#\");if(0<=b){var c=a.href.substring(b+1);/(^|&)q=/.test(c)&&-1==c.indexOf(\"#\")&&a.replace(\"/search?\"+c.replace(/(^|&)fp=[^&]*/g,\"\")+\"&cad=h\")};</script><style>#gbar,#guser{font-size:13px;padding-top:1px !important;}#gbar{height:22px}#guser{padding-bottom:7px !important;text-align:right}.gbh,.gbd{border-top:1px solid #c9d7f1;font-size:1px}.gbh{height:0;position:absolute;top:24px;width:100%}@media all{.gb1{height:22px;margin-right:.5em;vertical-align:top}#gbar{float:left}}a.gb1,a.gb4{text-decoration:underline !important}a.gb1,a.gb4{color:#00c !important}.gbi .gb4{color:#dd8e27 !important}.gbf .gb4{color:#900 !important}\n",
            "</style><style>body,td,a,p,.h{font-family:arial,sans-serif}body{margin:0;overflow-y:scroll}#gog{padding:3px 8px 0}td{line-height:.8em}.gac_m td{line-height:17px}form{margin-bottom:20px}.h{color:#36c}.q{color:#00c}.ts td{padding:0}.ts{border-collapse:collapse}em{font-weight:bold;font-style:normal}.lst{height:25px;width:496px}.gsfi,.lst{font:18px arial,sans-serif}.gsfs{font:17px arial,sans-serif}.ds{display:inline-box;display:inline-block;margin:3px 0 4px;margin-left:4px}input{font-family:inherit}a.gb1,a.gb2,a.gb3,a.gb4{color:#11c !important}body{background:#fff;color:black}a{color:#11c;text-decoration:none}a:hover,a:active{text-decoration:underline}.fl a{color:#36c}a:visited{color:#551a8b}a.gb1,a.gb4{text-decoration:underline}a.gb3:hover{text-decoration:none}#ghead a.gb2:hover{color:#fff !important}.sblc{padding-top:5px}.sblc a{display:block;margin:2px 0;margin-left:13px;font-size:11px}.lsbb{background:#eee;border:solid 1px;border-color:#ccc #999 #999 #ccc;height:30px}.lsbb{display:block}.ftl,#fll a{display:inline-block;margin:0 12px}.lsb{background:url(/images/nav_logo229.png) 0 -261px repeat-x;border:none;color:#000;cursor:pointer;height:30px;margin:0;outline:0;font:15px arial,sans-serif;vertical-align:top}.lsb:active{background:#ccc}.lst:focus{outline:none}</style><script nonce=\"5J4+B9vAXthSKMKM0CXnmw==\"></script></head><body bgcolor=\"#fff\"><script nonce=\"5J4+B9vAXthSKMKM0CXnmw==\">(function(){var src='/images/nav_logo229.png';var iesg=false;document.body.onload = function(){window.n && window.n();if (document.images){new Image().src=src;}\n",
            "if (!iesg){document.f&&document.f.q.focus();document.gbqf&&document.gbqf.q.focus();}\n",
            "}\n",
            "})();</script><div id=\"mngb\"> <div id=gbar><nobr><b class=gb1>Suche</b> <a class=gb1 href=\"http://www.google.de/imghp?hl=de&tab=wi\">Bilder</a> <a class=gb1 href=\"http://maps.google.de/maps?hl=de&tab=wl\">Maps</a> <a class=gb1 href=\"https://play.google.com/?hl=de&tab=w8\">Play</a> <a class=gb1 href=\"http://www.youtube.com/?gl=DE&tab=w1\">YouTube</a> <a class=gb1 href=\"http://news.google.de/nwshp?hl=de&tab=wn\">News</a> <a class=gb1 href=\"https://mail.google.com/mail/?tab=wm\">Gmail</a> <a class=gb1 href=\"https://drive.google.com/?tab=wo\">Drive</a> <a class=gb1 style=\"text-decoration:none\" href=\"https://www.google.de/intl/de/options/\"><u>Mehr</u> &raquo;</a></nobr></div><div id=guser width=100%><nobr><span id=gbn class=gbi></span><span id=gbf class=gbf></span><span id=gbe></span><a href=\"http://www.google.de/history/optout?hl=de\" class=gb4>Webprotokoll</a> | <a  href=\"/preferences?hl=de\" class=gb4>Einstellungen</a> | <a target=_top id=gb_70 href=\"https://accounts.google.com/ServiceLogin?hl=de&passive=true&continue=http://www.google.com/\" class=gb4>Anmelden</a></nobr></div><div class=gbh style=left:0></div><div class=gbh style=right:0></div> </div><center><br clear=\"all\" id=\"lgpd\"><div id=\"lga\"><img alt=\"Google\" height=\"92\" src=\"/images/branding/googlelogo/1x/googlelogo_white_background_color_272x92dp.png\" style=\"padding:28px 0 14px\" width=\"272\" id=\"hplogo\" onload=\"window.lol&&lol()\"><br><br></div><form action=\"/search\" name=\"f\"><table cellpadding=\"0\" cellspacing=\"0\"><tr valign=\"top\"><td width=\"25%\">&nbsp;</td><td align=\"center\" nowrap=\"\"><input name=\"ie\" value=\"ISO-8859-1\" type=\"hidden\"><input value=\"de\" name=\"hl\" type=\"hidden\"><input name=\"source\" type=\"hidden\" value=\"hp\"><input name=\"biw\" type=\"hidden\"><input name=\"bih\" type=\"hidden\"><div class=\"ds\" style=\"height:32px;margin:4px 0\"><input style=\"color:#000;margin:0;padding:5px 8px 0 6px;vertical-align:top\" autocomplete=\"off\" class=\"lst\" value=\"\" title=\"Google-Suche\" maxlength=\"2048\" name=\"q\" size=\"57\"></div><br style=\"line-height:0\"><span class=\"ds\"><span class=\"lsbb\"><input class=\"lsb\" value=\"Google-Suche\" name=\"btnG\" type=\"submit\"></span></span><span class=\"ds\"><span class=\"lsbb\"><input class=\"lsb\" value=\"Auf gut Glück!\" name=\"btnI\" onclick=\"if(this.form.q.value)this.checked=1; else top.location='/doodles/'\" type=\"submit\"></span></span></td><td class=\"fl sblc\" align=\"left\" nowrap=\"\" width=\"25%\"><a href=\"/advanced_search?hl=de&amp;authuser=0\">Erweiterte Suche</a><a href=\"/language_tools?hl=de&amp;authuser=0\">Sprachoptionen</a></td></tr></table><input id=\"gbv\" name=\"gbv\" type=\"hidden\" value=\"1\"><script nonce=\"5J4+B9vAXthSKMKM0CXnmw==\">(function(){var a,b=\"1\";if(document&&document.getElementById)if(\"undefined\"!=typeof XMLHttpRequest)b=\"2\";else if(\"undefined\"!=typeof ActiveXObject){var c,d,e=[\"MSXML2.XMLHTTP.6.0\",\"MSXML2.XMLHTTP.3.0\",\"MSXML2.XMLHTTP\",\"Microsoft.XMLHTTP\"];for(c=0;d=e[c++];)try{new ActiveXObject(d),b=\"2\"}catch(h){}}a=b;if(\"2\"==a&&-1==location.search.indexOf(\"&gbv=2\")){var f=google.gbvu,g=document.getElementById(\"gbv\");g&&(g.value=a);f&&window.setTimeout(function(){location.href=f},0)};}).call(this);</script></form><div id=\"gac_scont\"></div><div style=\"font-size:83%;min-height:3.5em\"><br></div><span id=\"footer\"><div style=\"font-size:10pt\"><div style=\"margin:19px auto;text-align:center\" id=\"fll\"><a href=\"/intl/de/ads/\">Werben mit Google</a><a href=\"/services/\">Unternehmensangebote</a><a href=\"https://plus.google.com/117570067846637741468\" rel=\"publisher\">+Google</a><a href=\"/intl/de/about.html\">Über Google</a><a href=\"http://www.google.com/setprefdomain?prefdom=DE&amp;prev=http://www.google.de/&amp;sig=K_wHnXxf6kb7CUecnvw0QdaLFtWW8%3D\">Google.de</a></div></div><p style=\"color:#767676;font-size:8pt\">&copy; 2018 - <a href=\"/intl/de/policies/privacy/\">Datenschutzerklärung</a> - <a href=\"/intl/de/policies/terms/\">Nutzungsbedingungen</a></p></span></center><script nonce=\"5J4+B9vAXthSKMKM0CXnmw==\">(function(){window.google.cdo={height:0,width:0};(function(){var a=window.innerWidth,b=window.innerHeight;if(!a||!b){var c=window.document,d=\"CSS1Compat\"==c.compatMode?c.documentElement:c.body;a=d.clientWidth;b=d.clientHeight}a&&b&&(a!=google.cdo.width||b!=google.cdo.height)&&google.log(\"\",\"\",\"/client_204?&atyp=i&biw=\"+a+\"&bih=\"+b+\"&ei=\"+google.kEI);}).call(this);})();</script><div id=\"xjsd\"></div><div id=\"xjsi\"><script nonce=\"5J4+B9vAXthSKMKM0CXnmw==\">(function(){function c(b){window.setTimeout(function(){var a=document.createElement(\"script\");a.src=b;google.timers&&google.timers.load.t&&google.tick&&google.tick(\"load\",{gen204:\"xjsls\",clearcut:31});document.getElementById(\"xjsd\").appendChild(a)},0)}google.dljp=function(b,a){google.xjsu=b;c(a)};google.dlj=c;}).call(this);if(!google.xjs){window._=window._||{};window._DumpException=window._._DumpException=function(e){throw e};window._F_installCss=window._._F_installCss=function(c){};google.dljp('/xjs/_/js/k\\x3dxjs.hp.en.YDFwPyeJMPo.O/m\\x3dsb_he,d/am\\x3dYsBM/rt\\x3dj/d\\x3d1/rs\\x3dACT90oF6VxDK5vvEkb4L8EJd1k5gvjZsFg','/xjs/_/js/k\\x3dxjs.hp.en.YDFwPyeJMPo.O/m\\x3dsb_he,d/am\\x3dYsBM/rt\\x3dj/d\\x3d1/rs\\x3dACT90oF6VxDK5vvEkb4L8EJd1k5gvjZsFg');google.xjs=1;}google.pmc={\"sb_he\":{\"agen\":true,\"cgen\":true,\"client\":\"heirloom-hp\",\"dh\":true,\"dhqt\":true,\"ds\":\"\",\"ffql\":\"de\",\"fl\":true,\"host\":\"google.com\",\"isbh\":28,\"jsonp\":true,\"lm\":true,\"msgs\":{\"cibl\":\"Suche löschen\",\"dym\":\"Meintest du:\",\"lcky\":\"Auf gut Glück!\",\"lml\":\"Weitere Informationen\",\"oskt\":\"Eingabetools\",\"psrc\":\"Diese Suchanfrage wurde aus deinem \\u003Ca href=\\\"/history\\\"\\u003EWebprotokoll\\u003C/a\\u003E entfernt.\",\"psrl\":\"Entfernen\",\"sbit\":\"Bildersuche\",\"srch\":\"Google-Suche\"},\"ovr\":{},\"pq\":\"\",\"refpd\":true,\"rfs\":[],\"sbpl\":24,\"sbpr\":24,\"scd\":10,\"sce\":5,\"stok\":\"fs4nTfugYbtsss1sFPpWGG4bJX8\",\"uhde\":false},\"d\":{},\"ZI/YVQ\":{},\"Qnk92g\":{},\"U5B21g\":{},\"YFCs/g\":{}};google.x(null,function(){});(function(){var r=[];google.plm(r);})();(function(){var m=[]\n",
            ";m.length && google.jsc && google.jsc.m(m);})();</script></div></body></html>\n",
            "<class 'stem.control.Controller'>\n",
            "<class 'requests.sessions.Session'>\n"
          ],
          "name": "stdout"
        }
      ]
    }
  ]
}