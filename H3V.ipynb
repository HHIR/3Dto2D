{
  "nbformat": 4,
  "nbformat_minor": 0,
  "metadata": {
    "colab": {
      "name": "Untitled12.ipynb",
      "version": "0.3.2",
      "provenance": [],
      "include_colab_link": true
    },
    "kernelspec": {
      "name": "python3",
      "display_name": "Python 3"
    },
    "accelerator": "GPU"
  },
  "cells": [
    {
      "cell_type": "markdown",
      "metadata": {
        "id": "view-in-github",
        "colab_type": "text"
      },
      "source": [
        "<a href=\"https://colab.research.google.com/github/Hosseinhashemiir/3Dto2D/blob/master/H3V.ipynb\" target=\"_parent\"><img src=\"https://colab.research.google.com/assets/colab-badge.svg\" alt=\"Open In Colab\"/></a>"
      ]
    },
    {
      "metadata": {
        "id": "ORBF8Ol_qf84",
        "colab_type": "text"
      },
      "cell_type": "markdown",
      "source": [
        "# **Ya ALLAH**\n",
        "![alt text](https://upload.wikimedia.org/wikipedia/commons/thumb/1/1c/Hoeffler_H.svg/256px-Hoeffler_H.svg.png)"
      ]
    },
    {
      "metadata": {
        "id": "O40dNL6Vp-Rs",
        "colab_type": "code",
        "colab": {}
      },
      "cell_type": "code",
      "source": [
        "!git clone https://github.com/miu200521358/3d-pose-baseline-vmd.git"
      ],
      "execution_count": 0,
      "outputs": []
    },
    {
      "metadata": {
        "id": "nQMqqj2PsS7H",
        "colab_type": "code",
        "colab": {}
      },
      "cell_type": "code",
      "source": [
        "import os\n",
        "os.chdir('./3d-pose-baseline-vmd')"
      ],
      "execution_count": 0,
      "outputs": []
    },
    {
      "metadata": {
        "id": "ODSeud9nsa__",
        "colab_type": "code",
        "colab": {}
      },
      "cell_type": "code",
      "source": [
        "!ls"
      ],
      "execution_count": 0,
      "outputs": []
    },
    {
      "metadata": {
        "id": "HEkhRiBSr_vm",
        "colab_type": "code",
        "colab": {}
      },
      "cell_type": "code",
      "source": [
        "!pip install h5py"
      ],
      "execution_count": 0,
      "outputs": []
    },
    {
      "metadata": {
        "id": "V8EaI6ezseSz",
        "colab_type": "code",
        "colab": {}
      },
      "cell_type": "code",
      "source": [
        "!mkdir data\n",
        "os.chdir('./data')\n",
        "!wget https://www.dropbox.com/s/e35qv3n6zlkouki/h36m.zip\n",
        "!unzip h36m.zip\n",
        "!rm h36m.zip\n",
        "os.chdir('../')"
      ],
      "execution_count": 0,
      "outputs": []
    },
    {
      "metadata": {
        "id": "88jUC75gtUz4",
        "colab_type": "code",
        "colab": {
          "base_uri": "https://localhost:8080/",
          "height": 54
        },
        "outputId": "287e48b2-0faa-4d36-d75d-f7b40fcb9b9a"
      },
      "cell_type": "code",
      "source": [
        "!ls"
      ],
      "execution_count": 16,
      "outputs": [
        {
          "output_type": "stream",
          "text": [
            "data  experiments  ISSUE_TEMPLATE.md  OpenposeTo3D.bat\t       README.md\n",
            "doc   imgs\t   LICENCE\t      README-ArashHosseini.md  src\n"
          ],
          "name": "stdout"
        }
      ]
    },
    {
      "metadata": {
        "id": "_jSL8D4GxeyA",
        "colab_type": "code",
        "colab": {}
      },
      "cell_type": "code",
      "source": [
        "!pip install gdown"
      ],
      "execution_count": 0,
      "outputs": []
    },
    {
      "metadata": {
        "id": "Bfeyzr7QtTjV",
        "colab_type": "code",
        "colab": {}
      },
      "cell_type": "code",
      "source": [
        "!mkdir experiments\n",
        "os.chdir('./experiments')\n",
        "!gdown https://drive.google.com/uc?id=1v7ccpms3ZR8ExWWwVfcSpjMsGscDYH7_\n",
        "!unzip experiments.zip\n",
        "!rm experiments.zip\n",
        "os.chdir('../')\n"
      ],
      "execution_count": 0,
      "outputs": []
    },
    {
      "metadata": {
        "id": "ORI-7JGAyUfk",
        "colab_type": "code",
        "colab": {}
      },
      "cell_type": "code",
      "source": [
        "#For Confidence\n",
        "!gdown https://drive.google.com/uc?id=1v7ccpms3ZR8ExWWwVfcSpjMsGscDYH7_\n",
        "!unzip experiments.zip\n",
        "!rm experiments.zip"
      ],
      "execution_count": 0,
      "outputs": []
    },
    {
      "metadata": {
        "id": "sYUS8Dm5ylFV",
        "colab_type": "code",
        "colab": {}
      },
      "cell_type": "code",
      "source": [
        ""
      ],
      "execution_count": 0,
      "outputs": []
    }
  ]
}