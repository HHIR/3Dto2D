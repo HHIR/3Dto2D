{
  "nbformat": 4,
  "nbformat_minor": 0,
  "metadata": {
    "colab": {
      "name": "Hello, Colaboratory",
      "version": "0.3.2",
      "provenance": [],
      "collapsed_sections": [],
      "toc_visible": true,
      "include_colab_link": true
    },
    "kernelspec": {
      "display_name": "Python 3",
      "name": "python3"
    }
  },
  "cells": [
    {
      "cell_type": "markdown",
      "metadata": {
        "id": "view-in-github",
        "colab_type": "text"
      },
      "source": [
        "<a href=\"https://colab.research.google.com/github/Hosseinhashemiir/3Dto2D/blob/master/lulu-finall.ipynb\" target=\"_parent\"><img src=\"https://colab.research.google.com/assets/colab-badge.svg\" alt=\"Open In Colab\"/></a>"
      ]
    },
    {
      "metadata": {
        "colab_type": "text",
        "id": "9J7p406abzgl"
      },
      "cell_type": "markdown",
      "source": [
        "<img height=\"60px\" src=\"https://vignette.wikia.nocookie.net/vanoss-gaming/images/1/14/Photo.png/revision/latest?cb=20150804220926\" align=\"left\" hspace=\"20px\" vspace=\"5px\">\n",
        "\n",
        "<h1>Welcome to my code!</h1>\n",
        "We will see for future!\n"
      ]
    },
    {
      "metadata": {
        "id": "uCCqrkglHZ0T",
        "colab_type": "code",
        "colab": {
          "base_uri": "https://localhost:8080/",
          "height": 180
        },
        "outputId": "2401c53c-c9fe-4a1e-9670-e0d0ad2cb6f5"
      },
      "cell_type": "code",
      "source": [
        "!curl 'https://api.ipify.org?format=json'\n",
        "import requests\n",
        "import hmac\n",
        "import hashlib\n",
        "import random\n",
        "import string\n",
        "import json\n",
        "import argparse\n",
        "\n",
        "\n",
        "def HMAC(text):\n",
        "    key = '3f0a7d75e094c7385e3dbaa026877f2e067cbd1a4dbcf3867748f6b26f257117'\n",
        "    message = bytes(text, 'utf-8')\n",
        "    key = bytes(key, 'utf-8')\n",
        "    hash = hmac.new(key,message,digestmod=hashlib.sha256)\n",
        "    return hash.hexdigest()\n",
        "\n",
        "def randomString(size):\n",
        "    chars = string.ascii_lowercase + string.digits\n",
        "    return ''.join(random.choice(chars) for _ in range(size))\n",
        "\n",
        "\n",
        "\n",
        "def main():   \n",
        "    username='saaaramarakara'\n",
        "    name='saara marakara'\n",
        "    password='q4wqwqwqqq'\n",
        "    email='sa44aramara_kara550@gmail.com'\n",
        "    getHeaders = {'User-Agent':'Instagram 7.1.1 Android (21/5.0.2; 480dpi; 1080x1776; LGE/Google; Nexus 5; hammerhead; hammerhead; en_US)',\n",
        "               'Accept':'text/html,application/xhtml+xml,application/xml;q=0.9,image/webp,*/*;q=0.8',\n",
        "               'Accept-Encoding':'gzip, deflate, sdch',\n",
        "               'Accept-Language':'en-US,en;q=0.8',\n",
        "               'upgrade-insecure-requests':'1'}\n",
        "\n",
        "    s = requests.Session()\n",
        "    s.get('https://instagram.com',headers=getHeaders)\n",
        "    guid = randomString(8) + '-' + randomString(4) + \"-\" + randomString(4) + '-' + randomString(4) + '-' +randomString(12)\n",
        "    device_id = ('android-' + str(HMAC(str(random.randint(1000,9999))))[0:min(64,16)])\n",
        "    information = {'username':username,'first_name':name,'password':password,'email':email,'device_id':device_id,'guid':guid}\n",
        "    js = json.dumps(information)\n",
        "    payload = {'signed_body': HMAC(js) + '.' + js,'ig_sig_key_version':'4'}\n",
        "    postHeaders = {'Host':'i.instagram.com',\n",
        "                  'User-Agent':'Instagram 7.1.1 Android (21/5.0.2; 480dpi; 1080x1776; LGE/Google; Nexus 5; hammerhead; hammerhead; en_US)',\n",
        "                  'Accept-Language':'en-US',\n",
        "                  'Accept-Encoding':'gzip',\n",
        "                  'Cookie2':'$Version=1',\n",
        "                  'X-IG-Connection-Type':'WIFI',\n",
        "                  'X-IG-Capabilities':'BQ=='\n",
        "                  }\n",
        "    proxies = {\"http\": \"http://80.91.17.113:41258\" , \"https\": \"https://80.91.17.113:41258\"}\n",
        "\n",
        "    x = s.post('https://i.instagram.com/api/v1/accounts/create/',headers=postHeaders,data=payload, proxies=proxies)\n",
        "    q= s.get(\"http://httpbin.org/ip\", proxies=proxies)\n",
        "    print (q.text)\n",
        "    result = json.loads(x.content)\n",
        "    print (result)\n",
        "    if result['status'] != 'fail':\n",
        "        if result['account_created'] == True:\n",
        "            print ('Account has been created successfully')\n",
        "        else:\n",
        "            print ('Error:')\n",
        "            for i in result['errors']:\n",
        "                print (str(result['errors'][i][0]))\n",
        "    \n",
        "\n",
        "\n",
        "if __name__ == '__main__':\n",
        "  main()"
      ],
      "execution_count": 3,
      "outputs": [
        {
          "output_type": "stream",
          "text": [
            "{\"ip\":\"35.231.104.215\"}{\n",
            "  \"origin\": \"80.91.17.113\"\n",
            "}\n",
            "\n",
            "{'account_created': False, 'errors': {'email': ['Another account is using sa44aramara_kara550@gmail.com.'], 'username': [\"This username isn't available. Please try another.\"]}, 'status': 'ok', 'error_type': 'email_is_taken, username_is_taken'}\n",
            "Error:\n",
            "Another account is using sa44aramara_kara550@gmail.com.\n",
            "This username isn't available. Please try another.\n"
          ],
          "name": "stdout"
        }
      ]
    },
    {
      "metadata": {
        "id": "6yyYzylqIpoo",
        "colab_type": "text"
      },
      "cell_type": "markdown",
      "source": [
        "# Try for proxy"
      ]
    },
    {
      "metadata": {
        "id": "VG3NA3F0Itt7",
        "colab_type": "code",
        "colab": {
          "base_uri": "https://localhost:8080/",
          "height": 35
        },
        "outputId": "b284055e-fc82-4aac-a627-9ec61dbcddd8"
      },
      "cell_type": "code",
      "source": [
        "from urllib.request import Request, urlopen\n",
        "from bs4 import BeautifulSoup\n",
        "from fake_useragent import UserAgent\n",
        "import random\n",
        "import requests\n",
        "\n",
        "def random_proxy():\n",
        "  return random.randint(0, len(proxies) - 1)\n",
        "\n",
        "ua = UserAgent() # From here we generate a random user agent\n",
        "proxies = [] # Will contain proxies [ip, port]\n",
        "\n",
        "proxies_req = Request('https://www.sslproxies.org/')\n",
        "proxies_req.add_header('User-Agent', ua.random)\n",
        "proxies_doc = urlopen(proxies_req).read().decode('utf8')\n",
        "\n",
        "soup = BeautifulSoup(proxies_doc, 'html.parser')\n",
        "proxies_table = soup.find(id='proxylisttable')\n",
        "\n",
        "# Save proxies in the array\n",
        "for row in proxies_table.tbody.find_all('tr'):\n",
        "  proxies.append({\n",
        "    'ip':   row.find_all('td')[0].string,\n",
        "    'port': row.find_all('td')[1].string\n",
        "  })\n",
        "\n",
        "# Choose a random proxy\n",
        "proxy_index = random_proxy()\n",
        "proxy = proxies[proxy_index]\n",
        "\n",
        "q= 'http://' + proxy['ip'] + ':' + proxy['port'] \n",
        "print (q)"
      ],
      "execution_count": 81,
      "outputs": [
        {
          "output_type": "stream",
          "text": [
            "http://34.216.89.160:8080\n"
          ],
          "name": "stdout"
        }
      ]
    },
    {
      "metadata": {
        "id": "pP54jyZ5Y85Z",
        "colab_type": "text"
      },
      "cell_type": "markdown",
      "source": [
        "# ADD THEM :)\n"
      ]
    },
    {
      "metadata": {
        "id": "0Em17kANZOOA",
        "colab_type": "code",
        "colab": {
          "base_uri": "https://localhost:8080/",
          "height": 35
        },
        "outputId": "c759d4d8-2389-4105-9d6f-f875a66df486"
      },
      "cell_type": "code",
      "source": [
        "!pip install fake_useragent"
      ],
      "execution_count": 82,
      "outputs": [
        {
          "output_type": "stream",
          "text": [
            "Requirement already satisfied: fake_useragent in /usr/local/lib/python3.6/dist-packages (0.1.11)\n"
          ],
          "name": "stdout"
        }
      ]
    },
    {
      "metadata": {
        "id": "XbDC_idrZBRL",
        "colab_type": "code",
        "colab": {
          "base_uri": "https://localhost:8080/",
          "height": 198
        },
        "outputId": "fc2ad97a-d8b8-43e8-e615-38c7a003423a"
      },
      "cell_type": "code",
      "source": [
        "!curl 'https://api.ipify.org?format=json'\n",
        "import requests\n",
        "import hmac\n",
        "import hashlib\n",
        "import random\n",
        "import string\n",
        "import json\n",
        "import argparse\n",
        "\n",
        "from urllib.request import Request, urlopen\n",
        "from bs4 import BeautifulSoup\n",
        "from fake_useragent import UserAgent\n",
        "#import random\n",
        "#import requests\n",
        "\n",
        "def random_proxy():\n",
        "  return random.randint(0, len(proxies) - 1)\n",
        "\n",
        "def HMAC(text):\n",
        "    key = '3f0a7d75e094c7385e3dbaa026877f2e067cbd1a4dbcf3867748f6b26f257117'\n",
        "    message = bytes(text, 'utf-8')\n",
        "    key = bytes(key, 'utf-8')\n",
        "    hash = hmac.new(key,message,digestmod=hashlib.sha256)\n",
        "    return hash.hexdigest()\n",
        "\n",
        "def randomString(size):\n",
        "    chars = string.ascii_lowercase + string.digits\n",
        "    return ''.join(random.choice(chars) for _ in range(size))\n",
        "\n",
        "\n",
        "\n",
        "def main():   \n",
        "    username='saaaramarakara'\n",
        "    name='saara marakara'\n",
        "    password='q4wqwqwqqq'\n",
        "    email='sa44aramara_kara550@gmail.com'\n",
        "    getHeaders = {'User-Agent':'Instagram 7.1.1 Android (21/5.0.2; 480dpi; 1080x1776; LGE/Google; Nexus 5; hammerhead; hammerhead; en_US)',\n",
        "               'Accept':'text/html,application/xhtml+xml,application/xml;q=0.9,image/webp,*/*;q=0.8',\n",
        "               'Accept-Encoding':'gzip, deflate, sdch',\n",
        "               'Accept-Language':'en-US,en;q=0.8',\n",
        "               'upgrade-insecure-requests':'1'}\n",
        "\n",
        "    s = requests.Session()\n",
        "    s.get('https://instagram.com',headers=getHeaders)\n",
        "    guid = randomString(8) + '-' + randomString(4) + \"-\" + randomString(4) + '-' + randomString(4) + '-' +randomString(12)\n",
        "    device_id = ('android-' + str(HMAC(str(random.randint(1000,9999))))[0:min(64,16)])\n",
        "    information = {'username':username,'first_name':name,'password':password,'email':email,'device_id':device_id,'guid':guid}\n",
        "    js = json.dumps(information)\n",
        "    payload = {'signed_body': HMAC(js) + '.' + js,'ig_sig_key_version':'4'}\n",
        "    postHeaders = {'Host':'i.instagram.com',\n",
        "                  'User-Agent':'Instagram 7.1.1 Android (21/5.0.2; 480dpi; 1080x1776; LGE/Google; Nexus 5; hammerhead; hammerhead; en_US)',\n",
        "                  'Accept-Language':'en-US',\n",
        "                  'Accept-Encoding':'gzip',\n",
        "                  'Cookie2':'$Version=1',\n",
        "                  'X-IG-Connection-Type':'WIFI',\n",
        "                  'X-IG-Capabilities':'BQ=='\n",
        "                  }\n",
        "    ##Hossein###################################################################\n",
        "    ua = UserAgent() # From here we generate a random user agent\n",
        "    proxies = [] # Will contain proxies [ip, port]\n",
        "\n",
        "    proxies_req = Request('https://www.sslproxies.org/')\n",
        "    proxies_req.add_header('User-Agent', ua.random)\n",
        "    proxies_doc = urlopen(proxies_req).read().decode('utf8')\n",
        "\n",
        "    soup = BeautifulSoup(proxies_doc, 'html.parser')\n",
        "    proxies_table = soup.find(id='proxylisttable')\n",
        "\n",
        "    # Save proxies in the array\n",
        "    for row in proxies_table.tbody.find_all('tr'):\n",
        "      proxies.append({\n",
        "        'ip':   row.find_all('td')[0].string,\n",
        "        'port': row.find_all('td')[1].string\n",
        "      })\n",
        "\n",
        "    # Choose a random proxy\n",
        "    proxy_index = random_proxy()\n",
        "    proxy = proxies[proxy_index]\n",
        "\n",
        "    q_http= 'http://' + proxy['ip'] + ':' + proxy['port'] \n",
        "    q_https= 'https://' + proxy['ip'] + ':' + proxy['port'] \n",
        "    print ('proxy generate: ' + q_http)\n",
        "    ############################################################################\n",
        "    \n",
        "    proxies = {\"http\": q_http , \"https\": q_https}\n",
        "\n",
        "    x = s.post('https://i.instagram.com/api/v1/accounts/create/',headers=postHeaders,data=payload, proxies=proxies)\n",
        "    q= s.get(\"http://httpbin.org/ip\", proxies=proxies)\n",
        "    print ('Proxy set on: ' + q.text)\n",
        "    result = json.loads(x.content)\n",
        "    print (result)\n",
        "    if result['status'] != 'fail':\n",
        "        if result['account_created'] == True:\n",
        "            print ('Account has been created successfully')\n",
        "        else:\n",
        "            print ('Error:')\n",
        "            for i in result['errors']:\n",
        "                print (str(result['errors'][i][0]))\n",
        "    \n",
        "\n",
        "\n",
        "if __name__ == '__main__':\n",
        "  main()"
      ],
      "execution_count": 85,
      "outputs": [
        {
          "output_type": "stream",
          "text": [
            "{\"ip\":\"35.231.104.215\"}proxy generate: http://170.239.46.145:41823\n",
            "Proxy set on: {\n",
            "  \"origin\": \"170.239.46.2\"\n",
            "}\n",
            "\n",
            "{'account_created': False, 'errors': {'email': ['Another account is using sa44aramara_kara550@gmail.com.'], 'username': [\"This username isn't available. Please try another.\"]}, 'status': 'ok', 'error_type': 'email_is_taken, username_is_taken'}\n",
            "Error:\n",
            "Another account is using sa44aramara_kara550@gmail.com.\n",
            "This username isn't available. Please try another.\n"
          ],
          "name": "stdout"
        }
      ]
    }
  ]
}