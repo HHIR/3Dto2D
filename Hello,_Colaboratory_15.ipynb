{
  "nbformat": 4,
  "nbformat_minor": 0,
  "metadata": {
    "colab": {
      "name": "Hello, Colaboratory",
      "version": "0.3.2",
      "provenance": [],
      "collapsed_sections": [],
      "toc_visible": true,
      "include_colab_link": true
    },
    "kernelspec": {
      "name": "python2",
      "display_name": "Python 2"
    }
  },
  "cells": [
    {
      "cell_type": "markdown",
      "metadata": {
        "id": "view-in-github",
        "colab_type": "text"
      },
      "source": [
        "<a href=\"https://colab.research.google.com/github/Hosseinhashemiir/3Dto2D/blob/master/Hello,_Colaboratory_15.ipynb\" target=\"_parent\"><img src=\"https://colab.research.google.com/assets/colab-badge.svg\" alt=\"Open In Colab\"/></a>"
      ]
    },
    {
      "metadata": {
        "colab_type": "text",
        "id": "9J7p406abzgl"
      },
      "cell_type": "markdown",
      "source": [
        "<img height=\"60px\" src=\"https://colab.research.google.com/img/colab_favicon.ico\" align=\"left\" hspace=\"20px\" vspace=\"5px\">\n",
        "\n",
        "<h1>Welcome to Colaboratory!</h1>\n",
        "Colaboratory is a free Jupyter notebook environment that requires no setup and runs entirely in the cloud. See our [FAQ](https://research.google.com/colaboratory/faq.html) for more info."
      ]
    },
    {
      "metadata": {
        "id": "IWy3MMPCKm9B",
        "colab_type": "code",
        "outputId": "46d88d7a-245a-43a7-c47f-eba1e0627cc7",
        "colab": {
          "base_uri": "https://localhost:8080/",
          "height": 110
        }
      },
      "cell_type": "code",
      "source": [
        "!pip install requests"
      ],
      "execution_count": 30,
      "outputs": [
        {
          "output_type": "stream",
          "text": [
            "Requirement already satisfied: requests in /usr/local/lib/python3.6/dist-packages (2.18.4)\n",
            "Requirement already satisfied: idna<2.7,>=2.5 in /usr/local/lib/python3.6/dist-packages (from requests) (2.6)\n",
            "Requirement already satisfied: chardet<3.1.0,>=3.0.2 in /usr/local/lib/python3.6/dist-packages (from requests) (3.0.4)\n",
            "Requirement already satisfied: urllib3<1.23,>=1.21.1 in /usr/local/lib/python3.6/dist-packages (from requests) (1.22)\n",
            "Requirement already satisfied: certifi>=2017.4.17 in /usr/local/lib/python3.6/dist-packages (from requests) (2018.10.15)\n"
          ],
          "name": "stdout"
        }
      ]
    },
    {
      "metadata": {
        "id": "NR1QMbjtLPkY",
        "colab_type": "code",
        "outputId": "76e6cb68-5009-4602-e4ff-bb7066986bba",
        "colab": {
          "base_uri": "https://localhost:8080/",
          "height": 186
        }
      },
      "cell_type": "code",
      "source": [
        "!pip install torrequest"
      ],
      "execution_count": 26,
      "outputs": [
        {
          "output_type": "stream",
          "text": [
            "Requirement already satisfied: torrequest in /usr/local/lib/python2.7/dist-packages (0.1.0)\n",
            "Requirement already satisfied: stem>=1.4.0 in /usr/local/lib/python2.7/dist-packages (from torrequest) (1.7.0)\n",
            "Requirement already satisfied: requests>=2.11.0 in /usr/local/lib/python2.7/dist-packages (from torrequest) (2.18.4)\n",
            "Requirement already satisfied: PySocks>=1.5.7 in /usr/local/lib/python2.7/dist-packages (from torrequest) (1.6.8)\n",
            "Requirement already satisfied: idna<2.7,>=2.5 in /usr/local/lib/python2.7/dist-packages (from requests>=2.11.0->torrequest) (2.6)\n",
            "Requirement already satisfied: urllib3<1.23,>=1.21.1 in /usr/local/lib/python2.7/dist-packages (from requests>=2.11.0->torrequest) (1.22)\n",
            "Requirement already satisfied: certifi>=2017.4.17 in /usr/local/lib/python2.7/dist-packages (from requests>=2.11.0->torrequest) (2018.10.15)\n",
            "Requirement already satisfied: chardet<3.1.0,>=3.0.2 in /usr/local/lib/python2.7/dist-packages (from requests>=2.11.0->torrequest) (3.0.4)\n"
          ],
          "name": "stdout"
        }
      ]
    },
    {
      "metadata": {
        "id": "jlrqCxj5HbVC",
        "colab_type": "code",
        "colab": {}
      },
      "cell_type": "code",
      "source": [
        ""
      ],
      "execution_count": 0,
      "outputs": []
    },
    {
      "metadata": {
        "id": "2C4r6VP3HJhh",
        "colab_type": "code",
        "colab": {
          "base_uri": "https://localhost:8080/",
          "height": 250
        },
        "outputId": "00c94423-b01b-4233-f960-70c0d653e1ae"
      },
      "cell_type": "code",
      "source": [
        "\n",
        "tor_process = stem.process.launch_tor_with_config(\n",
        "    tor_cmd = '/Applications/TorBrowser.app/Tor/tor.real',\n",
        "    config = { 'SocksPort': str(SOCKS_PORT),\n",
        "               'ExitNodes': '{ru}',},\n",
        "    init_msg_handler = print_bootstrap_lines,\n",
        ")"
      ],
      "execution_count": 27,
      "outputs": [
        {
          "output_type": "error",
          "ename": "NameError",
          "evalue": "ignored",
          "traceback": [
            "\u001b[0;31m\u001b[0m",
            "\u001b[0;31mNameError\u001b[0mTraceback (most recent call last)",
            "\u001b[0;32m<ipython-input-27-9e47a961a59c>\u001b[0m in \u001b[0;36m<module>\u001b[0;34m()\u001b[0m\n\u001b[0;32m----> 1\u001b[0;31m tor_process = stem.process.launch_tor_with_config(\n\u001b[0m\u001b[1;32m      2\u001b[0m     \u001b[0mtor_cmd\u001b[0m \u001b[0;34m=\u001b[0m \u001b[0;34m'/Applications/TorBrowser.app/Tor/tor.real'\u001b[0m\u001b[0;34m,\u001b[0m\u001b[0;34m\u001b[0m\u001b[0m\n\u001b[1;32m      3\u001b[0m     config = { 'SocksPort': str(SOCKS_PORT),\n\u001b[1;32m      4\u001b[0m                'ExitNodes': '{ru}',},\n\u001b[1;32m      5\u001b[0m     \u001b[0minit_msg_handler\u001b[0m \u001b[0;34m=\u001b[0m \u001b[0mprint_bootstrap_lines\u001b[0m\u001b[0;34m,\u001b[0m\u001b[0;34m\u001b[0m\u001b[0m\n",
            "\u001b[0;31mNameError\u001b[0m: name 'stem' is not defined"
          ]
        }
      ]
    },
    {
      "metadata": {
        "id": "GWXdEPS3PGuc",
        "colab_type": "code",
        "outputId": "5685ae5f-ada7-46e2-bca2-861ebcc7b708",
        "colab": {
          "base_uri": "https://localhost:8080/",
          "height": 399
        }
      },
      "cell_type": "code",
      "source": [
        "\n",
        "import tor\n",
        "import requests\n",
        "import hmac\n",
        "import hashlib\n",
        "import random\n",
        "import string\n",
        "import json\n",
        "import argparse\n",
        "\n",
        "def HMAC(text):\n",
        "    key = '3f0a7d75e094c7385e3dbaa026877f2e067cbd1a4dbcf3867748f6b26f257117'\n",
        "    hash = hmac.new(key,msg=text,digestmod=hashlib.sha256)\n",
        "    return hash.hexdigest()\n",
        "\n",
        "def randomString(size):\n",
        "    chars = string.ascii_lowercase + string.digits\n",
        "    return ''.join(random.choice(chars) for _ in range(size))\n",
        "\n",
        "\n",
        "\n",
        "\n",
        "def main():\n",
        "    username='farnaz_fadai55s5'\n",
        "    name='farnaz fadaii'\n",
        "    password='farnazs55s5'\n",
        "    email= 'farnaz_fadaii@ymail.com'\n",
        "\n",
        "    getHeaders = {'User-Agent':'Instagram 7.1.1 Android (21/5.0.2; 480dpi; 1080x1776; LGE/Google; Nexus 5; hammerhead; hammerhead; en_US)',\n",
        "               'Accept':'text/html,application/xhtml+xml,application/xml;q=0.9,image/webp,*/*;q=0.8',\n",
        "               'Accept-Encoding':'gzip, deflate, sdch',\n",
        "               'Accept-Language':'en-US,en;q=0.8',\n",
        "               'upgrade-insecure-requests':'1'}\n",
        "\n",
        "    s = requests.Session()\n",
        "    s.get('https://instagram.com',headers=getHeaders)\n",
        "    guid = randomString(8) + '-' + randomString(4) + \"-\" + randomString(4) + '-' + randomString(4) + '-' +randomString(12)\n",
        "    device_id = 'android-' + str(HMAC(str(random.randint(1000,9999))))[0:min(64,16)]\n",
        "    information = {'username':username,'first_name':name,'password':password,'email':email,'device_id':device_id,'guid':guid}\n",
        "    js = json.dumps(information)\n",
        "    payload = {'signed_body': HMAC(js) + '.' + js,'ig_sig_key_version':'4'}\n",
        "    postHeaders = {'Host':'i.instagram.com',\n",
        "                  'User-Agent':'Instagram 7.1.1 Android (21/5.0.2; 480dpi; 1080x1776; LGE/Google; Nexus 5; hammerhead; hammerhead; en_US)',\n",
        "                  'Accept-Language':'en-US',\n",
        "                  'Accept-Encoding':'gzip',\n",
        "                  'Cookie2':'$Version=1',\n",
        "                  'X-IG-Connection-Type':'WIFI',\n",
        "                  'X-IG-Capabilities':'BQ=='\n",
        "                  }\n",
        "    x = s.post('https://i.instagram.com/api/v1/accounts/create/',headers=postHeaders,data=payload)\n",
        "    result = json.loads(x.content)\n",
        "    print (result)\n",
        "    if result['status'] != 'fail':\n",
        "        if result['account_created'] == True:\n",
        "            print 'Account has been created successfully'\n",
        "        else:\n",
        "            print 'Error:'\n",
        "            for i in result['errors']:\n",
        "                print str(result['errors'][i][0])\n",
        "    else:\n",
        "        if result['spam'] == True:\n",
        "            print ('Instagram blocks your IP due to spamming behaviour.')\n",
        "\n",
        "\n",
        "if __name__ == '__main__':\n",
        "    main()"
      ],
      "execution_count": 28,
      "outputs": [
        {
          "output_type": "error",
          "ename": "ImportError",
          "evalue": "ignored",
          "traceback": [
            "\u001b[0;31m\u001b[0m",
            "\u001b[0;31mImportError\u001b[0mTraceback (most recent call last)",
            "\u001b[0;32m<ipython-input-28-5daa3d29da2a>\u001b[0m in \u001b[0;36m<module>\u001b[0;34m()\u001b[0m\n\u001b[1;32m      1\u001b[0m \u001b[0;34m\u001b[0m\u001b[0m\n\u001b[0;32m----> 2\u001b[0;31m \u001b[0;32mimport\u001b[0m \u001b[0mtor\u001b[0m\u001b[0;34m\u001b[0m\u001b[0m\n\u001b[0m\u001b[1;32m      3\u001b[0m \u001b[0;32mimport\u001b[0m \u001b[0mrequests\u001b[0m\u001b[0;34m\u001b[0m\u001b[0m\n\u001b[1;32m      4\u001b[0m \u001b[0;32mimport\u001b[0m \u001b[0mhmac\u001b[0m\u001b[0;34m\u001b[0m\u001b[0m\n\u001b[1;32m      5\u001b[0m \u001b[0;32mimport\u001b[0m \u001b[0mhashlib\u001b[0m\u001b[0;34m\u001b[0m\u001b[0m\n",
            "\u001b[0;31mImportError\u001b[0m: No module named tor",
            "",
            "\u001b[0;31m---------------------------------------------------------------------------\u001b[0;32m\nNOTE: If your import is failing due to a missing package, you can\nmanually install dependencies using either !pip or !apt.\n\nTo view examples of installing some common dependencies, click the\n\"Open Examples\" button below.\n\u001b[0;31m---------------------------------------------------------------------------\u001b[0m\n"
          ]
        }
      ]
    },
    {
      "metadata": {
        "id": "i9iVVf9nKkl5",
        "colab_type": "code",
        "outputId": "14a75526-ea87-4aa3-fbbf-42c56d7a5b71",
        "colab": {
          "base_uri": "https://localhost:8080/",
          "height": 149
        }
      },
      "cell_type": "code",
      "source": [
        "\n",
        "import requests\n",
        "import hmac\n",
        "import hashlib\n",
        "import random\n",
        "import string\n",
        "import json\n",
        "import argparse\n",
        "from torrequest import TorRequest\n",
        "import cookielib\n",
        "\n",
        "def HMAC(text):\n",
        "    key = '3f0a7d75e094c7385e3dbaa026877f2e067cbd1a4dbcf3867748f6b26f257117'\n",
        "    hash = hmac.new(key,msg=text,digestmod=hashlib.sha256)\n",
        "    return hash.hexdigest()\n",
        "\n",
        "def randomString(size):\n",
        "    chars = string.ascii_lowercase + string.digits\n",
        "    return ''.join(random.choice(chars) for _ in range(size))\n",
        "\n",
        "\n",
        "\n",
        "def main():\n",
        "  with TorRequest(proxy_port=9150, ctrl_port=9151, password=None) as tr:\n",
        "    print(type(tr.ctrl))            # a stem.control.Controller object\n",
        "    tr.ctrl.signal('CLEARDNSCACHE') # see Stem docs for the full API\n",
        "\n",
        "    print(type(tr.session))         # a requests.Session object\n",
        "    c = cookielib.CookieJar()\n",
        "    tr.session.cookies.update(c)    # see Requests docs for the full API\n",
        "  \n",
        "    username='jqqagsuger_drsuger'\n",
        "    name='علی یاوری 1'\n",
        "    password='gholai9'\n",
        "    email= 'drrrr_sugerq@yahoo.com'\n",
        "\n",
        "    getHeaders = {'User-Agent':'Instagram 7.1.1 Android (21/5.0.2; 480dpi; 1080x1776; LGE/Google; Nexus 5; hammerhead; hammerhead; en_US)',\n",
        "               'Accept':'text/html,application/xhtml+xml,application/xml;q=0.9,image/webp,*/*;q=0.8',\n",
        "               'Accept-Encoding':'gzip, deflate, sdch',\n",
        "               'Accept-Language':'en-US,en;q=0.8',\n",
        "               'upgrade-insecure-requests':'1'}\n",
        "\n",
        "    #s = requests.Session()\n",
        "    tr.get('https://instagram.com',headers=getHeaders)\n",
        "    guid = randomString(8) + '-' + randomString(4) + \"-\" + randomString(4) + '-' + randomString(4) + '-' +randomString(12)\n",
        "    device_id = 'android-' + str(HMAC(str(random.randint(1000,9999))))[0:min(64,16)]\n",
        "    print (\"device :    \" + device_id )\n",
        "    information = {'username':username,'first_name':name,'password':password,'email':email,'device_id':device_id,'guid':guid}\n",
        "    js = json.dumps(information)\n",
        "    payload = {'signed_body': HMAC(js) + '.' + js,'ig_sig_key_version':'4'}\n",
        "    postHeaders = {'Host':'i.instagram.com',\n",
        "                  'User-Agent':'Instagram 7.1.1 Android (21/5.0.2; 480dpi; 1080x1776; LGE/Google; Nexus 5; hammerhead; hammerhead; en_US)',\n",
        "                  'Accept-Language':'en-US',\n",
        "                  'Accept-Encoding':'gzip',\n",
        "                  'Cookie2':'$Version=1',\n",
        "                  'X-IG-Connection-Type':'WIFI',\n",
        "                  'X-IG-Capabilities':'BQ=='\n",
        "                  }\n",
        "    response = tr.get('http://ipecho.net/plain')\n",
        "    \n",
        "    print(\"the current ip is : \" + response.text)  # not your IP address\n",
        "    x = tr.post('https://i.instagram.com/api/v1/accounts/create/',headers=postHeaders,data=payload)\n",
        "    result = json.loads(x.content)\n",
        "    print (result)\n",
        "    if result['status'] != 'fail':\n",
        "        if result['account_created'] == True:\n",
        "            print ('Account has been created successfully')\n",
        "        else:\n",
        "            print ('Error:')\n",
        "            for i in result['errors']:\n",
        "                print (str(result['errors'][i][0]))\n",
        "    else:\n",
        "        if result['spam'] == True:\n",
        "            print ('Instagram blocks your IP due to spamming behaviour.')\n",
        "\n",
        "\n",
        "if __name__ == '__main__':\n",
        "  main()"
      ],
      "execution_count": 28,
      "outputs": [
        {
          "output_type": "stream",
          "text": [
            "<class 'stem.control.Controller'>\n",
            "<class 'requests.sessions.Session'>\n",
            "device :    android-2fd37a0fb84e49e6\n",
            "the current ip is : 185.220.101.22\n",
            "{u'status': u'fail', u'feedback_title': u'Signup Error', u'feedback_message': u'Sorry! There\\u2019s a problem signing you up right now. Please try again later. We restrict certain content and actions to protect our community. Tell us if you think we made a mistake.', u'spam': True, u'feedback_action': u'open_request_form', u'error_type': u'signup_block', u'feedback_appeal_label': u'Tell us', u'feedback_ignore_label': u'OK', u'message': u'feedback_required', u'feedback_url': u'http://help.instagram.com/contact/540011792739811?additional_content=AeiQtin1mYPSPgbYOxL9Cg0V_y-64-7RH_JtqvZfcYChlvWPKJXXzpzocxm17RAR3UsmUmjwd1Cqn9uX6DvLIWJTlF3jrz1wWJdQV471HcGjJkUaA3xgxvxqvhuNz_3GJdym7SHwMO3U7xJGRqCNiMdRChsL4b7vIushRtmijAn8uHNV5FGfZDTt4ythVzQx2UK_9qxiHZ4hRWsxgb2kMzqNyfON4cD4c-7kTRFcKYzukRsV99ATVPHJVDFNmqsahnEfLAiPCXq9aO30ViEEN9lyTF7A4fSLvLnXTP1SiaQeg8cWuDjR73sCtMZgf3ryxEJOhehITTLZ1ZncRmIrpwdUxY0DVa9CZfl4oeR99q-HObeGcnQmWeQRXoFbE9s3EqJKQLplfp3cuTcDZYb0zBWvDd-qJiabWaFW0o3cLRyriG122yhNUFrxwi47T_5Mxv5vLTeqRPkGckTx83w1ZzTFZoCWvhbMuWuPo0AkvdYaOq2Xh2BnBD8q8SiKAy99DlIchxL2ULGRyZ7yNt14JpCPbTlGONyqj0G9PnGCQ37tDmNam-UhGH_28wWcMcgvvtqfoRlUrnFI31V0uSGstpgCsU4zDqWCGt9A-kssKLyB0vXGPx-iLjB8jFGl3gTH74w&locale=en_US'}\n",
            "Instagram blocks your IP due to spamming behaviour.\n"
          ],
          "name": "stdout"
        }
      ]
    },
    {
      "metadata": {
        "id": "S6g4c5ZOPAeO",
        "colab_type": "code",
        "outputId": "128175ed-3b95-4783-ad37-ab571ddc1ac7",
        "colab": {
          "base_uri": "https://localhost:8080/",
          "height": 35
        }
      },
      "cell_type": "code",
      "source": [
        "!curl 'https://api.ipify.org?format=json'"
      ],
      "execution_count": 0,
      "outputs": [
        {
          "output_type": "stream",
          "text": [
            "{\"ip\":\"35.233.178.54\"}"
          ],
          "name": "stdout"
        }
      ]
    },
    {
      "metadata": {
        "id": "W_31HC3_MRwq",
        "colab_type": "text"
      },
      "cell_type": "markdown",
      "source": [
        "# **TEST AGAIN** :)"
      ]
    },
    {
      "metadata": {
        "id": "p5vnshcssoRz",
        "colab_type": "code",
        "outputId": "0050ce87-80c7-4b5d-a890-60d0793148bf",
        "colab": {
          "base_uri": "https://localhost:8080/",
          "height": 410
        }
      },
      "cell_type": "code",
      "source": [
        "!pip install fake_useragent\n",
        "!pip install faker"
      ],
      "execution_count": 4,
      "outputs": [
        {
          "output_type": "stream",
          "text": [
            "Collecting fake_useragent\n",
            "  Downloading https://files.pythonhosted.org/packages/d1/79/af647635d6968e2deb57a208d309f6069d31cb138066d7e821e575112a80/fake-useragent-0.1.11.tar.gz\n",
            "Building wheels for collected packages: fake-useragent\n",
            "  Running setup.py bdist_wheel for fake-useragent ... \u001b[?25l-\b \bdone\n",
            "\u001b[?25h  Stored in directory: /root/.cache/pip/wheels/5e/63/09/d1dc15179f175357d3f5c00cbffbac37f9e8690d80545143ff\n",
            "Successfully built fake-useragent\n",
            "Installing collected packages: fake-useragent\n",
            "Successfully installed fake-useragent-0.1.11\n",
            "Collecting faker\n",
            "\u001b[?25l  Downloading https://files.pythonhosted.org/packages/8e/fb/29b3dd4b0332db634ed38ceefdb4f93797837cbe67f57c2c04cc1e3d9b55/Faker-1.0.0-py2.py3-none-any.whl (845kB)\n",
            "\u001b[K    100% |████████████████████████████████| 849kB 8.6MB/s \n",
            "\u001b[?25hRequirement already satisfied: python-dateutil>=2.4 in /usr/local/lib/python2.7/dist-packages (from faker) (2.5.3)\n",
            "Requirement already satisfied: six>=1.10 in /usr/local/lib/python2.7/dist-packages (from faker) (1.11.0)\n",
            "Collecting ipaddress; python_version == \"2.7\" (from faker)\n",
            "  Downloading https://files.pythonhosted.org/packages/fc/d0/7fc3a811e011d4b388be48a0e381db8d990042df54aa4ef4599a31d39853/ipaddress-1.0.22-py2.py3-none-any.whl\n",
            "Collecting text-unidecode==1.2 (from faker)\n",
            "\u001b[?25l  Downloading https://files.pythonhosted.org/packages/79/42/d717cc2b4520fb09e45b344b1b0b4e81aa672001dd128c180fabc655c341/text_unidecode-1.2-py2.py3-none-any.whl (77kB)\n",
            "\u001b[K    100% |████████████████████████████████| 81kB 13.5MB/s \n",
            "\u001b[?25hInstalling collected packages: ipaddress, text-unidecode, faker\n",
            "Successfully installed faker-1.0.0 ipaddress-1.0.22 text-unidecode-1.2\n"
          ],
          "name": "stdout"
        }
      ]
    },
    {
      "metadata": {
        "id": "vJFUdGZlL28Z",
        "colab_type": "code",
        "outputId": "d6178f71-0d13-4bc1-8ec8-de0b3e132718",
        "colab": {
          "base_uri": "https://localhost:8080/",
          "height": 2161
        }
      },
      "cell_type": "code",
      "source": [
        "!curl 'https://api.ipify.org?format=json'\n",
        "#import requests\n",
        "import hmac\n",
        "import hashlib\n",
        "import random\n",
        "import string\n",
        "import json\n",
        "import argparse\n",
        "\n",
        "\n",
        "#from urllib.request import Request, urlopen\n",
        "from bs4 import BeautifulSoup\n",
        "from fake_useragent import UserAgent\n",
        "#import factory\n",
        "from faker import Faker\n",
        "#import faker\n",
        "\n",
        "from time import sleep\n",
        "\n",
        "from torrequest import TorRequest\n",
        "\n",
        "#import random\n",
        "#import requests\n",
        "f = Faker('fa_IR')\n",
        "proxies = []\n",
        "\n",
        "def random_proxy():\n",
        "  return random.randint(0, len(proxies) - 1)\n",
        "\n",
        "def HMAC(text):\n",
        "    key = '3f0a7d75e094c7385e3dbaa026877f2e067cbd1a4dbcf3867748f6b26f257117'\n",
        "    hash = hmac.new(key,msg=text,digestmod=hashlib.sha256)\n",
        "    return hash.hexdigest()\n",
        "\n",
        "def randomString(size):\n",
        "    chars = string.ascii_lowercase + string.digits\n",
        "    return ''.join(random.choice(chars) for _ in range(size))\n",
        "\n",
        "\n",
        "\n",
        "def main():  \n",
        "  with TorRequest(proxy_port=9050, ctrl_port=9051, password=None) as tr:\n",
        "    \n",
        "    print(type(tr.ctrl))            # a stem.control.Controller object\n",
        "    tr.ctrl.signal('CLEARDNSCACHE') # see Stem docs for the full API\n",
        "\n",
        "    print(type(tr.session))         # a requests.Session object\n",
        "    c = cookielib.CookieJar()\n",
        "    tr.session.cookies.update(c)    # see Requests docs for the full API\n",
        "    tr.reset_identity()\n",
        "    q_name= f.name()+ '1'\n",
        "    q_username= f.user_name()+'_drsuger'\n",
        "    q_email= 'drsuger_' + f.email()\n",
        "    q_password= 'drsuger123'\n",
        "    \n",
        "    print(q_name)\n",
        "    print(q_username)\n",
        "    print (q_email)\n",
        "    print (q_password)\n",
        "\n",
        "    username=q_username\n",
        "    name=q_name\n",
        "    password=q_password\n",
        "    email= q_email\n",
        "    getHeaders = {'User-Agent':'Instagram 73.0.0.0.18 Android (21/5.0.2; 480dpi; 1080x1776; LGE/Google; Nexus 5; hammerhead; hammerhead; en_US)',\n",
        "               'Accept':'text/html,application/xhtml+xml,application/xml;q=0.9,image/webp,*/*;q=0.8',\n",
        "               'Accept-Encoding':'gzip, deflate, sdch',\n",
        "               'Accept-Language':'en-US,en;q=0.8',\n",
        "               'upgrade-insecure-requests':'1'}\n",
        "\n",
        "#    s = requests.Session()\n",
        "    tr.get('https://instagram.com',headers=getHeaders)\n",
        "    #prit(s.text)\n",
        "    guid = randomString(8) + '-' + randomString(4) + \"-\" + randomString(4) + '-' + randomString(4) + '-' +randomString(12)\n",
        "    device_id = 'android-' + str(HMAC(str(random.randint(1000,9999))))[0:min(64,16)]\n",
        "\n",
        "    information = {'username':username,'first_name':name,'password':password,'email':email,'device_id':device_id,'guid':guid}\n",
        "    js = json.dumps(information)\n",
        "    payload = {'signed_body': HMAC(js) + '.' + js,'ig_sig_key_version':'4'}\n",
        "    postHeaders = {'Host':'i.instagram.com',\n",
        "                  'User-Agent':'Instagram 73.0.0.0.18 Android (21/5.0.2; 480dpi; 1080x1776; LGE/Google; Nexus 5; hammerhead; hammerhead; en_US)',\n",
        "                  'Accept-Language':'en-US',\n",
        "                  'Accept-Encoding':'gzip',\n",
        "                  'Cookie2':'$Version=1',\n",
        "                  'X-IG-Connection-Type':'mobile(UMTS)',\n",
        "                  'X-IG-Capabilities':'BQ=='\n",
        "                  }\n",
        "    #tr.headers = {'User-Agent': 'Instagram 8.1.1 Android (21/5.0.2; 480dpi; 1080x1776; LGE/Google; Nexus 5; hammerhead; hammerhead; en_US)'}\n",
        "    ##Hossein###################################################################\n",
        "    ua = UserAgent() # From here we generate a random user agent\n",
        "    #proxies = [] # Will contain proxies [ip, port]\n",
        "\n",
        "#    proxies_req = Request('https://www.sslproxies.org/')\n",
        "#    proxies_req.add_header('User-Agent', ua.random)\n",
        "#    proxies_doc = urlopen(proxies_req).read().decode('utf8')\n",
        "\n",
        "#    soup = BeautifulSoup(proxies_doc, 'html.parser')\n",
        "#   proxies_table = soup.find(id='proxylisttable')\n",
        "\n",
        "    # Save proxies in the array\n",
        " #   for row in proxies_table.tbody.find_all('tr'):\n",
        " #     proxies.append({\n",
        " #       'ip':   row.find_all('td')[0].string,\n",
        " #       'port': row.find_all('td')[1].string\n",
        " #     })\n",
        "\n",
        "    # Choose a random proxy\n",
        "#    proxy_index = random_proxy()\n",
        "#    proxy = proxies[proxy_index]\n",
        "\n",
        " #   q_http= 'http://' + proxy['ip'] + ':' + proxy['port'] \n",
        " #   q_https= 'https://' + proxy['ip'] + ':' + proxy['port'] \n",
        " #   print ('proxy generate: ' + q_http)\n",
        "    ############################################################################\n",
        "    \n",
        " #   proxies1 = {\"http\": q_http , \"https\": q_https}\n",
        "\n",
        "    #url = 'https://i.instagram.com/api/v1/accounts/create/'\n",
        "    #cookies = dict(cookies_are='working')\n",
        "\n",
        "    #qqqqq = s.get(url, cookies=cookies)\n",
        "    #print(qqqqq.text)\n",
        "    x = tr.post('https://i.instagram.com/api/v1/accounts/create/',headers=postHeaders,data=payload)\n",
        "    q= tr.get(\"http://httpbin.org/ip\")\n",
        "    print ('Proxy set on: ' + q.text)\n",
        "    #print (x)\n",
        "    result = json.loads(x.content)\n",
        "    print (result)\n",
        "   # sleep(5)\n",
        "   # x = tr.post('https://i.instagram.com/api/v1/accounts/create/',headers=postHeaders,data=payload)\n",
        "   # result = json.loads(x.content)\n",
        "   # print (result)\n",
        "    qcount=0\n",
        "    while result['status'] == 'fail':\n",
        "      #  if result['account_created'] == False:\n",
        "        if qcount == 4:\n",
        "            break\n",
        "        else:\n",
        "            qcount=qcount+1\n",
        "            print ( '#' + str(qcount) + ' Error: __ I will try again__________')\n",
        "            tr.reset_identity()\n",
        "            c = cookielib.CookieJar()\n",
        "            tr.session.cookies.update(c)    # see Requests docs for the full API\n",
        "            sleep(1)\n",
        "            x = tr.post('https://i.instagram.com/api/v1/accounts/create/',headers=postHeaders,data=payload)\n",
        "            result = json.loads(x.content)\n",
        "            print (result)\n",
        "            continue\n",
        "    else:\n",
        "         if result['account_created'] == True:\n",
        "            print ('Account has been created successfully')\n",
        "         #   break\n",
        "        \n",
        "   \n",
        "    #tr.reset_identity()\n",
        "    #sleep(20)\n",
        "    #x = tr.post('https://i.instagram.com/api/v1/accounts/create/',headers=postHeaders,data=payload)\n",
        "    #result = json.loads(x.content)\n",
        "    #1print (result)\n",
        "   \n",
        "  ## if result['status'] != 'fail':\n",
        "  #      if result['account_created'] == True:\n",
        "  #          print ('Account has been created successfully')\n",
        "  #  else:\n",
        "  #      print ('Error:')\n",
        "  #      tr.reset_identity()\n",
        "  #      c = cookielib.CookieJar()\n",
        "  #      tr.session.cookies.update(c)    # see Requests docs for the full API\n",
        "  #      sleep(10)\n",
        "  #      x = tr.post('https://i.instagram.com/api/v1/accounts/create/',headers=postHeaders,data=payload)\n",
        "  #      result = json.loads(x.content)\n",
        "  #      print (result)\n",
        "\n",
        "\n",
        "if __name__ == '__main__':\n",
        "  for qwwww in range(6):\n",
        "    main()\n",
        "    sleep(1)\n",
        "    print('###' + str(qwwww) + '________________________________________________________') "
      ],
      "execution_count": 157,
      "outputs": [
        {
          "output_type": "stream",
          "text": [
            "{\"ip\":\"35.199.177.16\"}<class 'stem.control.Controller'>\n",
            "<class 'requests.sessions.Session'>\n",
            "سرکار خانم محيا روحانی1\n",
            "myrbs04_drsuger\n",
            "drsuger_ryhnhmyn@chmail.ir\n",
            "drsuger123\n",
            "Proxy set on: {\n",
            "  \"origin\": \"85.114.142.205\"\n",
            "}\n",
            "\n",
            "{u'status': u'fail', u'feedback_title': u'Signup Error', u'feedback_message': u'Sorry! There\\u2019s a problem signing you up right now. Please try again later. We restrict certain content and actions to protect our community. Tell us if you think we made a mistake.', u'spam': True, u'feedback_action': u'report_problem', u'error_type': u'signup_block', u'feedback_appeal_label': u'Report problem', u'feedback_ignore_label': u'OK', u'message': u'feedback_required', u'feedback_url': u'repute/report_problem/instagram_can_signup/'}\n",
            "#1 Error: __ I will try again__________\n",
            "{u'status': u'fail', u'feedback_title': u'Signup Blocked', u'feedback_message': u\"Sorry, you can't create a new account right now.\", u'spam': True, u'feedback_action': u'open_request_form', u'error_type': u'signup_block', u'feedback_appeal_label': u'', u'feedback_ignore_label': u'OK', u'message': u'feedback_required', u'feedback_url': u''}\n",
            "#2 Error: __ I will try again__________\n",
            "{u'status': u'fail', u'feedback_title': u'Signup Error', u'feedback_message': u'Sorry! There\\u2019s a problem signing you up right now. Please try again later. We restrict certain content and actions to protect our community. Tell us if you think we made a mistake.', u'spam': True, u'feedback_action': u'report_problem', u'error_type': u'signup_block', u'feedback_appeal_label': u'Report problem', u'feedback_ignore_label': u'OK', u'message': u'feedback_required', u'feedback_url': u'repute/report_problem/instagram_can_signup/'}\n",
            "#3 Error: __ I will try again__________\n",
            "{u'status': u'fail', u'feedback_title': u'Signup Error', u'feedback_message': u'Sorry! There\\u2019s a problem signing you up right now. Please try again later. We restrict certain content and actions to protect our community. Tell us if you think we made a mistake.', u'spam': True, u'feedback_action': u'report_problem', u'error_type': u'signup_block', u'feedback_appeal_label': u'Report problem', u'feedback_ignore_label': u'OK', u'message': u'feedback_required', u'feedback_url': u'repute/report_problem/instagram_can_signup/'}\n",
            "#4 Error: __ I will try again__________\n",
            "{u'status': u'fail', u'feedback_title': u'Signup Error', u'feedback_message': u'Sorry! There\\u2019s a problem signing you up right now. Please try again later. We restrict certain content and actions to protect our community. Tell us if you think we made a mistake.', u'spam': True, u'feedback_action': u'report_problem', u'error_type': u'signup_block', u'feedback_appeal_label': u'Report problem', u'feedback_ignore_label': u'OK', u'message': u'feedback_required', u'feedback_url': u'repute/report_problem/instagram_can_signup/'}\n",
            "###0________________________________________________________\n",
            "<class 'stem.control.Controller'>\n",
            "<class 'requests.sessions.Session'>\n",
            "یلدا سغیری1\n",
            "msydy_drsuger\n",
            "drsuger_zmnyaynz@mailfa.com\n",
            "drsuger123\n",
            "Proxy set on: {\n",
            "  \"origin\": \"185.117.215.9\"\n",
            "}\n",
            "\n",
            "{u'status': u'fail', u'feedback_title': u'Signup Error', u'feedback_message': u'Sorry! There\\u2019s a problem signing you up right now. Please try again later. We restrict certain content and actions to protect our community. Tell us if you think we made a mistake.', u'spam': True, u'feedback_action': u'report_problem', u'error_type': u'signup_block', u'feedback_appeal_label': u'Report problem', u'feedback_ignore_label': u'OK', u'message': u'feedback_required', u'feedback_url': u'repute/report_problem/instagram_can_signup/'}\n",
            "#1 Error: __ I will try again__________\n",
            "{u'status': u'ok', u'created_user': {u'username': u'msydy_drsuger', u'reel_auto_archive': u'unset', u'has_anonymous_profile_picture': True, u'has_placed_orders': False, u'hd_profile_pic_versions': [{u'url': u'https://scontent-iad3-1.cdninstagram.com/vp/2bf983cc40290da9e3649b535dac2df9/5C81A77A/t51.2885-19/11906329_960233084022564_1448528159_a.jpg', u'width': 320, u'height': 320}, {u'url': u'https://scontent-iad3-1.cdninstagram.com/vp/2bf983cc40290da9e3649b535dac2df9/5C81A77A/t51.2885-19/11906329_960233084022564_1448528159_a.jpg', u'width': 640, u'height': 640}], u'is_verified': False, u'allow_contacts_sync': False, u'nux_private_first_page': False, u'allowed_commenter_type': u'any', u'show_insights_terms': False, u'profile_pic_url': u'https://scontent-iad3-1.cdninstagram.com/vp/2bf983cc40290da9e3649b535dac2df9/5C81A77A/t51.2885-19/11906329_960233084022564_1448528159_a.jpg', u'can_boost_post': False, u'full_name': u'\\u06cc\\u0644\\u062f\\u0627 \\u0633\\u063a\\u06cc\\u0631\\u06cc1', u'can_see_organic_insights': False, u'pk': 9196467611, u'hd_profile_pic_url_info': {u'url': u'https://scontent-iad3-1.cdninstagram.com/vp/2bf983cc40290da9e3649b535dac2df9/5C81A77A/t51.2885-19/11906329_960233084022564_1448528159_a.jpg', u'width': 150, u'height': 150}, u'nux_private_enabled': False, u'is_private': False}, u'multiple_users_on_device': True, u'account_created': True}\n",
            "Account has been created successfully\n",
            "###1________________________________________________________\n",
            "<class 'stem.control.Controller'>\n",
            "<class 'requests.sessions.Session'>\n",
            "جناب آقای دکتر مهدی حریریان 1\n",
            "myrhsynhwmn_drsuger\n",
            "drsuger_zrsm@zryn.ir\n",
            "drsuger123\n",
            "Proxy set on: {\n",
            "  \"origin\": \"162.213.3.221\"\n",
            "}\n",
            "\n",
            "{u'status': u'fail', u'feedback_title': u'Signup Error', u'feedback_message': u'Sorry! There\\u2019s a problem signing you up right now. Please try again later. We restrict certain content and actions to protect our community. Tell us if you think we made a mistake.', u'spam': True, u'feedback_action': u'report_problem', u'error_type': u'signup_block', u'feedback_appeal_label': u'Report problem', u'feedback_ignore_label': u'OK', u'message': u'feedback_required', u'feedback_url': u'repute/report_problem/instagram_can_signup/'}\n",
            "#1 Error: __ I will try again__________\n",
            "{u'status': u'fail', u'feedback_title': u'Signup Error', u'feedback_message': u'Sorry! There\\u2019s a problem signing you up right now. Please try again later. We restrict certain content and actions to protect our community. Tell us if you think we made a mistake.', u'spam': True, u'feedback_action': u'report_problem', u'error_type': u'signup_block', u'feedback_appeal_label': u'Report problem', u'feedback_ignore_label': u'OK', u'message': u'feedback_required', u'feedback_url': u'repute/report_problem/instagram_can_signup/'}\n",
            "#2 Error: __ I will try again__________\n",
            "{u'status': u'fail', u'feedback_title': u'Signup Error', u'feedback_message': u'Sorry! There\\u2019s a problem signing you up right now. Please try again later. We restrict certain content and actions to protect our community. Tell us if you think we made a mistake.', u'spam': True, u'feedback_action': u'report_problem', u'error_type': u'signup_block', u'feedback_appeal_label': u'Report problem', u'feedback_ignore_label': u'OK', u'message': u'feedback_required', u'feedback_url': u'repute/report_problem/instagram_can_signup/'}\n",
            "#3 Error: __ I will try again__________\n",
            "{u'status': u'ok', u'created_user': {u'username': u'myrhsynhwmn_drsuger', u'reel_auto_archive': u'unset', u'has_anonymous_profile_picture': True, u'has_placed_orders': False, u'allowed_commenter_type': u'any', u'nux_private_enabled': False, u'allow_contacts_sync': False, u'nux_private_first_page': False, u'hd_profile_pic_versions': [{u'url': u'https://scontent-waw1-1.cdninstagram.com/vp/2bf983cc40290da9e3649b535dac2df9/5C81A77A/t51.2885-19/11906329_960233084022564_1448528159_a.jpg', u'width': 320, u'height': 320}, {u'url': u'https://scontent-waw1-1.cdninstagram.com/vp/2bf983cc40290da9e3649b535dac2df9/5C81A77A/t51.2885-19/11906329_960233084022564_1448528159_a.jpg', u'width': 640, u'height': 640}], u'show_insights_terms': False, u'profile_pic_url': u'https://scontent-waw1-1.cdninstagram.com/vp/2bf983cc40290da9e3649b535dac2df9/5C81A77A/t51.2885-19/11906329_960233084022564_1448528159_a.jpg', u'can_boost_post': False, u'full_name': u'\\u062c\\u0646\\u0627\\u0628 \\u0622\\u0642\\u0627\\u06cc \\u062f\\u06a9\\u062a\\u0631 \\u0645\\u0647\\u062f\\u06cc \\u062d\\u0631\\u06cc\\u0631\\u06cc\\u0627\\u0646 1', u'can_see_organic_insights': False, u'pk': 9179108283, u'hd_profile_pic_url_info': {u'url': u'https://scontent-waw1-1.cdninstagram.com/vp/2bf983cc40290da9e3649b535dac2df9/5C81A77A/t51.2885-19/11906329_960233084022564_1448528159_a.jpg', u'width': 150, u'height': 150}, u'is_verified': False, u'is_private': False}, u'multiple_users_on_device': True, u'account_created': True}\n",
            "Account has been created successfully\n",
            "###2________________________________________________________\n",
            "<class 'stem.control.Controller'>\n",
            "<class 'requests.sessions.Session'>\n",
            "مهدیه مجتبوی1\n",
            "myrmhmd34_drsuger\n",
            "drsuger_hly95@zmzm.com\n",
            "drsuger123\n",
            "Proxy set on: {\n",
            "  \"origin\": \"185.100.87.129\"\n",
            "}\n",
            "\n",
            "{u'status': u'fail', u'feedback_title': u'Signup Error', u'feedback_message': u'Sorry! There\\u2019s a problem signing you up right now. Please try again later. We restrict certain content and actions to protect our community. Tell us if you think we made a mistake.', u'spam': True, u'feedback_action': u'report_problem', u'error_type': u'signup_block', u'feedback_appeal_label': u'Report problem', u'feedback_ignore_label': u'OK', u'message': u'feedback_required', u'feedback_url': u'repute/report_problem/instagram_can_signup/'}\n",
            "#1 Error: __ I will try again__________\n",
            "{u'status': u'fail', u'feedback_title': u'Signup Error', u'feedback_message': u'Sorry! There\\u2019s a problem signing you up right now. Please try again later. We restrict certain content and actions to protect our community. Tell us if you think we made a mistake.', u'spam': True, u'feedback_action': u'report_problem', u'error_type': u'signup_block', u'feedback_appeal_label': u'Report problem', u'feedback_ignore_label': u'OK', u'message': u'feedback_required', u'feedback_url': u'repute/report_problem/instagram_can_signup/'}\n",
            "#2 Error: __ I will try again__________\n",
            "{u'status': u'fail', u'feedback_title': u'Signup Error', u'feedback_message': u'Sorry! There\\u2019s a problem signing you up right now. Please try again later. We restrict certain content and actions to protect our community. Tell us if you think we made a mistake.', u'spam': True, u'feedback_action': u'report_problem', u'error_type': u'signup_block', u'feedback_appeal_label': u'Report problem', u'feedback_ignore_label': u'OK', u'message': u'feedback_required', u'feedback_url': u'repute/report_problem/instagram_can_signup/'}\n",
            "#3 Error: __ I will try again__________\n",
            "{u'status': u'fail', u'feedback_title': u'Signup Error', u'feedback_message': u'Sorry! There\\u2019s a problem signing you up right now. Please try again later. We restrict certain content and actions to protect our community. Tell us if you think we made a mistake.', u'spam': True, u'feedback_action': u'report_problem', u'error_type': u'signup_block', u'feedback_appeal_label': u'Report problem', u'feedback_ignore_label': u'OK', u'message': u'feedback_required', u'feedback_url': u'repute/report_problem/instagram_can_signup/'}\n",
            "#4 Error: __ I will try again__________\n",
            "{u'status': u'fail', u'feedback_title': u'Signup Error', u'feedback_message': u'Sorry! There\\u2019s a problem signing you up right now. Please try again later. We restrict certain content and actions to protect our community. Tell us if you think we made a mistake.', u'spam': True, u'feedback_action': u'report_problem', u'error_type': u'signup_block', u'feedback_appeal_label': u'Report problem', u'feedback_ignore_label': u'OK', u'message': u'feedback_required', u'feedback_url': u'repute/report_problem/instagram_can_signup/'}\n",
            "###3________________________________________________________\n",
            "<class 'stem.control.Controller'>\n",
            "<class 'requests.sessions.Session'>\n",
            "طاها بهمنی 1\n",
            "bnymyn30_drsuger\n",
            "drsuger_khrmnyftmh@mailfa.com\n",
            "drsuger123\n",
            "Proxy set on: {\n",
            "  \"origin\": \"185.220.102.6\"\n",
            "}\n",
            "\n",
            "{u'status': u'fail', u'feedback_title': u'Signup Error', u'feedback_message': u'Sorry! There\\u2019s a problem signing you up right now. Please try again later. We restrict certain content and actions to protect our community. Tell us if you think we made a mistake.', u'spam': True, u'feedback_action': u'report_problem', u'error_type': u'signup_block', u'feedback_appeal_label': u'Report problem', u'feedback_ignore_label': u'OK', u'message': u'feedback_required', u'feedback_url': u'repute/report_problem/instagram_can_signup/'}\n",
            "#1 Error: __ I will try again__________\n",
            "{u'status': u'fail', u'feedback_title': u'Signup Error', u'feedback_message': u'Sorry! There\\u2019s a problem signing you up right now. Please try again later. We restrict certain content and actions to protect our community. Tell us if you think we made a mistake.', u'spam': True, u'feedback_action': u'report_problem', u'error_type': u'signup_block', u'feedback_appeal_label': u'Report problem', u'feedback_ignore_label': u'OK', u'message': u'feedback_required', u'feedback_url': u'repute/report_problem/instagram_can_signup/'}\n",
            "#2 Error: __ I will try again__________\n",
            "{u'status': u'fail', u'feedback_title': u'Signup Error', u'feedback_message': u'Sorry! There\\u2019s a problem signing you up right now. Please try again later. We restrict certain content and actions to protect our community. Tell us if you think we made a mistake.', u'spam': True, u'feedback_action': u'report_problem', u'error_type': u'signup_block', u'feedback_appeal_label': u'Report problem', u'feedback_ignore_label': u'OK', u'message': u'feedback_required', u'feedback_url': u'repute/report_problem/instagram_can_signup/'}\n",
            "#3 Error: __ I will try again__________\n",
            "{u'status': u'fail', u'feedback_title': u'Signup Error', u'feedback_message': u'Sorry! There\\u2019s a problem signing you up right now. Please try again later. We restrict certain content and actions to protect our community. Tell us if you think we made a mistake.', u'spam': True, u'feedback_action': u'report_problem', u'error_type': u'signup_block', u'feedback_appeal_label': u'Report problem', u'feedback_ignore_label': u'OK', u'message': u'feedback_required', u'feedback_url': u'repute/report_problem/instagram_can_signup/'}\n",
            "#4 Error: __ I will try again__________\n",
            "{u'status': u'fail', u'feedback_title': u'Signup Error', u'feedback_message': u'Sorry! There\\u2019s a problem signing you up right now. Please try again later. We restrict certain content and actions to protect our community. Tell us if you think we made a mistake.', u'spam': True, u'feedback_action': u'report_problem', u'error_type': u'signup_block', u'feedback_appeal_label': u'Report problem', u'feedback_ignore_label': u'OK', u'message': u'feedback_required', u'feedback_url': u'repute/report_problem/instagram_can_signup/'}\n",
            "###4________________________________________________________\n",
            "<class 'stem.control.Controller'>\n",
            "<class 'requests.sessions.Session'>\n",
            "عباس اکبر پور1\n",
            "rzfry_drsuger\n",
            "drsuger_myrrddbty@bhnwsh.ir\n",
            "drsuger123\n",
            "Proxy set on: {\n",
            "  \"origin\": \"178.17.166.150\"\n",
            "}\n",
            "\n",
            "{u'status': u'fail', u'feedback_title': u'Signup Error', u'feedback_message': u'Sorry! There\\u2019s a problem signing you up right now. Please try again later. We restrict certain content and actions to protect our community. Tell us if you think we made a mistake.', u'spam': True, u'feedback_action': u'report_problem', u'error_type': u'signup_block', u'feedback_appeal_label': u'Report problem', u'feedback_ignore_label': u'OK', u'message': u'feedback_required', u'feedback_url': u'repute/report_problem/instagram_can_signup/'}\n",
            "#1 Error: __ I will try again__________\n",
            "{u'status': u'fail', u'feedback_title': u'Signup Error', u'feedback_message': u'Sorry! There\\u2019s a problem signing you up right now. Please try again later. We restrict certain content and actions to protect our community. Tell us if you think we made a mistake.', u'spam': True, u'feedback_action': u'report_problem', u'error_type': u'signup_block', u'feedback_appeal_label': u'Report problem', u'feedback_ignore_label': u'OK', u'message': u'feedback_required', u'feedback_url': u'repute/report_problem/instagram_can_signup/'}\n",
            "#2 Error: __ I will try again__________\n",
            "{u'status': u'fail', u'feedback_title': u'You\\u2019re Temporarily Blocked', u'feedback_message': u'It looks like you were misusing this feature by going too fast. You\\u2019ve been temporarily blocked from using it. We restrict certain content and actions to protect our community. Tell us if you think we made a mistake.', u'spam': True, u'feedback_action': u'report_problem', u'error_type': u'signup_block', u'feedback_appeal_label': u'Report problem', u'feedback_ignore_label': u'OK', u'message': u'feedback_required', u'feedback_url': u'repute/report_problem/instagram_can_signup/'}\n",
            "#3 Error: __ I will try again__________\n",
            "{u'status': u'fail', u'feedback_title': u'You\\u2019re Temporarily Blocked', u'feedback_message': u'It looks like you were misusing this feature by going too fast. You\\u2019ve been temporarily blocked from using it. We restrict certain content and actions to protect our community. Tell us if you think we made a mistake.', u'spam': True, u'feedback_action': u'report_problem', u'error_type': u'signup_block', u'feedback_appeal_label': u'Report problem', u'feedback_ignore_label': u'OK', u'message': u'feedback_required', u'feedback_url': u'repute/report_problem/instagram_can_signup/'}\n",
            "#4 Error: __ I will try again__________\n",
            "{u'status': u'fail', u'feedback_title': u'You\\u2019re Temporarily Blocked', u'feedback_message': u'It looks like you were misusing this feature by going too fast. You\\u2019ve been temporarily blocked from using it. We restrict certain content and actions to protect our community. Tell us if you think we made a mistake.', u'spam': True, u'feedback_action': u'report_problem', u'error_type': u'signup_block', u'feedback_appeal_label': u'Report problem', u'feedback_ignore_label': u'OK', u'message': u'feedback_required', u'feedback_url': u'repute/report_problem/instagram_can_signup/'}\n",
            "###5________________________________________________________\n"
          ],
          "name": "stdout"
        }
      ]
    },
    {
      "metadata": {
        "colab_type": "text",
        "id": "-Rh3-Vt9Nev9"
      },
      "cell_type": "markdown",
      "source": [
        "## Getting Started\n",
        "- [Overview of Colaboratory](/notebooks/basic_features_overview.ipynb)\n",
        "- [Loading and saving data: Local files, Drive, Sheets, Google Cloud Storage](/notebooks/io.ipynb)\n",
        "- [Importing libraries and installing dependencies](/notebooks/snippets/importing_libraries.ipynb)\n",
        "- [Using Google Cloud BigQuery](/notebooks/bigquery.ipynb)\n",
        "- [Forms](/notebooks/forms.ipynb), [Charts](/notebooks/charts.ipynb), [Markdown](/notebooks/markdown_guide.ipynb), & [Widgets](/notebooks/widgets.ipynb)\n",
        "- [TensorFlow with GPU](/notebooks/gpu.ipynb)\n",
        "- [TensorFlow with TPU](/notebooks/tpu.ipynb)\n",
        "- [Machine Learning Crash Course](https://developers.google.com/machine-learning/crash-course/): [Intro to Pandas](/notebooks/mlcc/intro_to_pandas.ipynb) & [First Steps with TensorFlow](/notebooks/mlcc/first_steps_with_tensor_flow.ipynb)\n",
        "- [Using Colab with GitHub](https://colab.research.google.com/github/googlecolab/colabtools/blob/master/notebooks/colab-github-demo.ipynb)\n"
      ]
    },
    {
      "metadata": {
        "id": "s8VHCT-yWXOI",
        "colab_type": "code",
        "colab": {
          "base_uri": "https://localhost:8080/",
          "height": 110
        },
        "outputId": "835274e2-dac2-4fe9-c4ac-ab411bc882ef"
      },
      "cell_type": "code",
      "source": [
        "i = 0\n",
        "while i < 6:\n",
        "  i += 1\n",
        "  if i != 3:\n",
        "    print(i)\n",
        "  else:\n",
        "    continue\n",
        "\n",
        "# Note that number 3 is missing in the result\n"
      ],
      "execution_count": 114,
      "outputs": [
        {
          "output_type": "stream",
          "text": [
            "1\n",
            "2\n",
            "4\n",
            "5\n",
            "6\n"
          ],
          "name": "stdout"
        }
      ]
    },
    {
      "metadata": {
        "colab_type": "text",
        "id": "1fr51oVCHRZU"
      },
      "cell_type": "markdown",
      "source": [
        "## Highlighted Features\n",
        "### Seedbank\n",
        "\n",
        "Looking for Colab notebooks to learn from? Check out [Seedbank](https://tools.google.com/seedbank/), a place to discover interactive machine learning examples."
      ]
    },
    {
      "metadata": {
        "colab_type": "text",
        "id": "9wi5kfGdhK0R"
      },
      "cell_type": "markdown",
      "source": [
        "### TensorFlow execution"
      ]
    },
    {
      "metadata": {
        "colab_type": "text",
        "id": "S9GW-n-oYWIj"
      },
      "cell_type": "markdown",
      "source": [
        "Colaboratory allows you to execute TensorFlow code in your browser with a single click. The example below adds two matrices.\n",
        "\n",
        "$\\begin{bmatrix}\n",
        "  1. & 1. & 1. \\\\\n",
        "  1. & 1. & 1. \\\\\n",
        "\\end{bmatrix} +\n",
        "\\begin{bmatrix}\n",
        "  1. & 2. & 3. \\\\\n",
        "  4. & 5. & 6. \\\\\n",
        "\\end{bmatrix} =\n",
        "\\begin{bmatrix}\n",
        "  2. & 3. & 4. \\\\\n",
        "  5. & 6. & 7. \\\\\n",
        "\\end{bmatrix}$"
      ]
    },
    {
      "metadata": {
        "colab_type": "code",
        "id": "oYZkU7ZN3CL0",
        "outputId": "9589151d-5ff4-4bca-f05e-8bcba8ffcba1",
        "colab": {
          "base_uri": "https://localhost:8080/",
          "height": 53
        }
      },
      "cell_type": "code",
      "source": [
        "import tensorflow as tf\n",
        "\n",
        "input1 = tf.ones((2, 3))\n",
        "input2 = tf.reshape(tf.range(1, 7, dtype=tf.float32), (2, 3))\n",
        "output = input1 + input2\n",
        "\n",
        "with tf.Session():\n",
        "  result = output.eval()\n",
        "result  "
      ],
      "execution_count": 0,
      "outputs": [
        {
          "output_type": "execute_result",
          "data": {
            "text/plain": [
              "array([[2., 3., 4.],\n",
              "       [5., 6., 7.]], dtype=float32)"
            ]
          },
          "metadata": {
            "tags": []
          },
          "execution_count": 0
        }
      ]
    },
    {
      "metadata": {
        "colab_type": "text",
        "id": "nwYF0E3Sjiy4"
      },
      "cell_type": "markdown",
      "source": [
        "### GitHub\n",
        "\n",
        "For a full discussion of interactions between Colab and GitHub, see [Using Colab with GitHub](https://colab.research.google.com/github/googlecolab/colabtools/blob/master/notebooks/colab-github-demo.ipynb). As a brief summary:\n",
        "\n",
        "To save a copy of your Colab notebook to Github, select *File → Save a copy to GitHub…*\n",
        "\n",
        "To load a specific notebook from github, append the github path to http://colab.research.google.com/github/.\n",
        "For example to load this notebook in Colab: [https://github.com/tensorflow/docs/blob/master/site/en/tutorials/_index.ipynb](https://github.com/tensorflow/docs/blob/master/site/en/tutorials/_index.ipynb) use the following Colab URL: [https://colab.research.google.com/github/tensorflow/docs/blob/master/site/en/tutorials/_index.ipynb](https://colab.research.google.com/github/tensorflow/docs/blob/master/site/en/tutorials/_index.ipynb)\n",
        "\n",
        "To open a github notebook in one click, we recommend installing the [Open in Colab Chrome Extension](https://chrome.google.com/webstore/detail/open-in-colab/iogfkhleblhcpcekbiedikdehleodpjo).\n",
        "\n"
      ]
    },
    {
      "metadata": {
        "colab_type": "text",
        "id": "yv2XIwi5hQ_g"
      },
      "cell_type": "markdown",
      "source": [
        "### Visualization"
      ]
    },
    {
      "metadata": {
        "colab_type": "text",
        "id": "rYs5mx2JZkmy"
      },
      "cell_type": "markdown",
      "source": [
        "Colaboratory includes widely used libraries like [matplotlib](https://matplotlib.org/), simplifying visualization."
      ]
    },
    {
      "metadata": {
        "colab_type": "code",
        "id": "xqrc5C-IaA5J",
        "outputId": "3460cc84-faf8-4d8c-a4e6-96a6809c389a",
        "colab": {
          "height": 360
        }
      },
      "cell_type": "code",
      "source": [
        "import matplotlib.pyplot as plt\n",
        "import numpy as np\n",
        "\n",
        "x = np.arange(20)\n",
        "y = [x_i + np.random.randn(1) for x_i in x]\n",
        "a, b = np.polyfit(x, y, 1)\n",
        "_ = plt.plot(x, y, 'o', np.arange(20), a*np.arange(20)+b, '-')"
      ],
      "execution_count": 0,
      "outputs": [
        {
          "output_type": "display_data",
          "data": {
            "image/png": "[encoded data removed]",
            "text/plain": [
              "<matplotlib.figure.Figure at 0x562d64cf1b10>"
            ]
          },
          "metadata": {
            "tags": []
          }
        }
      ]
    },
    {
      "metadata": {
        "colab_type": "text",
        "id": "AN_LRQ9NkOjs"
      },
      "cell_type": "markdown",
      "source": [
        "Want to use a new library?  `pip install` it at the top of the notebook. Then that library can be used anywhere else in the notebook. For recipes to import commonly used libraries, refer to the [importing libraries example notebook](/notebooks/snippets/importing_libraries.ipynb)."
      ]
    },
    {
      "metadata": {
        "colab_type": "code",
        "id": "FlQq0SUepQbd",
        "outputId": "6e404831-3336-4633-b76f-c6313ecdd356",
        "colab": {
          "base_uri": "https://localhost:8080/",
          "height": 349
        }
      },
      "cell_type": "code",
      "source": [
        "!pip install -q matplotlib-venn\n",
        "\n",
        "from matplotlib_venn import venn2\n",
        "_ = venn2(subsets = (3, 2, 1))"
      ],
      "execution_count": 0,
      "outputs": [
        {
          "output_type": "display_data",
          "data": {
            "image/png": "[encoded data removed]",
            "text/plain": [
              "<matplotlib.figure.Figure at 0x7f48ff99ff10>"
            ]
          },
          "metadata": {
            "tags": []
          }
        }
      ]
    },
    {
      "metadata": {
        "colab_type": "text",
        "id": "LxZ3dPzYnyNF"
      },
      "cell_type": "markdown",
      "source": [
        "### Forms\n",
        "\n",
        "Forms can be used to parameterize code. See the [forms example notebook](/notebooks/forms.ipynb) for more details."
      ]
    },
    {
      "metadata": {
        "colab_type": "code",
        "id": "FQ_Hx_9tn7uF",
        "colab": {}
      },
      "cell_type": "code",
      "source": [
        "#@title Examples\n",
        "\n",
        "text = 'value' #@param \n",
        "date_input = '2018-03-22' #@param {type:\"date\"}\n",
        "number_slider = 0 #@param {type:\"slider\", min:-1, max:1, step:0.1}\n",
        "dropdown = '1st option' #@param [\"1st option\", \"2nd option\", \"3rd option\"]\n"
      ],
      "execution_count": 0,
      "outputs": []
    },
    {
      "metadata": {
        "colab_type": "text",
        "id": "rTX3heEtu0b2"
      },
      "cell_type": "markdown",
      "source": [
        "### Local runtime support\n",
        "\n",
        "Colab  supports connecting to a Jupyter runtime on your local machine. For more information, see our [documentation](https://research.google.com/colaboratory/local-runtimes.html)."
      ]
    },
    {
      "metadata": {
        "id": "3sE_8PYLq0B8",
        "colab_type": "code",
        "outputId": "e9a9709f-a42b-4472-c4ee-9c92f3800d5e",
        "colab": {
          "base_uri": "https://localhost:8080/",
          "height": 36
        }
      },
      "cell_type": "code",
      "source": [
        "!pip install ocookie"
      ],
      "execution_count": 20,
      "outputs": [
        {
          "output_type": "stream",
          "text": [
            "Requirement already satisfied: ocookie in /usr/local/lib/python3.6/dist-packages (0.1.1)\n"
          ],
          "name": "stdout"
        }
      ]
    },
    {
      "metadata": {
        "id": "_W76Fl9vq4ie",
        "colab_type": "code",
        "outputId": "72171d8f-0836-47d6-b43d-f4c82aac8f30",
        "colab": {
          "base_uri": "https://localhost:8080/",
          "height": 688
        }
      },
      "cell_type": "code",
      "source": [
        "!pip install cookielib3"
      ],
      "execution_count": 22,
      "outputs": [
        {
          "output_type": "stream",
          "text": [
            "Traceback (most recent call last):\n",
            "  File \"/usr/local/bin/pip3\", line 7, in <module>\n",
            "    from pip._internal import main\n",
            "  File \"/usr/local/lib/python3.6/dist-packages/pip/_internal/__init__.py\", line 40, in <module>\n",
            "    from pip._internal.cli.autocompletion import autocomplete\n",
            "  File \"/usr/local/lib/python3.6/dist-packages/pip/_internal/cli/autocompletion.py\", line 8, in <module>\n",
            "    from pip._internal.cli.main_parser import create_main_parser\n",
            "  File \"/usr/local/lib/python3.6/dist-packages/pip/_internal/cli/main_parser.py\", line 8, in <module>\n",
            "    from pip._internal.cli import cmdoptions\n",
            "  File \"/usr/local/lib/python3.6/dist-packages/pip/_internal/cli/cmdoptions.py\", line 17, in <module>\n",
            "    from pip._internal.locations import USER_CACHE_DIR, src_prefix\n",
            "  File \"/usr/local/lib/python3.6/dist-packages/pip/_internal/locations.py\", line 6, in <module>\n",
            "    import platform\n",
            "  File \"/usr/lib/python3.6/platform.py\", line 252, in <module>\n",
            "    _release_filename = re.compile(r'(\\w+)[-_](release|version)', re.ASCII)\n",
            "  File \"/usr/lib/python3.6/re.py\", line 233, in compile\n",
            "    return _compile(pattern, flags)\n",
            "  File \"/usr/lib/python3.6/re.py\", line 301, in _compile\n",
            "    p = sre_compile.compile(pattern, flags)\n",
            "  File \"/usr/lib/python3.6/sre_compile.py\", line 566, in compile\n",
            "    code = _code(p, flags)\n",
            "  File \"/usr/lib/python3.6/sre_compile.py\", line 551, in _code\n",
            "    _compile(code, p.data, flags)\n",
            "  File \"/usr/lib/python3.6/sre_compile.py\", line 146, in _compile\n",
            "    _compile(code, p, (flags | add_flags) & ~del_flags)\n",
            "  File \"/usr/lib/python3.6/sre_compile.py\", line 187, in _compile\n",
            "    _compile(code, av, flags)\n",
            "  File \"/usr/lib/python3.6/sre_compile.py\", line 72, in _compile\n",
            "    if (flags & SRE_FLAG_IGNORECASE and\n",
            "  File \"/usr/lib/python3.6/enum.py\", line 804, in __and__\n",
            "    return self.__class__(self._value_ & self.__class__(other)._value_)\n",
            "  File \"/usr/lib/python3.6/enum.py\", line 291, in __call__\n",
            "    return cls.__new__(cls, value)\n",
            "  File \"/usr/lib/python3.6/enum.py\", line 519, in __new__\n",
            "    if type(value) is cls:\n",
            "KeyboardInterrupt\n"
          ],
          "name": "stdout"
        }
      ]
    },
    {
      "metadata": {
        "id": "hHpqfeQDAvDv",
        "colab_type": "code",
        "colab": {
          "base_uri": "https://localhost:8080/",
          "height": 110
        },
        "outputId": "ac90227d-a235-4f9d-9ca0-57a314c26b6c"
      },
      "cell_type": "code",
      "source": [
        "!apt-get install tor"
      ],
      "execution_count": 11,
      "outputs": [
        {
          "output_type": "stream",
          "text": [
            "Reading package lists... Done\n",
            "Building dependency tree       \n",
            "Reading state information... Done\n",
            "tor is already the newest version (0.3.2.10-1).\n",
            "0 upgraded, 0 newly installed, 0 to remove and 5 not upgraded.\n"
          ],
          "name": "stdout"
        }
      ]
    },
    {
      "metadata": {
        "id": "3bizgptLA9Em",
        "colab_type": "code",
        "colab": {
          "base_uri": "https://localhost:8080/",
          "height": 149
        },
        "outputId": "3a15965c-a5c5-4de7-c563-201bfc2076db"
      },
      "cell_type": "code",
      "source": [
        "!pip install requests[socks]"
      ],
      "execution_count": 12,
      "outputs": [
        {
          "output_type": "stream",
          "text": [
            "Requirement already satisfied: requests[socks] in /usr/local/lib/python3.6/dist-packages (2.18.4)\n",
            "Requirement already satisfied: certifi>=2017.4.17 in /usr/local/lib/python3.6/dist-packages (from requests[socks]) (2018.10.15)\n",
            "Requirement already satisfied: urllib3<1.23,>=1.21.1 in /usr/local/lib/python3.6/dist-packages (from requests[socks]) (1.22)\n",
            "Requirement already satisfied: idna<2.7,>=2.5 in /usr/local/lib/python3.6/dist-packages (from requests[socks]) (2.6)\n",
            "Requirement already satisfied: chardet<3.1.0,>=3.0.2 in /usr/local/lib/python3.6/dist-packages (from requests[socks]) (3.0.4)\n",
            "Requirement already satisfied: PySocks!=1.5.7,>=1.5.6; extra == \"socks\" in /usr/local/lib/python3.6/dist-packages (from requests[socks]) (1.6.8)\n"
          ],
          "name": "stdout"
        }
      ]
    },
    {
      "metadata": {
        "id": "EqNZId0oOMkP",
        "colab_type": "code",
        "colab": {
          "base_uri": "https://localhost:8080/",
          "height": 36
        },
        "outputId": "908bfe68-fff4-4214-a134-b5c89a274f68"
      },
      "cell_type": "code",
      "source": [
        "!pip2 install ocookie"
      ],
      "execution_count": 26,
      "outputs": [
        {
          "output_type": "stream",
          "text": [
            "Requirement already satisfied: ocookie in /usr/local/lib/python2.7/dist-packages (0.1.1)\n"
          ],
          "name": "stdout"
        }
      ]
    },
    {
      "metadata": {
        "id": "_w63CLM0OWBc",
        "colab_type": "code",
        "colab": {
          "base_uri": "https://localhost:8080/",
          "height": 130
        },
        "outputId": "d4f5582e-25af-49ec-fe97-448c6939245f"
      },
      "cell_type": "code",
      "source": [
        "!pip install cookies"
      ],
      "execution_count": 28,
      "outputs": [
        {
          "output_type": "stream",
          "text": [
            "Collecting cookies\n",
            "\u001b[?25l  Downloading https://files.pythonhosted.org/packages/6a/60/557f84aa2db629e5124aa05408b975b1b5d0e1cec16cde0bfa06aae097d3/cookies-2.2.1-py2.py3-none-any.whl (44kB)\n",
            "\u001b[K    100% |████████████████████████████████| 51kB 3.4MB/s \n",
            "\u001b[?25hInstalling collected packages: cookies\n",
            "Successfully installed cookies-2.2.1\n"
          ],
          "name": "stdout"
        }
      ]
    },
    {
      "metadata": {
        "id": "2gIuX_QXRRDt",
        "colab_type": "code",
        "colab": {
          "base_uri": "https://localhost:8080/",
          "height": 801
        },
        "outputId": "e4588699-1e4e-49c7-b7ff-ab2385a398ed"
      },
      "cell_type": "code",
      "source": [
        "!pip install cookiejar"
      ],
      "execution_count": 34,
      "outputs": [
        {
          "output_type": "stream",
          "text": [
            "Collecting cookiejar\n",
            "  Downloading https://files.pythonhosted.org/packages/48/58/755d4e454b3324e41243bf675706c1b1b9bd8d2a3ca8fc9c5306c36c4b86/cookiejar-0.0.2-py2.py3-none-any.whl\n",
            "Collecting pager (from cookiejar)\n",
            "  Downloading https://files.pythonhosted.org/packages/5f/a1/95f8605e50c0ccc85ae53f63f5c4cb83b72f71fbd049a0e8259913e2cc22/pager-3.3.tar.gz\n",
            "Collecting argparse (from cookiejar)\n",
            "  Downloading https://files.pythonhosted.org/packages/f2/94/3af39d34be01a24a6e65433d19e107099374224905f1e0cc6bbe1fd22a2f/argparse-1.4.0-py2.py3-none-any.whl\n",
            "Collecting cookiecutter (from cookiejar)\n",
            "\u001b[?25l  Downloading https://files.pythonhosted.org/packages/16/99/1ca3a75978270288354f419e9166666801cf7e7d8df984de44a7d5d8b8d0/cookiecutter-1.6.0-py2.py3-none-any.whl (50kB)\n",
            "\u001b[K    100% |████████████████████████████████| 51kB 6.1MB/s \n",
            "\u001b[?25hCollecting jinja2-time>=0.1.0 (from cookiecutter->cookiejar)\n",
            "  Downloading https://files.pythonhosted.org/packages/6a/a1/d44fa38306ffa34a7e1af09632b158e13ec89670ce491f8a15af3ebcb4e4/jinja2_time-0.2.0-py2.py3-none-any.whl\n",
            "Collecting poyo>=0.1.0 (from cookiecutter->cookiejar)\n",
            "  Downloading https://files.pythonhosted.org/packages/e0/16/e00e3001007a5e416ca6a51def6f9e4be6a774bf1c8486d20466f834d113/poyo-0.4.2-py2.py3-none-any.whl\n",
            "Requirement already satisfied: requests>=2.18.0 in /usr/local/lib/python3.6/dist-packages (from cookiecutter->cookiejar) (2.18.4)\n",
            "Collecting click>=5.0 (from cookiecutter->cookiejar)\n",
            "\u001b[?25l  Downloading https://files.pythonhosted.org/packages/fa/37/45185cb5abbc30d7257104c434fe0b07e5a195a6847506c074527aa599ec/Click-7.0-py2.py3-none-any.whl (81kB)\n",
            "\u001b[K    100% |████████████████████████████████| 81kB 6.9MB/s \n",
            "\u001b[?25hCollecting whichcraft>=0.4.0 (from cookiecutter->cookiejar)\n",
            "  Downloading https://files.pythonhosted.org/packages/ab/c6/eb4d1dfbb68168bb01c4394420e5e71d5851e64b910838aa0f14ebd5c7a0/whichcraft-0.5.2-py2.py3-none-any.whl\n",
            "Requirement already satisfied: future>=0.15.2 in /usr/local/lib/python3.6/dist-packages (from cookiecutter->cookiejar) (0.16.0)\n",
            "Collecting binaryornot>=0.2.0 (from cookiecutter->cookiejar)\n",
            "  Downloading https://files.pythonhosted.org/packages/24/7e/f7b6f453e6481d1e233540262ccbfcf89adcd43606f44a028d7f5fae5eb2/binaryornot-0.4.4-py2.py3-none-any.whl\n",
            "Requirement already satisfied: jinja2>=2.7 in /usr/local/lib/python3.6/dist-packages (from cookiecutter->cookiejar) (2.10)\n",
            "Collecting arrow (from jinja2-time>=0.1.0->cookiecutter->cookiejar)\n",
            "\u001b[?25l  Downloading https://files.pythonhosted.org/packages/e0/86/4eb5228a43042e9a80fe8c84093a8a36f5db34a3767ebd5e1e7729864e7b/arrow-0.12.1.tar.gz (65kB)\n",
            "\u001b[K    100% |████████████████████████████████| 71kB 6.9MB/s \n",
            "\u001b[?25hRequirement already satisfied: certifi>=2017.4.17 in /usr/local/lib/python3.6/dist-packages (from requests>=2.18.0->cookiecutter->cookiejar) (2018.10.15)\n",
            "Requirement already satisfied: urllib3<1.23,>=1.21.1 in /usr/local/lib/python3.6/dist-packages (from requests>=2.18.0->cookiecutter->cookiejar) (1.22)\n",
            "Requirement already satisfied: idna<2.7,>=2.5 in /usr/local/lib/python3.6/dist-packages (from requests>=2.18.0->cookiecutter->cookiejar) (2.6)\n",
            "Requirement already satisfied: chardet<3.1.0,>=3.0.2 in /usr/local/lib/python3.6/dist-packages (from requests>=2.18.0->cookiecutter->cookiejar) (3.0.4)\n",
            "Requirement already satisfied: MarkupSafe>=0.23 in /usr/local/lib/python3.6/dist-packages (from jinja2>=2.7->cookiecutter->cookiejar) (1.1.0)\n",
            "Requirement already satisfied: python-dateutil in /usr/local/lib/python3.6/dist-packages (from arrow->jinja2-time>=0.1.0->cookiecutter->cookiejar) (2.5.3)\n",
            "Requirement already satisfied: six>=1.5 in /usr/local/lib/python3.6/dist-packages (from python-dateutil->arrow->jinja2-time>=0.1.0->cookiecutter->cookiejar) (1.11.0)\n",
            "Building wheels for collected packages: pager, arrow\n",
            "  Running setup.py bdist_wheel for pager ... \u001b[?25l-\b \bdone\n",
            "\u001b[?25h  Stored in directory: /root/.cache/pip/wheels/33/b2/86/1436bdb3db0fb8d94ed9716eab3984506a1e7d1200a6daeca9\n",
            "  Running setup.py bdist_wheel for arrow ... \u001b[?25l-\b \bdone\n",
            "\u001b[?25h  Stored in directory: /root/.cache/pip/wheels/a3/dd/b2/d3b8d22e8136164c2e2c36ed42392531957cdf9c717065b28b\n",
            "Successfully built pager arrow\n",
            "Installing collected packages: pager, argparse, arrow, jinja2-time, poyo, click, whichcraft, binaryornot, cookiecutter, cookiejar\n",
            "Successfully installed argparse-1.4.0 arrow-0.12.1 binaryornot-0.4.4 click-7.0 cookiecutter-1.6.0 cookiejar-0.0.2 jinja2-time-0.2.0 pager-3.3 poyo-0.4.2 whichcraft-0.5.2\n"
          ],
          "name": "stdout"
        }
      ]
    },
    {
      "metadata": {
        "id": "u2X9Lth7QxOD",
        "colab_type": "code",
        "colab": {}
      },
      "cell_type": "code",
      "source": [
        "import cookielib"
      ],
      "execution_count": 0,
      "outputs": []
    },
    {
      "metadata": {
        "id": "ZK-XO3q1qVec",
        "colab_type": "code",
        "outputId": "87a77a5a-ff7a-4657-9b0e-f455ddede889",
        "colab": {
          "base_uri": "https://localhost:8080/",
          "height": 73
        }
      },
      "cell_type": "code",
      "source": [
        "from torrequest import TorRequest\n",
        "\n",
        "#import cookielib\n",
        "# Choose a proxy port, a control port, and a password. \n",
        "# Defaults are 9050, 9051, and None respectively. \n",
        "# If there is already a Tor process listening the specified \n",
        "# ports, TorRequest will use that one. \n",
        "# Otherwise, it will create a new Tor process, \n",
        "# and terminate it at the end.\n",
        "with TorRequest(proxy_port=9050, ctrl_port=9051, password=None) as tr:\n",
        "\n",
        "  # Specify HTTP verb and url.\n",
        "  response = tr.get('http://ipecho.net/plain')\n",
        "  print(response.text)  # not your IP address\n",
        "\n",
        "  # Send data. Use basic authentication.\n",
        "  \n",
        "\n",
        "  # Change your Tor circuit,\n",
        "  # and likely your observed IP address.\n",
        "  tr.reset_identity()\n",
        "\n",
        "  # TorRequest object also exposes the underlying Stem controller \n",
        "  # and Requests session objects for more flexibility.\n",
        "\n",
        "  print(type(tr.ctrl))            # a stem.control.Controller object\n",
        "  tr.ctrl.signal('CLEARDNSCACHE') # see Stem docs for the full API\n",
        "\n",
        "  print(type(tr.session))         # a requests.Session object\n",
        "  c = cookielib.CookieJar()\n",
        "  tr.session.cookies.update(c)    # see Requests docs for the full API"
      ],
      "execution_count": 37,
      "outputs": [
        {
          "output_type": "stream",
          "text": [
            "51.15.88.249\n",
            "<class 'stem.control.Controller'>\n",
            "<class 'requests.sessions.Session'>\n"
          ],
          "name": "stdout"
        }
      ]
    },
    {
      "metadata": {
        "id": "lp6qn5kAHtFe",
        "colab_type": "text"
      },
      "cell_type": "markdown",
      "source": [
        ""
      ]
    },
    {
      "metadata": {
        "id": "qJjW4UkvHvXa",
        "colab_type": "code",
        "colab": {
          "base_uri": "https://localhost:8080/",
          "height": 186
        },
        "outputId": "440653f0-0653-492c-b202-6a9743b61464"
      },
      "cell_type": "code",
      "source": [
        "!pip3 install torrequest"
      ],
      "execution_count": 1,
      "outputs": [
        {
          "output_type": "stream",
          "text": [
            "Requirement already satisfied: torrequest in /usr/local/lib/python3.6/dist-packages (0.1.0)\n",
            "Requirement already satisfied: stem>=1.4.0 in /usr/local/lib/python3.6/dist-packages (from torrequest) (1.7.0)\n",
            "Requirement already satisfied: requests>=2.11.0 in /usr/local/lib/python3.6/dist-packages (from torrequest) (2.18.4)\n",
            "Requirement already satisfied: PySocks>=1.5.7 in /usr/local/lib/python3.6/dist-packages (from torrequest) (1.6.8)\n",
            "Requirement already satisfied: certifi>=2017.4.17 in /usr/local/lib/python3.6/dist-packages (from requests>=2.11.0->torrequest) (2018.10.15)\n",
            "Requirement already satisfied: urllib3<1.23,>=1.21.1 in /usr/local/lib/python3.6/dist-packages (from requests>=2.11.0->torrequest) (1.22)\n",
            "Requirement already satisfied: idna<2.7,>=2.5 in /usr/local/lib/python3.6/dist-packages (from requests>=2.11.0->torrequest) (2.6)\n",
            "Requirement already satisfied: chardet<3.1.0,>=3.0.2 in /usr/local/lib/python3.6/dist-packages (from requests>=2.11.0->torrequest) (3.0.4)\n"
          ],
          "name": "stdout"
        }
      ]
    },
    {
      "metadata": {
        "id": "zH70pX75HtWe",
        "colab_type": "code",
        "colab": {
          "base_uri": "https://localhost:8080/",
          "height": 36
        },
        "outputId": "d6e147b6-2dad-4c8c-e29f-0115c205c8aa"
      },
      "cell_type": "code",
      "source": [
        "from torrequest import TorRequest\n",
        "\n",
        "with TorRequest() as tr:\n",
        "  response = tr.get('http://ipecho.net/plain')\n",
        "  print(response.text)  # not your IP address"
      ],
      "execution_count": 35,
      "outputs": [
        {
          "output_type": "stream",
          "text": [
            "166.70.207.2\n"
          ],
          "name": "stdout"
        }
      ]
    }
  ]
}