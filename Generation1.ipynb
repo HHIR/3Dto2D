{
  "nbformat": 4,
  "nbformat_minor": 0,
  "metadata": {
    "colab": {
      "name": "Hello, Colaboratory",
      "version": "0.3.2",
      "provenance": [],
      "collapsed_sections": [],
      "toc_visible": true,
      "include_colab_link": true
    },
    "kernelspec": {
      "name": "python3",
      "display_name": "Python 3"
    }
  },
  "cells": [
    {
      "cell_type": "markdown",
      "metadata": {
        "id": "view-in-github",
        "colab_type": "text"
      },
      "source": [
        "<a href=\"https://colab.research.google.com/github/Hosseinhashemiir/3Dto2D/blob/master/Generation1.ipynb\" target=\"_parent\"><img src=\"https://colab.research.google.com/assets/colab-badge.svg\" alt=\"Open In Colab\"/></a>"
      ]
    },
    {
      "metadata": {
        "colab_type": "text",
        "id": "9J7p406abzgl"
      },
      "cell_type": "markdown",
      "source": [
        "<img height=\"60px\" src=\"https://vignette.wikia.nocookie.net/vanoss-gaming/images/1/14/Photo.png/revision/latest?cb=20150804220926\" align=\"left\" hspace=\"20px\" vspace=\"5px\">\n",
        "\n",
        "<h1>Welcome to my code!</h1>\n",
        "We will see for future!\n"
      ]
    },
    {
      "metadata": {
        "id": "pP54jyZ5Y85Z",
        "colab_type": "text"
      },
      "cell_type": "markdown",
      "source": [
        "# **lolo**"
      ]
    },
    {
      "metadata": {
        "id": "0Em17kANZOOA",
        "colab_type": "code",
        "outputId": "065d1634-4317-424e-8619-5c9674770b5a",
        "colab": {
          "base_uri": "https://localhost:8080/",
          "height": 216
        }
      },
      "cell_type": "code",
      "source": [
        "!pip install fake_useragent\n",
        "!pip install faker\n",
        "#!pip install fake-factory\n",
        "!pip install factory_boy"
      ],
      "execution_count": 6,
      "outputs": [
        {
          "output_type": "stream",
          "text": [
            "Requirement already satisfied: fake_useragent in /usr/local/lib/python3.6/dist-packages (0.1.11)\n",
            "Requirement already satisfied: faker in /usr/local/lib/python3.6/dist-packages (0.9.2)\n",
            "Requirement already satisfied: six>=1.10 in /usr/local/lib/python3.6/dist-packages (from faker) (1.11.0)\n",
            "Requirement already satisfied: python-dateutil>=2.4 in /usr/local/lib/python3.6/dist-packages (from faker) (2.5.3)\n",
            "Requirement already satisfied: text-unidecode==1.2 in /usr/local/lib/python3.6/dist-packages (from faker) (1.2)\n",
            "Requirement already satisfied: factory_boy in /usr/local/lib/python3.6/dist-packages (2.11.1)\n",
            "Requirement already satisfied: Faker>=0.7.0 in /usr/local/lib/python3.6/dist-packages (from factory_boy) (0.9.2)\n",
            "Requirement already satisfied: python-dateutil>=2.4 in /usr/local/lib/python3.6/dist-packages (from Faker>=0.7.0->factory_boy) (2.5.3)\n",
            "Requirement already satisfied: text-unidecode==1.2 in /usr/local/lib/python3.6/dist-packages (from Faker>=0.7.0->factory_boy) (1.2)\n",
            "Requirement already satisfied: six>=1.10 in /usr/local/lib/python3.6/dist-packages (from Faker>=0.7.0->factory_boy) (1.11.0)\n"
          ],
          "name": "stdout"
        }
      ]
    },
    {
      "metadata": {
        "id": "XbDC_idrZBRL",
        "colab_type": "code",
        "outputId": "b693d63c-d1bc-41b4-82d3-98812cab221c",
        "colab": {
          "base_uri": "https://localhost:8080/",
          "height": 546
        }
      },
      "cell_type": "code",
      "source": [
        "!curl 'https://api.ipify.org?format=json'\n",
        "import requests\n",
        "import hmac\n",
        "import hashlib\n",
        "import random\n",
        "import string\n",
        "import json\n",
        "import argparse\n",
        "\n",
        "from urllib.request import Request, urlopen\n",
        "from bs4 import BeautifulSoup\n",
        "from fake_useragent import UserAgent\n",
        "#import factory\n",
        "#from faker import Faker\n",
        "import faker\n",
        "\n",
        "\n",
        "#import random\n",
        "#import requests\n",
        "f = Faker()\n",
        "proxies = []\n",
        "\n",
        "def random_proxy():\n",
        "  return random.randint(0, len(proxies) - 1)\n",
        "\n",
        "def HMAC(text):\n",
        "    key = '3f0a7d75e094c7385e3dbaa026877f2e067cbd1a4dbcf3867748f6b26f257117'\n",
        "    message = bytes(text, 'utf-8')\n",
        "    key = bytes(key, 'utf-8')\n",
        "    hash = hmac.new(key,message,digestmod=hashlib.sha256)\n",
        "    return hash.hexdigest()\n",
        "\n",
        "def randomString(size):\n",
        "    chars = string.ascii_lowercase + string.digits\n",
        "    return ''.join(random.choice(chars) for _ in range(size))\n",
        "\n",
        "\n",
        "\n",
        "def main():  \n",
        "  \n",
        "    q_name= f.name()\n",
        "    q_username= f.user_name()\n",
        "    q_email= f.email()\n",
        "    q_password= f.password()\n",
        "    \n",
        "    print(q_name)\n",
        "    print(q_username)\n",
        "    print (q_email)\n",
        "    print (q_password)\n",
        "\n",
        "    username=q_username\n",
        "    name=q_name\n",
        "    password=q_password\n",
        "    email=q_email\n",
        "    getHeaders = {'User-Agent':'Instagram 7.1.1 Android (21/5.0.2; 480dpi; 1080x1776; LGE/Google; Nexus 5; hammerhead; hammerhead; en_US)',\n",
        "               'Accept':'text/html,application/xhtml+xml,application/xml;q=0.9,image/webp,*/*;q=0.8',\n",
        "               'Accept-Encoding':'gzip, deflate, sdch',\n",
        "               'Accept-Language':'en-US,en;q=0.8',\n",
        "               'upgrade-insecure-requests':'1'}\n",
        "\n",
        "    s = requests.Session()\n",
        "    s.get('https://instagram.com',headers=getHeaders)\n",
        "    guid = randomString(8) + '-' + randomString(4) + \"-\" + randomString(4) + '-' + randomString(4) + '-' +randomString(12)\n",
        "    device_id = ('android-' + str(HMAC(str(random.randint(1000,9999))))[0:min(64,16)])\n",
        "    information = {'username':username,'first_name':name,'password':password,'email':email,'device_id':device_id,'guid':guid}\n",
        "    js = json.dumps(information)\n",
        "    payload = {'signed_body': HMAC(js) + '.' + js,'ig_sig_key_version':'4'}\n",
        "    postHeaders = {'Host':'i.instagram.com',\n",
        "                  'User-Agent':'Instagram 7.1.1 Android (21/5.0.2; 480dpi; 1080x1776; LGE/Google; Nexus 5; hammerhead; hammerhead; en_US)',\n",
        "                  'Accept-Language':'en-US',\n",
        "                  'Accept-Encoding':'gzip',\n",
        "                  'Cookie2':'$Version=1',\n",
        "                  'X-IG-Connection-Type':'WIFI',\n",
        "                  'X-IG-Capabilities':'BQ=='\n",
        "                  }\n",
        "    ##Hossein###################################################################\n",
        "    ua = UserAgent() # From here we generate a random user agent\n",
        "    #proxies = [] # Will contain proxies [ip, port]\n",
        "\n",
        "    proxies_req = Request('https://www.sslproxies.org/')\n",
        "    proxies_req.add_header('User-Agent', ua.random)\n",
        "    proxies_doc = urlopen(proxies_req).read().decode('utf8')\n",
        "\n",
        "    soup = BeautifulSoup(proxies_doc, 'html.parser')\n",
        "    proxies_table = soup.find(id='proxylisttable')\n",
        "\n",
        "    # Save proxies in the array\n",
        "    for row in proxies_table.tbody.find_all('tr'):\n",
        "      proxies.append({\n",
        "        'ip':   row.find_all('td')[0].string,\n",
        "        'port': row.find_all('td')[1].string\n",
        "      })\n",
        "\n",
        "    # Choose a random proxy\n",
        "    proxy_index = random_proxy()\n",
        "    proxy = proxies[proxy_index]\n",
        "\n",
        "    q_http= 'http://' + proxy['ip'] + ':' + proxy['port'] \n",
        "    q_https= 'https://' + proxy['ip'] + ':' + proxy['port'] \n",
        "    print ('proxy generate: ' + q_http)\n",
        "    ############################################################################\n",
        "    \n",
        "    proxies1 = {\"http\": q_http , \"https\": q_https}\n",
        "\n",
        "    x = s.post('https://i.instagram.com/api/v1/accounts/create/',headers=postHeaders,data=payload, proxies=proxies1)\n",
        "    q= s.get(\"http://httpbin.org/ip\", proxies=proxies1)\n",
        "    print ('Proxy set on: ' + q.text)\n",
        "    result = json.loads(x.content)\n",
        "    print (result)\n",
        "    if result['status'] != 'fail':\n",
        "        if result['account_created'] == True:\n",
        "            print ('Account has been created successfully')\n",
        "        else:\n",
        "            #HADS MIZANAM - bayad inja  begim age nashod yek ip dige ro test kon\n",
        "            print ('Error:')\n",
        "            for i in result['errors']:\n",
        "                print (str(result['errors'][i][0]))\n",
        "    \n",
        "\n",
        "\n",
        "if __name__ == '__main__':\n",
        "  main()"
      ],
      "execution_count": 8,
      "outputs": [
        {
          "output_type": "stream",
          "text": [
            "{\"ip\":\"35.231.251.6\"}"
          ],
          "name": "stdout"
        },
        {
          "output_type": "error",
          "ename": "ImportError",
          "evalue": "ignored",
          "traceback": [
            "\u001b[0;31m---------------------------------------------------------------------------\u001b[0m",
            "\u001b[0;31mImportError\u001b[0m                               Traceback (most recent call last)",
            "\u001b[0;32m<ipython-input-8-f7c36a789f38>\u001b[0m in \u001b[0;36m<module>\u001b[0;34m()\u001b[0m\n\u001b[1;32m     13\u001b[0m \u001b[0;31m#import factory\u001b[0m\u001b[0;34m\u001b[0m\u001b[0;34m\u001b[0m\u001b[0m\n\u001b[1;32m     14\u001b[0m \u001b[0;31m#from faker import Faker\u001b[0m\u001b[0;34m\u001b[0m\u001b[0;34m\u001b[0m\u001b[0m\n\u001b[0;32m---> 15\u001b[0;31m \u001b[0;32mimport\u001b[0m \u001b[0mfaker\u001b[0m\u001b[0;34m\u001b[0m\u001b[0m\n\u001b[0m\u001b[1;32m     16\u001b[0m \u001b[0;34m\u001b[0m\u001b[0m\n\u001b[1;32m     17\u001b[0m \u001b[0;34m\u001b[0m\u001b[0m\n",
            "\u001b[0;32m/usr/local/lib/python3.6/dist-packages/faker/__init__.py\u001b[0m in \u001b[0;36m<module>\u001b[0;34m()\u001b[0m\n\u001b[1;32m      5\u001b[0m \u001b[0mPlease\u001b[0m \u001b[0mupdate\u001b[0m \u001b[0myour\u001b[0m \u001b[0mrequirements\u001b[0m\u001b[0;34m.\u001b[0m\u001b[0;34m\u001b[0m\u001b[0m\n\u001b[1;32m      6\u001b[0m \"\"\"\n\u001b[0;32m----> 7\u001b[0;31m \u001b[0;32mraise\u001b[0m \u001b[0mImportError\u001b[0m\u001b[0;34m(\u001b[0m\u001b[0merror\u001b[0m\u001b[0;34m)\u001b[0m\u001b[0;34m\u001b[0m\u001b[0m\n\u001b[0m",
            "\u001b[0;31mImportError\u001b[0m: The ``fake-factory`` package is now called ``Faker``.\n\nPlease update your requirements.\n",
            "",
            "\u001b[0;31m---------------------------------------------------------------------------\u001b[0;32m\nNOTE: If your import is failing due to a missing package, you can\nmanually install dependencies using either !pip or !apt.\n\nTo view examples of installing some common dependencies, click the\n\"Open Examples\" button below.\n\u001b[0;31m---------------------------------------------------------------------------\u001b[0m\n"
          ]
        }
      ]
    }
  ]
}