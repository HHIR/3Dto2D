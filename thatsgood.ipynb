{
  "nbformat": 4,
  "nbformat_minor": 0,
  "metadata": {
    "colab": {
      "name": "Hello, Colaboratory",
      "version": "0.3.2",
      "provenance": [],
      "collapsed_sections": [],
      "toc_visible": true
    },
    "kernelspec": {
      "name": "python2",
      "display_name": "Python 2"
    }
  },
  "cells": [
    {
      "metadata": {
        "colab_type": "text",
        "id": "9J7p406abzgl"
      },
      "cell_type": "markdown",
      "source": [
        "<img height=\"60px\" src=\"https://colab.research.google.com/img/colab_favicon.ico\" align=\"left\" hspace=\"20px\" vspace=\"5px\">\n",
        "\n",
        "<h1>Welcome to Code!</h1>\n",
        "Colaboratory is a free Jupyter notebook environment that requires no setup and runs entirely in the cloud. See our [FAQ](https://research.google.com/colaboratory/faq.html) for more info."
      ]
    },
    {
      "metadata": {
        "id": "Bkb3-PWaUmaw",
        "colab_type": "code",
        "outputId": "d8e86a1d-290c-4ea0-c197-42eee2bd193f",
        "colab": {
          "base_uri": "https://localhost:8080/",
          "height": 180
        }
      },
      "cell_type": "code",
      "source": [
        "!pip install fake_useragent"
      ],
      "execution_count": 0,
      "outputs": [
        {
          "output_type": "stream",
          "text": [
            "Collecting fake_useragent\n",
            "  Using cached https://files.pythonhosted.org/packages/d1/79/af647635d6968e2deb57a208d309f6069d31cb138066d7e821e575112a80/fake-useragent-0.1.11.tar.gz\n",
            "Building wheels for collected packages: fake-useragent\n",
            "  Running setup.py bdist_wheel for fake-useragent ... \u001b[?25l-\b \bdone\n",
            "\u001b[?25h  Stored in directory: /root/.cache/pip/wheels/5e/63/09/d1dc15179f175357d3f5c00cbffbac37f9e8690d80545143ff\n",
            "Successfully built fake-useragent\n",
            "Installing collected packages: fake-useragent\n",
            "Successfully installed fake-useragent-0.1.11\n"
          ],
          "name": "stdout"
        }
      ]
    },
    {
      "metadata": {
        "id": "bhIS-LoHUiJX",
        "colab_type": "code",
        "outputId": "d4aea26a-5e74-4fe8-d6ae-60bc36481193",
        "colab": {
          "base_uri": "https://localhost:8080/",
          "height": 339
        }
      },
      "cell_type": "code",
      "source": [
        "from urllib.request import Request, urlopen\n",
        "from bs4 import BeautifulSoup\n",
        "from fake_useragent import UserAgent\n",
        "import random\n",
        "\n",
        "ua = UserAgent() # From here we generate a random user agent\n",
        "proxies = [] # Will contain proxies [ip, port]\n",
        "\n",
        "# Main function\n",
        "def main():\n",
        "  # Retrieve latest proxies\n",
        "  proxies_req = Request('https://www.sslproxies.org/')\n",
        "  proxies_req.add_header('User-Agent', ua.random)\n",
        "  proxies_doc = urlopen(proxies_req).read().decode('utf8')\n",
        "\n",
        "  soup = BeautifulSoup(proxies_doc, 'html.parser')\n",
        "  proxies_table = soup.find(id='proxylisttable')\n",
        "\n",
        "  # Save proxies in the array\n",
        "  for row in proxies_table.tbody.find_all('tr'):\n",
        "    proxies.append({\n",
        "      'ip':   row.find_all('td')[0].string,\n",
        "      'port': row.find_all('td')[1].string\n",
        "    })\n",
        "\n",
        "  # Choose a random proxy\n",
        "  proxy_index = random_proxy()\n",
        "  proxy = proxies[proxy_index]\n",
        "\n",
        "  for n in range(1, 10):\n",
        "    req = Request('http://icanhazip.com')\n",
        "    #req1 = Request('https://ifconfig.co/ip')\n",
        "    req.set_proxy(proxy['ip'] + ':' + proxy['port'], 'http')\n",
        "    #req1.set_proxy(proxy['ip'] + ':' + proxy['port'], 'http')\n",
        "    #my_ip = urlopen(req).read().decode('utf8')\n",
        "    #print('#' + str(n) + ': ' + my_ip)\n",
        "    # Every 10 requests, generate a new proxy\n",
        "    if n % 2 == 0:\n",
        "      proxy_index = random_proxy()\n",
        "      proxy = proxies[proxy_index]\n",
        "    # Make the call\n",
        "    try:\n",
        "      #conn77 = urlopen('http://httpbin.org/ip').read().decode('utf8')\n",
        "      #print('hi')\n",
        "      #print(conn77.read())\n",
        "      my_ip = urlopen(req).read().decode('utf8')\n",
        "      print('#' + str(n) + ': ' + my_ip)\n",
        "      #my_ip1 = urlopen(req1).read().decode('utf8')\n",
        "      #print('#' + str(n) + ': ' + my_ip1)\n",
        "      #conn77 = urllib2.urlopen('http://httpbin.org/ip')\n",
        "      #print(\"hossein:\")\n",
        "      #print(conn77.read())\n",
        "    except: # If error, delete this proxy and find another one\n",
        "      del proxies[proxy_index]\n",
        "      #print('Proxy ' + proxy['ip'] + ':' + proxy['port'] + ' deleted.')\n",
        "      proxy_index = random_proxy()\n",
        "      proxy = proxies[proxy_index]\n",
        "   # !curl 'https://api.ipify.org?format=json'\n",
        "# Retrieve a random index proxy (we need the index to delete it if not working)\n",
        "def random_proxy():\n",
        "  return random.randint(0, len(proxies) - 1)\n",
        "\n",
        "if __name__ == '__main__':\n",
        "  main()\n",
        "  "
      ],
      "execution_count": 0,
      "outputs": [
        {
          "output_type": "stream",
          "text": [
            "#1: 35.198.220.187\n",
            "\n",
            "#2: 35.198.220.187\n",
            "\n",
            "#3: 103.209.64.19\n",
            "\n",
            "#4: 103.209.64.19\n",
            "\n",
            "#5: 185.226.230.232\n",
            "\n",
            "#6: 185.226.230.232\n",
            "\n",
            "#7: 117.102.68.210\n",
            "\n",
            "#8: 117.102.68.210\n",
            "\n",
            "#9: 1.20.97.179\n",
            "\n"
          ],
          "name": "stdout"
        }
      ]
    },
    {
      "metadata": {
        "id": "qLJct6IwlZ9w",
        "colab_type": "code",
        "outputId": "7d73f7cf-0a54-4b56-f494-e25419177cb4",
        "colab": {
          "base_uri": "https://localhost:8080/",
          "height": 1145
        }
      },
      "cell_type": "code",
      "source": [
        "!apt-get install python-urllib3 "
      ],
      "execution_count": 0,
      "outputs": [
        {
          "output_type": "stream",
          "text": [
            "Reading package lists... Done\n",
            "Building dependency tree       \n",
            "Reading state information... Done\n",
            "The following additional packages will be installed:\n",
            "  python-asn1crypto python-cffi-backend python-cryptography python-enum34\n",
            "  python-idna python-ipaddress python-openssl python-six\n",
            "Suggested packages:\n",
            "  python-cryptography-doc python-cryptography-vectors python-enum34-doc\n",
            "  python-openssl-doc python-openssl-dbg python-ntlm python-socks\n",
            "The following NEW packages will be installed:\n",
            "  python-asn1crypto python-cffi-backend python-cryptography python-enum34\n",
            "  python-idna python-ipaddress python-openssl python-six python-urllib3\n",
            "0 upgraded, 9 newly installed, 0 to remove and 5 not upgraded.\n",
            "Need to get 580 kB of archives.\n",
            "After this operation, 3,513 kB of additional disk space will be used.\n",
            "Get:1 http://archive.ubuntu.com/ubuntu bionic/main amd64 python-asn1crypto all 0.24.0-1 [72.7 kB]\n",
            "Get:2 http://archive.ubuntu.com/ubuntu bionic/main amd64 python-cffi-backend amd64 1.11.5-1 [63.4 kB]\n",
            "Get:3 http://archive.ubuntu.com/ubuntu bionic/main amd64 python-enum34 all 1.1.6-2 [34.8 kB]\n",
            "Get:4 http://archive.ubuntu.com/ubuntu bionic/main amd64 python-idna all 2.6-1 [32.4 kB]\n",
            "Get:5 http://archive.ubuntu.com/ubuntu bionic/main amd64 python-ipaddress all 1.0.17-1 [18.2 kB]\n",
            "Get:6 http://archive.ubuntu.com/ubuntu bionic/main amd64 python-six all 1.11.0-2 [11.3 kB]\n",
            "Get:7 http://archive.ubuntu.com/ubuntu bionic-updates/main amd64 python-cryptography amd64 2.1.4-1ubuntu1.2 [221 kB]\n",
            "Get:8 http://archive.ubuntu.com/ubuntu bionic/main amd64 python-openssl all 17.5.0-1ubuntu1 [41.3 kB]\n",
            "Get:9 http://archive.ubuntu.com/ubuntu bionic/main amd64 python-urllib3 all 1.22-1 [85.1 kB]\n",
            "Fetched 580 kB in 1s (864 kB/s)\n",
            "Selecting previously unselected package python-asn1crypto.\n",
            "(Reading database ... 22280 files and directories currently installed.)\n",
            "Preparing to unpack .../0-python-asn1crypto_0.24.0-1_all.deb ...\n",
            "Unpacking python-asn1crypto (0.24.0-1) ...\n",
            "Selecting previously unselected package python-cffi-backend.\n",
            "Preparing to unpack .../1-python-cffi-backend_1.11.5-1_amd64.deb ...\n",
            "Unpacking python-cffi-backend (1.11.5-1) ...\n",
            "Selecting previously unselected package python-enum34.\n",
            "Preparing to unpack .../2-python-enum34_1.1.6-2_all.deb ...\n",
            "Unpacking python-enum34 (1.1.6-2) ...\n",
            "Selecting previously unselected package python-idna.\n",
            "Preparing to unpack .../3-python-idna_2.6-1_all.deb ...\n",
            "Unpacking python-idna (2.6-1) ...\n",
            "Selecting previously unselected package python-ipaddress.\n",
            "Preparing to unpack .../4-python-ipaddress_1.0.17-1_all.deb ...\n",
            "Unpacking python-ipaddress (1.0.17-1) ...\n",
            "Selecting previously unselected package python-six.\n",
            "Preparing to unpack .../5-python-six_1.11.0-2_all.deb ...\n",
            "Unpacking python-six (1.11.0-2) ...\n",
            "Selecting previously unselected package python-cryptography.\n",
            "Preparing to unpack .../6-python-cryptography_2.1.4-1ubuntu1.2_amd64.deb ...\n",
            "Unpacking python-cryptography (2.1.4-1ubuntu1.2) ...\n",
            "Selecting previously unselected package python-openssl.\n",
            "Preparing to unpack .../7-python-openssl_17.5.0-1ubuntu1_all.deb ...\n",
            "Unpacking python-openssl (17.5.0-1ubuntu1) ...\n",
            "Selecting previously unselected package python-urllib3.\n",
            "Preparing to unpack .../8-python-urllib3_1.22-1_all.deb ...\n",
            "Unpacking python-urllib3 (1.22-1) ...\n",
            "Setting up python-idna (2.6-1) ...\n",
            "Setting up python-asn1crypto (0.24.0-1) ...\n",
            "Setting up python-cffi-backend (1.11.5-1) ...\n",
            "Setting up python-six (1.11.0-2) ...\n",
            "Setting up python-enum34 (1.1.6-2) ...\n",
            "Setting up python-ipaddress (1.0.17-1) ...\n",
            "Setting up python-urllib3 (1.22-1) ...\n",
            "Setting up python-cryptography (2.1.4-1ubuntu1.2) ...\n",
            "Setting up python-openssl (17.5.0-1ubuntu1) ...\n"
          ],
          "name": "stdout"
        }
      ]
    },
    {
      "metadata": {
        "id": "9XggIw__VCTM",
        "colab_type": "code",
        "outputId": "79d7ea67-b903-4fb1-a311-4e01a9b92a14",
        "colab": {
          "base_uri": "https://localhost:8080/",
          "height": 35
        }
      },
      "cell_type": "code",
      "source": [
        "!curl 'https://api.ipify.org?format=json'"
      ],
      "execution_count": 0,
      "outputs": [
        {
          "output_type": "stream",
          "text": [
            "{\"ip\":\"35.227.121.216\"}"
          ],
          "name": "stdout"
        }
      ]
    },
    {
      "metadata": {
        "id": "QPITzyKVzXe7",
        "colab_type": "code",
        "outputId": "768a1f54-7599-4a94-f935-573c8633fa6f",
        "colab": {
          "base_uri": "https://localhost:8080/",
          "height": 216
        }
      },
      "cell_type": "code",
      "source": [
        "!pip install requests\n",
        "!pip3 install requests"
      ],
      "execution_count": 0,
      "outputs": [
        {
          "output_type": "stream",
          "text": [
            "Requirement already satisfied: requests in /usr/local/lib/python2.7/dist-packages (2.18.4)\n",
            "Requirement already satisfied: idna<2.7,>=2.5 in /usr/local/lib/python2.7/dist-packages (from requests) (2.6)\n",
            "Requirement already satisfied: urllib3<1.23,>=1.21.1 in /usr/local/lib/python2.7/dist-packages (from requests) (1.22)\n",
            "Requirement already satisfied: certifi>=2017.4.17 in /usr/local/lib/python2.7/dist-packages (from requests) (2018.10.15)\n",
            "Requirement already satisfied: chardet<3.1.0,>=3.0.2 in /usr/local/lib/python2.7/dist-packages (from requests) (3.0.4)\n",
            "Requirement already satisfied: requests in /usr/local/lib/python3.6/dist-packages (2.18.4)\n",
            "Requirement already satisfied: certifi>=2017.4.17 in /usr/local/lib/python3.6/dist-packages (from requests) (2018.10.15)\n",
            "Requirement already satisfied: idna<2.7,>=2.5 in /usr/local/lib/python3.6/dist-packages (from requests) (2.6)\n",
            "Requirement already satisfied: chardet<3.1.0,>=3.0.2 in /usr/local/lib/python3.6/dist-packages (from requests) (3.0.4)\n",
            "Requirement already satisfied: urllib3<1.23,>=1.21.1 in /usr/local/lib/python3.6/dist-packages (from requests) (1.22)\n"
          ],
          "name": "stdout"
        }
      ]
    },
    {
      "metadata": {
        "id": "6KNhKuSJ1svW",
        "colab_type": "code",
        "outputId": "060a60a4-4639-4717-9219-c86175f7d932",
        "colab": {
          "base_uri": "https://localhost:8080/",
          "height": 160
        }
      },
      "cell_type": "code",
      "source": [
        "import urllib2\n",
        "conn2 = urllib2.urlopen(\"http://httpbin.org/ip\").read()\n",
        "print(conn2)\n",
        "\n",
        "\n",
        "proxy = urllib2.ProxyHandler({'http': 'http://185.198.184.14:48122',\n",
        "                              'https': 'https://110.36.181.37:80'}\n",
        "                             )\n",
        "auth = urllib2.HTTPBasicAuthHandler()\n",
        "opener = urllib2.build_opener(proxy, auth, urllib2.HTTPHandler)\n",
        "urllib2.install_opener(opener)\n",
        "conn = urllib2.urlopen('http://httpbin.org/ip')\n",
        "print(conn.read())\n",
        "return_str = conn.read()"
      ],
      "execution_count": 0,
      "outputs": [
        {
          "output_type": "stream",
          "text": [
            "{\n",
            "  \"origin\": \"35.199.155.253\"\n",
            "}\n",
            "\n",
            "{\n",
            "  \"origin\": \"185.198.184.14\"\n",
            "}\n",
            "\n"
          ],
          "name": "stdout"
        }
      ]
    },
    {
      "metadata": {
        "id": "AezWBu5Jf-9e",
        "colab_type": "text"
      },
      "cell_type": "markdown",
      "source": [
        "# **in aslie**"
      ]
    },
    {
      "metadata": {
        "id": "jR_g3fD1T8Iu",
        "colab_type": "code",
        "outputId": "0f0b5b12-581a-441d-d5cb-c0f5f4fabc1d",
        "colab": {
          "base_uri": "https://localhost:8080/",
          "height": 35
        }
      },
      "cell_type": "code",
      "source": [
        "import requests\n",
        "import hmac\n",
        "import hashlib\n",
        "import random\n",
        "import string\n",
        "import json\n",
        "import argparse\n",
        "\n",
        "def HMAC(text):\n",
        "    key = '3f0a7d75e094c7385e3dbaa026877f2e067cbd1a4dbcf3867748f6b26f257117'\n",
        "    hash = hmac.new(b'key',msg=text,digestmod=hashlib.sha256)\n",
        "    return hash.hexdigest()\n",
        "\n",
        "def randomString(size):\n",
        "    chars = string.ascii_lowercase + string.digits\n",
        "    return ''.join(random.choice(chars) for _ in range(size))\n",
        "\n",
        "\n",
        "\n",
        "def main():   \n",
        "    username='qw777e7185296300qw'\n",
        "    name='qwqqqqwqqwqw'\n",
        "    password='qwqwqwqqq'\n",
        "    email='qwqw777q_qwqqq@ymail.com'\n",
        "    getHeaders = {'User-Agent':'Instagram 7.1.1 Android (21/5.0.2; 480dpi; 1080x1776; LGE/Google; Nexus 5; hammerhead; hammerhead; en_US)',\n",
        "               'Accept':'text/html,application/xhtml+xml,application/xml;q=0.9,image/webp,*/*;q=0.8',\n",
        "               'Accept-Encoding':'gzip, deflate, sdch',\n",
        "               'Accept-Language':'en-US,en;q=0.8',\n",
        "               'upgrade-insecure-requests':'1'}\n",
        "\n",
        "    s = requests.Session()\n",
        "    s.get('https://instagram.com',headers=getHeaders)\n",
        "    guid = randomString(8) + '-' + randomString(4) + \"-\" + randomString(4) + '-' + randomString(4) + '-' +randomString(12)\n",
        "    device_id = ('android-' + str(HMAC(str(random.randint(1000,9999))))[0:min(64,16)])\n",
        "    information = {'username':username,'first_name':name,'password':password,'email':email,'device_id':device_id,'guid':guid}\n",
        "    js = json.dumps(information)\n",
        "    payload = {'signed_body': HMAC(js) + '.' + js,'ig_sig_key_version':'4'}\n",
        "    postHeaders = {'Host':'i.instagram.com',\n",
        "                  'User-Agent':'Instagram 7.1.1 Android (21/5.0.2; 480dpi; 1080x1776; LGE/Google; Nexus 5; hammerhead; hammerhead; en_US)',\n",
        "                  'Accept-Language':'en-US',\n",
        "                  'Accept-Encoding':'gzip',\n",
        "                  'Cookie2':'$Version=1',\n",
        "                  'X-IG-Connection-Type':'WIFI',\n",
        "                  'X-IG-Capabilities':'BQ=='\n",
        "                  }\n",
        "    x = s.post('https://i.instagram.com/api/v1/accounts/create/',headers=postHeaders,data=payload)\n",
        "    result = json.loads(x.content)\n",
        "    if result['status'] != 'fail':\n",
        "        if result['account_created'] == True:\n",
        "            print ('Account has been created successfully')\n",
        "        else:\n",
        "            print ('Error:')\n",
        "            for i in result['errors']:\n",
        "                print (str(result['errors'][i][0]))\n",
        "    else:\n",
        "        if result['spam'] == True:\n",
        "            print ('Instagram blocks your IP due to spamming behaviour.')\n",
        "\n",
        "\n",
        "if __name__ == '__main__':\n",
        "  main()"
      ],
      "execution_count": 0,
      "outputs": [
        {
          "output_type": "stream",
          "text": [
            "Instagram blocks your IP due to spamming behaviour.\n"
          ],
          "name": "stdout"
        }
      ]
    },
    {
      "metadata": {
        "id": "v1x8an-egCVl",
        "colab_type": "text"
      },
      "cell_type": "markdown",
      "source": [
        "# **ino test mikonam**"
      ]
    },
    {
      "metadata": {
        "id": "yvX_og5Xag0m",
        "colab_type": "code",
        "colab": {
          "base_uri": "https://localhost:8080/",
          "height": 35
        },
        "outputId": "cb4e599a-9cf9-4c62-879c-2898761d29a2"
      },
      "cell_type": "code",
      "source": [
        "!pip install urllib3"
      ],
      "execution_count": 3,
      "outputs": [
        {
          "output_type": "stream",
          "text": [
            "Requirement already satisfied: urllib3 in /usr/local/lib/python3.6/dist-packages (1.22)\n"
          ],
          "name": "stdout"
        }
      ]
    },
    {
      "metadata": {
        "id": "vRwk3JH5f3fW",
        "colab_type": "code",
        "outputId": "fd6ef4a6-ca2a-40b5-b73d-5285c8843ff5",
        "colab": {
          "base_uri": "https://localhost:8080/",
          "height": 106
        }
      },
      "cell_type": "code",
      "source": [
        "import requests\n",
        "import hmac\n",
        "import hashlib\n",
        "import random\n",
        "import string\n",
        "import json\n",
        "import argparse\n",
        "\n",
        "!curl 'https://api.ipify.org?format=json'\n",
        "#import urllib2\n",
        "#conn2 = urllib2.urlopen(\"http://httpbin.org/ip\").read()\n",
        "#print(conn2)\n",
        "\n",
        "\n",
        "\n",
        "\n",
        "\n",
        "def HMAC(text):\n",
        "    key = '3f0a7d75e094c7385e3dbaa026877f2e067cbd1a4dbcf3867748f6b26f257117'\n",
        "    hash = hmac.new(b'key',msg=text,digestmod=hashlib.sha256)\n",
        "    return hash.hexdigest()\n",
        "\n",
        "def randomString(size):\n",
        "    chars = string.ascii_lowercase + string.digits\n",
        "    return ''.join(random.choice(chars) for _ in range(size))\n",
        "\n",
        "\n",
        "\n",
        "def main():   \n",
        "    #proxy = urllib2.ProxyHandler({'http': 'http://95.67.33.174:42057',\n",
        "    #                          'https': 'https://110.36.181.37:80'}\n",
        "    #                         )\n",
        "    proxies = {\"http\": \"http://95.67.33.174:42057\" , \"https\": \"https://95.67.33.174:42057\"}\n",
        "    #auth = urllib2.HTTPBasicAuthHandler()\n",
        "    #opener = urllib2.build_opener(proxy, auth, urllib2.HTTPHandler)\n",
        "    #urllib2.install_opener(opener)\n",
        "    #conn = urllib2.urlopen('http://httpbin.org/ip')\n",
        "    #print(conn.read())\n",
        "   # return_str = conn.read()\n",
        "    username='karastanfordhot'\n",
        "    name='kara manhot'\n",
        "    password='qwqwqwqqq'\n",
        "    email='karastanfordismi_hot@ymail.com'\n",
        "    getHeaders = {'User-Agent':'Instagram 7.1.1 Android (21/5.0.2; 480dpi; 1080x1776; LGE/Google; Nexus 5; hammerhead; hammerhead; en_US)',\n",
        "               'Accept':'text/html,application/xhtml+xml,application/xml;q=0.9,image/webp,*/*;q=0.8',\n",
        "               'Accept-Encoding':'gzip, deflate, sdch',\n",
        "               'Accept-Language':'en-US,en;q=0.8',\n",
        "               'upgrade-insecure-requests':'1'}\n",
        "\n",
        "    s = requests.Session()\n",
        "    s.get('https://instagram.com',headers=getHeaders)\n",
        "    guid = randomString(8) + '-' + randomString(4) + \"-\" + randomString(4) + '-' + randomString(4) + '-' +randomString(12)\n",
        "    device_id = ('android-' + str(HMAC(str(random.randint(1000,9999))))[0:min(64,16)])\n",
        "    information = {'username':username,'first_name':name,'password':password,'email':email,'device_id':device_id,'guid':guid}\n",
        "    js = json.dumps(information)\n",
        "    payload = {'signed_body': HMAC(js) + '.' + js,'ig_sig_key_version':'4'}\n",
        "    postHeaders = {'Host':'i.instagram.com',\n",
        "                  'User-Agent':'Instagram 7.1.1 Android (21/5.0.2; 480dpi; 1080x1776; LGE/Google; Nexus 5; hammerhead; hammerhead; en_US)',\n",
        "                  'Accept-Language':'en-US',\n",
        "                  'Accept-Encoding':'gzip',\n",
        "                  'Cookie2':'$Version=1',\n",
        "                  'X-IG-Connection-Type':'WIFI',\n",
        "                  'X-IG-Capabilities':'BQ=='\n",
        "                  }\n",
        "    url='https://i.instagram.com/api/v1/accounts/create/'\n",
        "    \n",
        "    x = requests.post(url, data=payload, proxies=proxies, headers=postHeaders)\n",
        "    #response = json.loads(x.text)\n",
        "    #print(response)\n",
        "    q= requests.get(\"http://httpbin.org/ip\", proxies=proxies)\n",
        "    print (q.text)\n",
        "    #x = s.post('https://i.instagram.com/api/v1/accounts/create/',data=payload, headers=postHeaders)\n",
        "    #x = urllib2.urlopen(s.post('https://i.instagram.com/api/v1/accounts/create/',headers=postHeaders,data=payload))\n",
        "    #x = s.post(urllib2.urlopen('https://i.instagram.com/api/v1/accounts/create/',headers=postHeaders,data=payload))\n",
        "    result = json.loads(x.content)\n",
        "    print result\n",
        "    if result['status'] != 'fail':\n",
        "        if result['account_created'] == True:\n",
        "            print ('Account has been created successfully')\n",
        "        else:\n",
        "            print ('Error:')\n",
        "            for i in result['errors']:\n",
        "                print (str(result['errors'][i][0]))\n",
        "#    else:\n",
        "#        if result['spam'] == True:\n",
        "#            print ('Instagram blocks your IP due to spamming behaviour.')\n",
        "\n",
        "\n",
        "if __name__ == '__main__':\n",
        "  main()\n",
        "  \n",
        "  \n",
        "  \n",
        "  "
      ],
      "execution_count": 32,
      "outputs": [
        {
          "output_type": "stream",
          "text": [
            "{\"ip\":\"35.231.194.105\"}{\n",
            "  \"origin\": \"95.67.33.174\"\n",
            "}\n",
            "\n",
            "{u'status': u'fail', u'message': u'Please wait a few minutes before you try again.'}\n"
          ],
          "name": "stdout"
        }
      ]
    }
  ]
}