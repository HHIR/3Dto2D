{
  "nbformat": 4,
  "nbformat_minor": 0,
  "metadata": {
    "colab": {
      "name": "Hello, Colaboratory",
      "version": "0.3.2",
      "provenance": [],
      "collapsed_sections": [],
      "toc_visible": true,
      "include_colab_link": true
    },
    "kernelspec": {
      "name": "python2",
      "display_name": "Python 2"
    },
    "accelerator": "GPU"
  },
  "cells": [
    {
      "cell_type": "markdown",
      "metadata": {
        "id": "view-in-github",
        "colab_type": "text"
      },
      "source": [
        "<a href=\"https://colab.research.google.com/github/Hosseinhashemiir/3Dto2D/blob/master/Hello,_Colaboratory_16.ipynb\" target=\"_parent\"><img src=\"https://colab.research.google.com/assets/colab-badge.svg\" alt=\"Open In Colab\"/></a>"
      ]
    },
    {
      "metadata": {
        "colab_type": "text",
        "id": "9J7p406abzgl"
      },
      "cell_type": "markdown",
      "source": [
        "<img height=\"60px\" src=\"https://colab.research.google.com/img/colab_favicon.ico\" align=\"left\" hspace=\"20px\" vspace=\"5px\">\n",
        "\n",
        "<h1>Welcome to Colaboratory!</h1>\n",
        "Colaboratory is a free Jupyter notebook environment that requires no setup and runs entirely in the cloud. See our [FAQ](https://research.google.com/colaboratory/faq.html) for more info."
      ]
    },
    {
      "metadata": {
        "id": "IWy3MMPCKm9B",
        "colab_type": "code",
        "outputId": "cdc619b1-bf6c-4e52-9a73-96c78af85aed",
        "colab": {
          "base_uri": "https://localhost:8080/",
          "height": 110
        }
      },
      "cell_type": "code",
      "source": [
        "!pip install requests"
      ],
      "execution_count": 4,
      "outputs": [
        {
          "output_type": "stream",
          "text": [
            "Requirement already satisfied: requests in /usr/local/lib/python3.6/dist-packages (2.18.4)\n",
            "Requirement already satisfied: urllib3<1.23,>=1.21.1 in /usr/local/lib/python3.6/dist-packages (from requests) (1.22)\n",
            "Requirement already satisfied: chardet<3.1.0,>=3.0.2 in /usr/local/lib/python3.6/dist-packages (from requests) (3.0.4)\n",
            "Requirement already satisfied: idna<2.7,>=2.5 in /usr/local/lib/python3.6/dist-packages (from requests) (2.6)\n",
            "Requirement already satisfied: certifi>=2017.4.17 in /usr/local/lib/python3.6/dist-packages (from requests) (2018.10.15)\n"
          ],
          "name": "stdout"
        }
      ]
    },
    {
      "metadata": {
        "id": "NR1QMbjtLPkY",
        "colab_type": "code",
        "outputId": "ff81bb87-99f9-42fa-c7d6-bf794f04029a",
        "colab": {
          "base_uri": "https://localhost:8080/",
          "height": 466
        }
      },
      "cell_type": "code",
      "source": [
        "!pip install torrequest"
      ],
      "execution_count": 2,
      "outputs": [
        {
          "output_type": "stream",
          "text": [
            "Collecting torrequest\n",
            "  Downloading https://files.pythonhosted.org/packages/a3/d2/00538e47a2c80979231313c346a0abc3927c7b230d69eb923bb5b221ec62/torrequest-0.1.0.tar.gz\n",
            "Collecting PySocks>=1.5.7 (from torrequest)\n",
            "\u001b[?25l  Downloading https://files.pythonhosted.org/packages/53/12/6bf1d764f128636cef7408e8156b7235b150ea31650d0260969215bb8e7d/PySocks-1.6.8.tar.gz (283kB)\n",
            "\u001b[K    100% |████████████████████████████████| 286kB 6.5MB/s \n",
            "\u001b[?25hRequirement already satisfied: requests>=2.11.0 in /usr/local/lib/python2.7/dist-packages (from torrequest) (2.18.4)\n",
            "Collecting stem>=1.4.0 (from torrequest)\n",
            "\u001b[?25l  Downloading https://files.pythonhosted.org/packages/41/ed/3130c1c25819d70faac4a48308e01b0431c7244d56dd9b1870e32d55d902/stem-1.7.0.tar.gz (2.2MB)\n",
            "\u001b[K    100% |████████████████████████████████| 2.2MB 8.1MB/s \n",
            "\u001b[?25hRequirement already satisfied: idna<2.7,>=2.5 in /usr/local/lib/python2.7/dist-packages (from requests>=2.11.0->torrequest) (2.6)\n",
            "Requirement already satisfied: urllib3<1.23,>=1.21.1 in /usr/local/lib/python2.7/dist-packages (from requests>=2.11.0->torrequest) (1.22)\n",
            "Requirement already satisfied: certifi>=2017.4.17 in /usr/local/lib/python2.7/dist-packages (from requests>=2.11.0->torrequest) (2018.10.15)\n",
            "Requirement already satisfied: chardet<3.1.0,>=3.0.2 in /usr/local/lib/python2.7/dist-packages (from requests>=2.11.0->torrequest) (3.0.4)\n",
            "Building wheels for collected packages: torrequest, PySocks, stem\n",
            "  Running setup.py bdist_wheel for torrequest ... \u001b[?25l-\b \bdone\n",
            "\u001b[?25h  Stored in directory: /root/.cache/pip/wheels/db/dd/d0/b7a91fb9e5a22df60bd93460ed2d0e75c3932f00e3f464a8fc\n",
            "  Running setup.py bdist_wheel for PySocks ... \u001b[?25l-\b \bdone\n",
            "\u001b[?25h  Stored in directory: /root/.cache/pip/wheels/22/5c/b5/12e0dfdfa85bea67b23628b6425fae715c687e947a45ee3df9\n",
            "  Running setup.py bdist_wheel for stem ... \u001b[?25l-\b \b\\\b \bdone\n",
            "\u001b[?25h  Stored in directory: /root/.cache/pip/wheels/53/87/fe/a9dba915911aa765971f264b9038b0b630771575fc1a2407ce\n",
            "Successfully built torrequest PySocks stem\n",
            "Installing collected packages: PySocks, stem, torrequest\n",
            "Successfully installed PySocks-1.6.8 stem-1.7.0 torrequest-0.1.0\n"
          ],
          "name": "stdout"
        }
      ]
    },
    {
      "metadata": {
        "id": "e2wzCoKiiSua",
        "colab_type": "code",
        "colab": {
          "base_uri": "https://localhost:8080/",
          "height": 577
        },
        "outputId": "793ff4ed-7b2f-43c6-f07a-316e05ddd822"
      },
      "cell_type": "code",
      "source": [
        "!pip install insta_api"
      ],
      "execution_count": 3,
      "outputs": [
        {
          "output_type": "stream",
          "text": [
            "Collecting insta_api\n",
            "  Downloading https://files.pythonhosted.org/packages/e8/47/f8549b1f9f7c0126f3fd74b1c84007ae4df86dd487d29aa5456386044a81/insta_api-0.2.1.tar.gz\n",
            "Collecting requests>=2.19.1 (from insta_api)\n",
            "\u001b[?25l  Downloading https://files.pythonhosted.org/packages/ff/17/5cbb026005115301a8fb2f9b0e3e8d32313142fe8b617070e7baad20554f/requests-2.20.1-py2.py3-none-any.whl (57kB)\n",
            "\u001b[K    100% |████████████████████████████████| 61kB 5.5MB/s \n",
            "\u001b[?25hCollecting requests-toolbelt>=0.8.0 (from insta_api)\n",
            "\u001b[?25l  Downloading https://files.pythonhosted.org/packages/97/8a/d710f792d6f6ecc089c5e55b66e66c3f2f35516a1ede5a8f54c13350ffb0/requests_toolbelt-0.8.0-py2.py3-none-any.whl (54kB)\n",
            "\u001b[K    100% |████████████████████████████████| 61kB 7.9MB/s \n",
            "\u001b[?25hCollecting log3>=0.1.6 (from insta_api)\n",
            "  Downloading https://files.pythonhosted.org/packages/6c/96/d9fa4a3e2a2cfe1713611b921d951b1a364951f545233cd247a0c444207e/log3-0.1.6.tar.gz\n",
            "Requirement already satisfied: idna<2.8,>=2.5 in /usr/local/lib/python2.7/dist-packages (from requests>=2.19.1->insta_api) (2.6)\n",
            "Requirement already satisfied: urllib3<1.25,>=1.21.1 in /usr/local/lib/python2.7/dist-packages (from requests>=2.19.1->insta_api) (1.22)\n",
            "Requirement already satisfied: certifi>=2017.4.17 in /usr/local/lib/python2.7/dist-packages (from requests>=2.19.1->insta_api) (2018.10.15)\n",
            "Requirement already satisfied: chardet<3.1.0,>=3.0.2 in /usr/local/lib/python2.7/dist-packages (from requests>=2.19.1->insta_api) (3.0.4)\n",
            "Collecting colorama (from log3>=0.1.6->insta_api)\n",
            "  Downloading https://files.pythonhosted.org/packages/0a/93/6e8289231675d561d476d656c2ee3a868c1cca207e16c118d4503b25e2bf/colorama-0.4.0-py2.py3-none-any.whl\n",
            "Building wheels for collected packages: insta-api, log3\n",
            "  Running setup.py bdist_wheel for insta-api ... \u001b[?25l-\b \bdone\n",
            "\u001b[?25h  Stored in directory: /root/.cache/pip/wheels/9a/1d/82/0185a9c318cf805364de562d644fc5ca824f802de68da99e7f\n",
            "  Running setup.py bdist_wheel for log3 ... \u001b[?25l-\b \bdone\n",
            "\u001b[?25h  Stored in directory: /root/.cache/pip/wheels/8b/5d/9f/7c17b117a4e23dfb33565f1d701ed2b0b9d2bb9f9b34dd7eba\n",
            "Successfully built insta-api log3\n",
            "\u001b[31mgoogle-colab 0.0.1a1 has requirement requests~=2.18.0, but you'll have requests 2.20.1 which is incompatible.\u001b[0m\n",
            "\u001b[31mspacy 2.0.16 has requirement numpy>=1.15.0, but you'll have numpy 1.14.6 which is incompatible.\u001b[0m\n",
            "Installing collected packages: requests, requests-toolbelt, colorama, log3, insta-api\n",
            "  Found existing installation: requests 2.18.4\n",
            "    Uninstalling requests-2.18.4:\n",
            "      Successfully uninstalled requests-2.18.4\n",
            "Successfully installed colorama-0.4.0 insta-api-0.2.1 log3-0.1.6 requests-2.20.1 requests-toolbelt-0.8.0\n"
          ],
          "name": "stdout"
        }
      ]
    },
    {
      "metadata": {
        "id": "S6g4c5ZOPAeO",
        "colab_type": "code",
        "outputId": "f4a273a9-e3a9-4fd0-ec64-5fd6c8e3ccd0",
        "colab": {
          "base_uri": "https://localhost:8080/",
          "height": 36
        }
      },
      "cell_type": "code",
      "source": [
        "!curl 'https://api.ipify.org?format=json'"
      ],
      "execution_count": 7,
      "outputs": [
        {
          "output_type": "stream",
          "text": [
            "{\"ip\":\"104.198.98.189\"}"
          ],
          "name": "stdout"
        }
      ]
    },
    {
      "metadata": {
        "id": "W_31HC3_MRwq",
        "colab_type": "text"
      },
      "cell_type": "markdown",
      "source": [
        "# **TEST AGAIN** :)"
      ]
    },
    {
      "metadata": {
        "id": "p5vnshcssoRz",
        "colab_type": "code",
        "outputId": "b9d8b196-eecb-4976-bf04-9ab1fe033d5c",
        "colab": {
          "base_uri": "https://localhost:8080/",
          "height": 335
        }
      },
      "cell_type": "code",
      "source": [
        "!pip install fake_useragent\n",
        "!pip install faker"
      ],
      "execution_count": 3,
      "outputs": [
        {
          "output_type": "stream",
          "text": [
            "Collecting fake_useragent\n",
            "  Using cached https://files.pythonhosted.org/packages/d1/79/af647635d6968e2deb57a208d309f6069d31cb138066d7e821e575112a80/fake-useragent-0.1.11.tar.gz\n",
            "Building wheels for collected packages: fake-useragent\n",
            "  Running setup.py bdist_wheel for fake-useragent ... \u001b[?25l-\b \bdone\n",
            "\u001b[?25h  Stored in directory: /root/.cache/pip/wheels/5e/63/09/d1dc15179f175357d3f5c00cbffbac37f9e8690d80545143ff\n",
            "Successfully built fake-useragent\n",
            "Installing collected packages: fake-useragent\n",
            "Successfully installed fake-useragent-0.1.11\n",
            "Collecting faker\n",
            "  Using cached https://files.pythonhosted.org/packages/8e/fb/29b3dd4b0332db634ed38ceefdb4f93797837cbe67f57c2c04cc1e3d9b55/Faker-1.0.0-py2.py3-none-any.whl\n",
            "Requirement already satisfied: six>=1.10 in /usr/local/lib/python3.6/dist-packages (from faker) (1.11.0)\n",
            "Requirement already satisfied: python-dateutil>=2.4 in /usr/local/lib/python3.6/dist-packages (from faker) (2.5.3)\n",
            "Collecting text-unidecode==1.2 (from faker)\n",
            "  Using cached https://files.pythonhosted.org/packages/79/42/d717cc2b4520fb09e45b344b1b0b4e81aa672001dd128c180fabc655c341/text_unidecode-1.2-py2.py3-none-any.whl\n",
            "Installing collected packages: text-unidecode, faker\n",
            "Successfully installed faker-1.0.0 text-unidecode-1.2\n"
          ],
          "name": "stdout"
        }
      ]
    },
    {
      "metadata": {
        "id": "UBM7RfdBSGJq",
        "colab_type": "code",
        "colab": {
          "base_uri": "https://localhost:8080/",
          "height": 36
        },
        "outputId": "74bfe12d-1b55-4481-b570-0be6b4f55b63"
      },
      "cell_type": "code",
      "source": [
        "with open(\"TESTCOME1.txt\", \"w\") as f:\n",
        "     f.write(\"START:\"+ \"\\n\") # write the new line before\n",
        "print(\"Create\")"
      ],
      "execution_count": 15,
      "outputs": [
        {
          "output_type": "stream",
          "text": [
            "Create\n"
          ],
          "name": "stdout"
        }
      ]
    },
    {
      "metadata": {
        "id": "vJFUdGZlL28Z",
        "colab_type": "code",
        "colab": {}
      },
      "cell_type": "code",
      "source": [
        "!curl 'https://api.ipify.org?format=json'\n",
        "#import requests\n",
        "import hmac\n",
        "import hashlib\n",
        "import random\n",
        "import string\n",
        "import json\n",
        "import argparse\n",
        "\n",
        "\n",
        "#from urllib.request import Request, urlopen\n",
        "from bs4 import BeautifulSoup\n",
        "from fake_useragent import UserAgent\n",
        "#import factory\n",
        "from faker import Faker\n",
        "#import faker\n",
        "\n",
        "from time import sleep\n",
        "\n",
        "from torrequest import TorRequest\n",
        "\n",
        "#import random\n",
        "#import requests\n",
        "f = Faker('fa_IR')\n",
        "proxies = []\n",
        "\n",
        "def random_proxy():\n",
        "  return random.randint(0, len(proxies) - 1)\n",
        "\n",
        "def HMAC(text):\n",
        "    key = '3f0a7d75e094c7385e3dbaa026877f2e067cbd1a4dbcf3867748f6b26f257117'\n",
        "    hash = hmac.new(key,msg=text,digestmod=hashlib.sha256)\n",
        "    return hash.hexdigest()\n",
        "\n",
        "def randomString(size):\n",
        "    chars = string.ascii_lowercase + string.digits\n",
        "    return ''.join(random.choice(chars) for _ in range(size))\n",
        "\n",
        "\n",
        "\n",
        "def main():  \n",
        "  with TorRequest(proxy_port=9050, ctrl_port=9051, password=None) as tr:\n",
        "    \n",
        "    print(type(tr.ctrl))            # a stem.control.Controller object\n",
        "    tr.ctrl.signal('CLEARDNSCACHE') # see Stem docs for the full API\n",
        "\n",
        "    print(type(tr.session))         # a requests.Session object\n",
        "    c = cookielib.CookieJar()\n",
        "    tr.session.cookies.update(c)    # see Requests docs for the full API\n",
        "    tr.reset_identity()\n",
        "    q_name= f.name()+ '1'\n",
        "    q_username= f.user_name()+'_drsuger1'\n",
        "    q_email= 'drsuger_' + f.email()\n",
        "    q_password= 'drsuger1234'\n",
        "    \n",
        "    print(q_name)\n",
        "    print(q_username)\n",
        "    print (q_email)\n",
        "    print (q_password)\n",
        "\n",
        "    username=q_username\n",
        "    name=q_name\n",
        "    password=q_password\n",
        "    email= q_email\n",
        "    getHeaders = {'User-Agent':'Instagram 73.0.0.0.18 Android (21/5.0.2; 480dpi; 1080x1776; LGE/Google; Nexus 5; hammerhead; hammerhead; en_US)',\n",
        "               'Accept':'text/html,application/xhtml+xml,application/xml;q=0.9,image/webp,*/*;q=0.8',\n",
        "               'Accept-Encoding':'gzip, deflate, sdch',\n",
        "               'Accept-Language':'en-US,en;q=0.8',\n",
        "               'upgrade-insecure-requests':'1'}\n",
        "\n",
        "#    s = requests.Session()\n",
        "    tr.get('https://instagram.com',headers=getHeaders)\n",
        "    #prit(s.text)\n",
        "    guid = randomString(8) + '-' + randomString(4) + \"-\" + randomString(4) + '-' + randomString(4) + '-' +randomString(12)\n",
        "    device_id = 'android-' + str(HMAC(str(random.randint(1000,9999))))[0:min(64,16)]\n",
        "\n",
        "    information = {'username':username,'first_name':name,'password':password,'email':email,'device_id':device_id,'guid':guid}\n",
        "    js = json.dumps(information)\n",
        "    payload = {'signed_body': HMAC(js) + '.' + js,'ig_sig_key_version':'4'}\n",
        "    postHeaders = {'Host':'i.instagram.com',\n",
        "                  'User-Agent':'Instagram 73.0.0.0.18 Android (21/5.0.2; 480dpi; 1080x1776; LGE/Google; Nexus 5; hammerhead; hammerhead; en_US)',\n",
        "                  'Accept-Language':'en-US',\n",
        "                  'Accept-Encoding':'gzip',\n",
        "                  'Cookie2':'$Version=1',\n",
        "                  'X-IG-Connection-Type':'mobile(UMTS)',\n",
        "                  'X-IG-Capabilities':'BQ=='\n",
        "                  }\n",
        "    #tr.headers = {'User-Agent': 'Instagram 8.1.1 Android (21/5.0.2; 480dpi; 1080x1776; LGE/Google; Nexus 5; hammerhead; hammerhead; en_US)'}\n",
        "    ##Hossein###################################################################\n",
        "    ua = UserAgent() # From here we generate a random user agent\n",
        "    #proxies = [] # Will contain proxies [ip, port]\n",
        "\n",
        "#    proxies_req = Request('https://www.sslproxies.org/')\n",
        "#    proxies_req.add_header('User-Agent', ua.random)\n",
        "#    proxies_doc = urlopen(proxies_req).read().decode('utf8')\n",
        "\n",
        "#    soup = BeautifulSoup(proxies_doc, 'html.parser')\n",
        "#   proxies_table = soup.find(id='proxylisttable')\n",
        "\n",
        "    # Save proxies in the array\n",
        " #   for row in proxies_table.tbody.find_all('tr'):\n",
        " #     proxies.append({\n",
        " #       'ip':   row.find_all('td')[0].string,\n",
        " #       'port': row.find_all('td')[1].string\n",
        " #     })\n",
        "\n",
        "    # Choose a random proxy\n",
        "#    proxy_index = random_proxy()\n",
        "#    proxy = proxies[proxy_index]\n",
        "\n",
        " #   q_http= 'http://' + proxy['ip'] + ':' + proxy['port'] \n",
        " #   q_https= 'https://' + proxy['ip'] + ':' + proxy['port'] \n",
        " #   print ('proxy generate: ' + q_http)\n",
        "    ############################################################################\n",
        "    \n",
        " #   proxies1 = {\"http\": q_http , \"https\": q_https}\n",
        "\n",
        "    #url = 'https://i.instagram.com/api/v1/accounts/create/'\n",
        "    #cookies = dict(cookies_are='working')\n",
        "\n",
        "    #qqqqq = s.get(url, cookies=cookies)\n",
        "    #print(qqqqq.text)\n",
        "    x = tr.post('https://i.instagram.com/api/v1/accounts/create/',headers=postHeaders,data=payload)\n",
        "    q= tr.get(\"http://httpbin.org/ip\")\n",
        "    print ('Proxy set on: ' + q.text)\n",
        "    #print (x)\n",
        "    result = json.loads(x.content)\n",
        "    print (result)\n",
        "    if result['status'] != 'fail':\n",
        "      if result['account_created'] == True:\n",
        "         with open(\"TESTCOME1.txt\", \"r+\") as ww1:\n",
        "            old = ww1.read() # read everything in the file\n",
        "            ww1.seek(0) # rewind\n",
        "            ww1.write(q_username + \"\\n\" + old) # write the new line before\n",
        "            print(\"save\")\n",
        "   # sleep(5)\n",
        "   # x = tr.post('https://i.instagram.com/api/v1/accounts/create/',headers=postHeaders,data=payload)\n",
        "   # result = json.loads(x.content)\n",
        "   # print (result)\n",
        "    qcount=0\n",
        "    while result['status'] == 'fail':\n",
        "      #  if result['account_created'] == False:\n",
        "        if qcount == 4:\n",
        "            break\n",
        "        else:\n",
        "            qcount=qcount+1\n",
        "            print ( '#' + str(qcount) + ' Error: __ I will try again__________')\n",
        "            tr.reset_identity()\n",
        "            q= tr.get(\"http://httpbin.org/ip\")\n",
        "            print ('Proxy set on: ' + q.text)\n",
        "            c = cookielib.CookieJar()\n",
        "            tr.session.cookies.update(c)    # see Requests docs for the full API\n",
        "            sleep(1)\n",
        "            x = tr.post('https://i.instagram.com/api/v1/accounts/create/',headers=postHeaders,data=payload)\n",
        "            result = json.loads(x.content)\n",
        "            print (result)\n",
        "            continue\n",
        "    else:\n",
        "         if result['account_created'] == True:\n",
        "            print ('Account has been created successfully')\n",
        "            with open(\"TESTCOME1.txt\", \"r+\") as ww:\n",
        "                old = ww.read() # read everything in the file\n",
        "                ww.seek(0) # rewind\n",
        "                ww.write(q_username + \"\\n\" + old) # write the new line before\n",
        "                print(\"save\")\n",
        "         #   break\n",
        "        \n",
        "   \n",
        "    #tr.reset_identity()\n",
        "    #sleep(20)\n",
        "    #x = tr.post('https://i.instagram.com/api/v1/accounts/create/',headers=postHeaders,data=payload)\n",
        "    #result = json.loads(x.content)\n",
        "    #1print (result)\n",
        "   \n",
        "  ## if result['status'] != 'fail':\n",
        "  #      if result['account_created'] == True:\n",
        "  #          print ('Account has been created successfully')\n",
        "  #  else:\n",
        "  #      print ('Error:')\n",
        "  #      tr.reset_identity()\n",
        "  #      c = cookielib.CookieJar()\n",
        "  #      tr.session.cookies.update(c)    # see Requests docs for the full API\n",
        "  #      sleep(10)\n",
        "  #      x = tr.post('https://i.instagram.com/api/v1/accounts/create/',headers=postHeaders,data=payload)\n",
        "  #      result = json.loads(x.content)\n",
        "  #      print (result)\n",
        "\n",
        "\n",
        "if __name__ == '__main__':\n",
        "  for qwwww in range(25):\n",
        "    main()\n",
        "    sleep(1)\n",
        "    print('###' + str(qwwww) + '________________________________________________________') "
      ],
      "execution_count": 0,
      "outputs": []
    },
    {
      "metadata": {
        "id": "s8VHCT-yWXOI",
        "colab_type": "code",
        "outputId": "835274e2-dac2-4fe9-c4ac-ab411bc882ef",
        "colab": {
          "base_uri": "https://localhost:8080/",
          "height": 110
        }
      },
      "cell_type": "code",
      "source": [
        "i = 0\n",
        "while i < 6:\n",
        "  i += 1\n",
        "  if i != 3:\n",
        "    print(i)\n",
        "  else:\n",
        "    continue\n",
        "\n",
        "# Note that number 3 is missing in the result\n"
      ],
      "execution_count": 0,
      "outputs": [
        {
          "output_type": "stream",
          "text": [
            "1\n",
            "2\n",
            "4\n",
            "5\n",
            "6\n"
          ],
          "name": "stdout"
        }
      ]
    },
    {
      "metadata": {
        "id": "3sE_8PYLq0B8",
        "colab_type": "code",
        "outputId": "bf4ef805-7658-42ae-8b85-fa75fb8c5c58",
        "colab": {
          "base_uri": "https://localhost:8080/",
          "height": 36
        }
      },
      "cell_type": "code",
      "source": [
        "!pip install ocookie"
      ],
      "execution_count": 8,
      "outputs": [
        {
          "output_type": "stream",
          "text": [
            "Requirement already satisfied: ocookie in /usr/local/lib/python3.6/dist-packages (0.1.1)\n"
          ],
          "name": "stdout"
        }
      ]
    },
    {
      "metadata": {
        "id": "_W76Fl9vq4ie",
        "colab_type": "code",
        "outputId": "e1e86460-7b8a-42d1-ce41-f0ff32e66c3b",
        "colab": {
          "base_uri": "https://localhost:8080/",
          "height": 73
        }
      },
      "cell_type": "code",
      "source": [
        "!pip install cookielib3"
      ],
      "execution_count": 9,
      "outputs": [
        {
          "output_type": "stream",
          "text": [
            "Collecting cookielib3\n",
            "\u001b[31m  Could not find a version that satisfies the requirement cookielib3 (from versions: )\u001b[0m\n",
            "\u001b[31mNo matching distribution found for cookielib3\u001b[0m\n"
          ],
          "name": "stdout"
        }
      ]
    },
    {
      "metadata": {
        "id": "hHpqfeQDAvDv",
        "colab_type": "code",
        "outputId": "046076b6-9a4e-4144-8860-bbe9bd8eef59",
        "colab": {
          "base_uri": "https://localhost:8080/",
          "height": 110
        }
      },
      "cell_type": "code",
      "source": [
        "!apt-get install tor"
      ],
      "execution_count": 3,
      "outputs": [
        {
          "output_type": "stream",
          "text": [
            "Reading package lists... Done\n",
            "Building dependency tree       \n",
            "Reading state information... Done\n",
            "tor is already the newest version (0.3.2.10-1).\n",
            "0 upgraded, 0 newly installed, 0 to remove and 5 not upgraded.\n"
          ],
          "name": "stdout"
        }
      ]
    },
    {
      "metadata": {
        "id": "3bizgptLA9Em",
        "colab_type": "code",
        "outputId": "e42d551f-4cd4-4028-fe12-c05e96623070",
        "colab": {
          "base_uri": "https://localhost:8080/",
          "height": 149
        }
      },
      "cell_type": "code",
      "source": [
        "!pip install requests[socks]"
      ],
      "execution_count": 11,
      "outputs": [
        {
          "output_type": "stream",
          "text": [
            "Requirement already satisfied: requests[socks] in /usr/local/lib/python2.7/dist-packages (2.20.1)\n",
            "Requirement already satisfied: idna<2.8,>=2.5 in /usr/local/lib/python2.7/dist-packages (from requests[socks]) (2.6)\n",
            "Requirement already satisfied: urllib3<1.25,>=1.21.1 in /usr/local/lib/python2.7/dist-packages (from requests[socks]) (1.22)\n",
            "Requirement already satisfied: certifi>=2017.4.17 in /usr/local/lib/python2.7/dist-packages (from requests[socks]) (2018.10.15)\n",
            "Requirement already satisfied: chardet<3.1.0,>=3.0.2 in /usr/local/lib/python2.7/dist-packages (from requests[socks]) (3.0.4)\n",
            "Requirement already satisfied: PySocks!=1.5.7,>=1.5.6; extra == \"socks\" in /usr/local/lib/python2.7/dist-packages (from requests[socks]) (1.6.8)\n"
          ],
          "name": "stdout"
        }
      ]
    },
    {
      "metadata": {
        "id": "EqNZId0oOMkP",
        "colab_type": "code",
        "outputId": "401262af-9b8a-4969-f6f1-fc67631d4cec",
        "colab": {
          "base_uri": "https://localhost:8080/",
          "height": 36
        }
      },
      "cell_type": "code",
      "source": [
        "!pip2 install ocookie"
      ],
      "execution_count": 10,
      "outputs": [
        {
          "output_type": "stream",
          "text": [
            "Requirement already satisfied: ocookie in /usr/local/lib/python2.7/dist-packages (0.1.1)\n"
          ],
          "name": "stdout"
        }
      ]
    },
    {
      "metadata": {
        "id": "_w63CLM0OWBc",
        "colab_type": "code",
        "outputId": "cc413cc8-0e7b-46f4-cca6-beb09109c4d9",
        "colab": {
          "base_uri": "https://localhost:8080/",
          "height": 112
        }
      },
      "cell_type": "code",
      "source": [
        "!pip install cookies"
      ],
      "execution_count": 11,
      "outputs": [
        {
          "output_type": "stream",
          "text": [
            "Collecting cookies\n",
            "  Using cached https://files.pythonhosted.org/packages/6a/60/557f84aa2db629e5124aa05408b975b1b5d0e1cec16cde0bfa06aae097d3/cookies-2.2.1-py2.py3-none-any.whl\n",
            "Installing collected packages: cookies\n",
            "Successfully installed cookies-2.2.1\n"
          ],
          "name": "stdout"
        }
      ]
    },
    {
      "metadata": {
        "id": "2gIuX_QXRRDt",
        "colab_type": "code",
        "outputId": "914164ec-44be-43f3-d15f-b4936d7dd3f6",
        "colab": {
          "base_uri": "https://localhost:8080/",
          "height": 689
        }
      },
      "cell_type": "code",
      "source": [
        "!pip install cookiejar"
      ],
      "execution_count": 12,
      "outputs": [
        {
          "output_type": "stream",
          "text": [
            "Collecting cookiejar\n",
            "  Using cached https://files.pythonhosted.org/packages/48/58/755d4e454b3324e41243bf675706c1b1b9bd8d2a3ca8fc9c5306c36c4b86/cookiejar-0.0.2-py2.py3-none-any.whl\n",
            "Collecting cookiecutter (from cookiejar)\n",
            "  Using cached https://files.pythonhosted.org/packages/16/99/1ca3a75978270288354f419e9166666801cf7e7d8df984de44a7d5d8b8d0/cookiecutter-1.6.0-py2.py3-none-any.whl\n",
            "Collecting argparse (from cookiejar)\n",
            "  Downloading https://files.pythonhosted.org/packages/f2/94/3af39d34be01a24a6e65433d19e107099374224905f1e0cc6bbe1fd22a2f/argparse-1.4.0-py2.py3-none-any.whl\n",
            "Collecting pager (from cookiejar)\n",
            "  Using cached https://files.pythonhosted.org/packages/5f/a1/95f8605e50c0ccc85ae53f63f5c4cb83b72f71fbd049a0e8259913e2cc22/pager-3.3.tar.gz\n",
            "Requirement already satisfied: requests>=2.18.0 in /usr/local/lib/python3.6/dist-packages (from cookiecutter->cookiejar) (2.18.4)\n",
            "Requirement already satisfied: future>=0.15.2 in /usr/local/lib/python3.6/dist-packages (from cookiecutter->cookiejar) (0.16.0)\n",
            "Collecting binaryornot>=0.2.0 (from cookiecutter->cookiejar)\n",
            "  Using cached https://files.pythonhosted.org/packages/24/7e/f7b6f453e6481d1e233540262ccbfcf89adcd43606f44a028d7f5fae5eb2/binaryornot-0.4.4-py2.py3-none-any.whl\n",
            "Collecting click>=5.0 (from cookiecutter->cookiejar)\n",
            "  Using cached https://files.pythonhosted.org/packages/fa/37/45185cb5abbc30d7257104c434fe0b07e5a195a6847506c074527aa599ec/Click-7.0-py2.py3-none-any.whl\n",
            "Requirement already satisfied: jinja2>=2.7 in /usr/local/lib/python3.6/dist-packages (from cookiecutter->cookiejar) (2.10)\n",
            "Collecting whichcraft>=0.4.0 (from cookiecutter->cookiejar)\n",
            "  Using cached https://files.pythonhosted.org/packages/ab/c6/eb4d1dfbb68168bb01c4394420e5e71d5851e64b910838aa0f14ebd5c7a0/whichcraft-0.5.2-py2.py3-none-any.whl\n",
            "Collecting jinja2-time>=0.1.0 (from cookiecutter->cookiejar)\n",
            "  Using cached https://files.pythonhosted.org/packages/6a/a1/d44fa38306ffa34a7e1af09632b158e13ec89670ce491f8a15af3ebcb4e4/jinja2_time-0.2.0-py2.py3-none-any.whl\n",
            "Collecting poyo>=0.1.0 (from cookiecutter->cookiejar)\n",
            "  Using cached https://files.pythonhosted.org/packages/e0/16/e00e3001007a5e416ca6a51def6f9e4be6a774bf1c8486d20466f834d113/poyo-0.4.2-py2.py3-none-any.whl\n",
            "Requirement already satisfied: certifi>=2017.4.17 in /usr/local/lib/python3.6/dist-packages (from requests>=2.18.0->cookiecutter->cookiejar) (2018.10.15)\n",
            "Requirement already satisfied: idna<2.7,>=2.5 in /usr/local/lib/python3.6/dist-packages (from requests>=2.18.0->cookiecutter->cookiejar) (2.6)\n",
            "Requirement already satisfied: chardet<3.1.0,>=3.0.2 in /usr/local/lib/python3.6/dist-packages (from requests>=2.18.0->cookiecutter->cookiejar) (3.0.4)\n",
            "Requirement already satisfied: urllib3<1.23,>=1.21.1 in /usr/local/lib/python3.6/dist-packages (from requests>=2.18.0->cookiecutter->cookiejar) (1.22)\n",
            "Requirement already satisfied: MarkupSafe>=0.23 in /usr/local/lib/python3.6/dist-packages (from jinja2>=2.7->cookiecutter->cookiejar) (1.1.0)\n",
            "Collecting arrow (from jinja2-time>=0.1.0->cookiecutter->cookiejar)\n",
            "Requirement already satisfied: python-dateutil in /usr/local/lib/python3.6/dist-packages (from arrow->jinja2-time>=0.1.0->cookiecutter->cookiejar) (2.5.3)\n",
            "Requirement already satisfied: six>=1.5 in /usr/local/lib/python3.6/dist-packages (from python-dateutil->arrow->jinja2-time>=0.1.0->cookiecutter->cookiejar) (1.11.0)\n",
            "Building wheels for collected packages: pager\n",
            "  Running setup.py bdist_wheel for pager ... \u001b[?25l-\b \bdone\n",
            "\u001b[?25h  Stored in directory: /root/.cache/pip/wheels/33/b2/86/1436bdb3db0fb8d94ed9716eab3984506a1e7d1200a6daeca9\n",
            "Successfully built pager\n",
            "Installing collected packages: binaryornot, click, whichcraft, arrow, jinja2-time, poyo, cookiecutter, argparse, pager, cookiejar\n",
            "Successfully installed argparse-1.4.0 arrow-0.12.1 binaryornot-0.4.4 click-7.0 cookiecutter-1.6.0 cookiejar-0.0.2 jinja2-time-0.2.0 pager-3.3 poyo-0.4.2 whichcraft-0.5.2\n"
          ],
          "name": "stdout"
        }
      ]
    },
    {
      "metadata": {
        "id": "u2X9Lth7QxOD",
        "colab_type": "code",
        "colab": {}
      },
      "cell_type": "code",
      "source": [
        "import cookielib"
      ],
      "execution_count": 0,
      "outputs": []
    },
    {
      "metadata": {
        "id": "ZK-XO3q1qVec",
        "colab_type": "code",
        "outputId": "b911b561-7dbc-4181-f8bb-5073bcce32e2",
        "colab": {
          "base_uri": "https://localhost:8080/",
          "height": 73
        }
      },
      "cell_type": "code",
      "source": [
        "from torrequest import TorRequest\n",
        "\n",
        "#import cookielib\n",
        "# Choose a proxy port, a control port, and a password. \n",
        "# Defaults are 9050, 9051, and None respectively. \n",
        "# If there is already a Tor process listening the specified \n",
        "# ports, TorRequest will use that one. \n",
        "# Otherwise, it will create a new Tor process, \n",
        "# and terminate it at the end.\n",
        "with TorRequest(proxy_port=9050, ctrl_port=9051, password=None) as tr:\n",
        "\n",
        "  # Specify HTTP verb and url.\n",
        "  response = tr.get('http://ipecho.net/plain')\n",
        "  print(response.text)  # not your IP address\n",
        "\n",
        "  # Send data. Use basic authentication.\n",
        "  \n",
        "\n",
        "  # Change your Tor circuit,\n",
        "  # and likely your observed IP address.\n",
        "  tr.reset_identity()\n",
        "\n",
        "  # TorRequest object also exposes the underlying Stem controller \n",
        "  # and Requests session objects for more flexibility.\n",
        "\n",
        "  print(type(tr.ctrl))            # a stem.control.Controller object\n",
        "  tr.ctrl.signal('CLEARDNSCACHE') # see Stem docs for the full API\n",
        "\n",
        "  print(type(tr.session))         # a requests.Session object\n",
        "  c = cookielib.CookieJar()\n",
        "  tr.session.cookies.update(c)    # see Requests docs for the full API"
      ],
      "execution_count": 10,
      "outputs": [
        {
          "output_type": "stream",
          "text": [
            "37.233.102.65\n",
            "<class 'stem.control.Controller'>\n",
            "<class 'requests.sessions.Session'>\n"
          ],
          "name": "stdout"
        }
      ]
    },
    {
      "metadata": {
        "id": "lp6qn5kAHtFe",
        "colab_type": "text"
      },
      "cell_type": "markdown",
      "source": [
        ""
      ]
    },
    {
      "metadata": {
        "id": "qJjW4UkvHvXa",
        "colab_type": "code",
        "colab": {}
      },
      "cell_type": "code",
      "source": [
        "!pip2 install torrequest"
      ],
      "execution_count": 0,
      "outputs": []
    },
    {
      "metadata": {
        "id": "zH70pX75HtWe",
        "colab_type": "code",
        "colab": {}
      },
      "cell_type": "code",
      "source": [
        "from torrequest import TorRequest\n",
        "\n",
        "with TorRequest() as tr:\n",
        "  response = tr.get('http://ipecho.net/plain')\n",
        "  print(response.text)  # not your IP address"
      ],
      "execution_count": 0,
      "outputs": []
    },
    {
      "metadata": {
        "id": "zIIegXx9mbYT",
        "colab_type": "text"
      },
      "cell_type": "markdown",
      "source": [
        "# **LOGIN**"
      ]
    },
    {
      "metadata": {
        "id": "FVn-w5AjmW32",
        "colab_type": "code",
        "colab": {
          "base_uri": "https://localhost:8080/",
          "height": 205
        },
        "outputId": "8f39fbf4-c010-4707-dad8-8a47c326998e"
      },
      "cell_type": "code",
      "source": [
        "!pip install insta_api"
      ],
      "execution_count": 11,
      "outputs": [
        {
          "output_type": "stream",
          "text": [
            "Requirement already satisfied: insta_api in /usr/local/lib/python2.7/dist-packages (0.2.1)\n",
            "Requirement already satisfied: log3>=0.1.6 in /usr/local/lib/python2.7/dist-packages (from insta_api) (0.1.6)\n",
            "Requirement already satisfied: requests>=2.19.1 in /usr/local/lib/python2.7/dist-packages (from insta_api) (2.20.1)\n",
            "Requirement already satisfied: requests-toolbelt>=0.8.0 in /usr/local/lib/python2.7/dist-packages (from insta_api) (0.8.0)\n",
            "Requirement already satisfied: colorama in /usr/local/lib/python2.7/dist-packages (from log3>=0.1.6->insta_api) (0.4.0)\n",
            "Requirement already satisfied: idna<2.8,>=2.5 in /usr/local/lib/python2.7/dist-packages (from requests>=2.19.1->insta_api) (2.6)\n",
            "Requirement already satisfied: urllib3<1.25,>=1.21.1 in /usr/local/lib/python2.7/dist-packages (from requests>=2.19.1->insta_api) (1.22)\n",
            "Requirement already satisfied: certifi>=2017.4.17 in /usr/local/lib/python2.7/dist-packages (from requests>=2.19.1->insta_api) (2018.10.15)\n",
            "Requirement already satisfied: chardet<3.1.0,>=3.0.2 in /usr/local/lib/python2.7/dist-packages (from requests>=2.19.1->insta_api) (3.0.4)\n"
          ],
          "name": "stdout"
        }
      ]
    },
    {
      "metadata": {
        "id": "GaDzoyT3mZEV",
        "colab_type": "code",
        "colab": {
          "base_uri": "https://localhost:8080/",
          "height": 139
        },
        "outputId": "652932a8-4153-432d-9c6c-79cb7ac59ea5"
      },
      "cell_type": "code",
      "source": [
        "from insta_api import *\n",
        "\n",
        "insta = InstaAPI()\n",
        "insta.login('sarait20', '87103208800000')\n",
        "insta.follow('sarait2020')\n",
        "#insta.like('BqMECw_nC0r')\n",
        "#https://www.instagram.com/p/BqMECw_nC0r/?utm_source=ig_share_sheet&igshid=16ng0ob0mmofl\n",
        "insta.logout()"
      ],
      "execution_count": 13,
      "outputs": [
        {
          "output_type": "error",
          "ename": "SyntaxError",
          "evalue": "ignored",
          "traceback": [
            "\u001b[0;36m  File \u001b[0;32m\"/usr/local/lib/python2.7/dist-packages/insta_api/insta_api.py\"\u001b[0;36m, line \u001b[0;32m125\u001b[0m\n\u001b[0;31m    headers = {**self.ses.headers, **headers}\u001b[0m\n\u001b[0m                ^\u001b[0m\n\u001b[0;31mSyntaxError\u001b[0m\u001b[0;31m:\u001b[0m invalid syntax\n"
          ]
        }
      ]
    }
  ]
}